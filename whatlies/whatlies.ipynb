{
 "cells": [
  {
   "cell_type": "markdown",
   "metadata": {},
   "source": [
    "# `whatlies` demo\n",
    "\n",
    "We're going to understand \"what lies\" in word embeddings."
   ]
  },
  {
   "cell_type": "code",
   "execution_count": 17,
   "metadata": {},
   "outputs": [],
   "source": [
    "%load_ext autoreload\n",
    "%autoreload 2"
   ]
  },
  {
   "cell_type": "code",
   "execution_count": 18,
   "metadata": {},
   "outputs": [],
   "source": [
    "from whatlies import Embedding, EmbeddingSet\n",
    "import matplotlib.pylab as plt"
   ]
  },
  {
   "cell_type": "code",
   "execution_count": 19,
   "metadata": {},
   "outputs": [],
   "source": [
    "man   = Embedding(\"man\", [0.5, 0.1])\n",
    "woman = Embedding(\"woman\", [0.5, 0.6])\n",
    "king  = Embedding(\"king\", [0.7, 0.33])\n",
    "queen = Embedding(\"queen\", [0.7, 0.9])"
   ]
  },
  {
   "cell_type": "code",
   "execution_count": 20,
   "metadata": {},
   "outputs": [
    {
     "data": {
      "image/png": "[encoded data removed]",
      "text/plain": [
       "<Figure size 432x432 with 1 Axes>"
      ]
     },
     "metadata": {
      "needs_background": "light"
     },
     "output_type": "display_data"
    }
   ],
   "source": [
    "plt.figure(figsize=(6, 6))\n",
    "\n",
    "man.plot(kind=\"arrow\", color=\"blue\")\n",
    "woman.plot(kind=\"arrow\", color=\"red\")\n",
    "king.plot(kind=\"arrow\", color=\"blue\")\n",
    "queen.plot(kind=\"arrow\", color=\"red\")\n",
    "\n",
    "(queen - king).plot(kind=\"arrow\", color=\"pink\", show_ops=True)\n",
    "(man | (queen - king)).plot(kind=\"arrow\", color=\"pink\", show_ops=True)\n",
    "\n",
    "plt.axis('off');"
   ]
  },
  {
   "cell_type": "markdown",
   "metadata": {},
   "source": [
    "# Plotting High Dimensions\n",
    "\n",
    "Note that you need to install the spaCy language model before you can run this. \n",
    "\n",
    "```\n",
    "python -m spacy install en_core_web_md\n",
    "```"
   ]
  },
  {
   "cell_type": "code",
   "execution_count": 21,
   "metadata": {},
   "outputs": [],
   "source": [
    "import spacy \n",
    "nlp = spacy.load('en_core_web_md')"
   ]
  },
  {
   "cell_type": "code",
   "execution_count": 22,
   "metadata": {},
   "outputs": [
    {
     "data": {
      "image/png": "[encoded data removed]",
      "text/plain": [
       "<Figure size 432x288 with 1 Axes>"
      ]
     },
     "metadata": {
      "needs_background": "light"
     },
     "output_type": "display_data"
    }
   ],
   "source": [
    "words = [\"cat\", \"dog\", \"fish\", \"kitten\", \"man\", \"woman\", \"king\", \"queen\", \"doctor\", \"nurse\"]\n",
    "tokens = {t.text: Embedding(t.text, t.vector) for t in nlp.pipe(words)}\n",
    "\n",
    "x_axis = tokens['man']\n",
    "y_axis = tokens['woman']\n",
    "\n",
    "for name, t in tokens.items():\n",
    "    t.plot(x_axis=x_axis, y_axis=y_axis).plot(kind=\"text\", x_axis=x_axis, y_axis=y_axis)"
   ]
  },
  {
   "cell_type": "markdown",
   "metadata": {},
   "source": [
    "# Using Language Backends \n",
    "\n",
    "We can manually create embedding sets, but we can also fetch them from a language backend."
   ]
  },
  {
   "cell_type": "code",
   "execution_count": 47,
   "metadata": {},
   "outputs": [],
   "source": [
    "from whatlies.language import SpacyLanguage\n",
    "\n",
    "lang = SpacyLanguage(\"en_core_web_md\")"
   ]
  },
  {
   "cell_type": "code",
   "execution_count": 48,
   "metadata": {},
   "outputs": [],
   "source": [
    "words = [\"prince\", \"princess\", \"nurse\", \"doctor\", \"banker\", \"man\", \"woman\",\n",
    "         \"cousin\", \"neice\", \"king\", \"queen\", \"dude\", \"guy\", \"gal\", \"fire\",\n",
    "         \"dog\", \"cat\", \"mouse\", \"red\", \"bluee\", \"green\", \"yellow\", \"water\",\n",
    "         \"person\", \"family\", \"brother\", \"sister\"]\n",
    "\n",
    "emb = lang[words]"
   ]
  },
  {
   "cell_type": "code",
   "execution_count": 49,
   "metadata": {},
   "outputs": [],
   "source": [
    "from whatlies.transformers import Pca, Umap\n",
    "\n",
    "words1 = [\"dog\", \"cat\", \"mouse\", \"deer\", \"elephant\", \"zebra\", \"fish\", \"rabbit\", \"rat\", \n",
    "          \"tomato\", \"banana\", \"coffee\", \"tea\", \"apple\", \"union\"]\n",
    "\n",
    "words2 = [\"run\", \"swim\", \"dance\", \"sit\", \"eat\", \"hear\", \"look\", \"run\", \"stand\"]"
   ]
  },
  {
   "cell_type": "code",
   "execution_count": 50,
   "metadata": {},
   "outputs": [],
   "source": [
    "umap = Umap(2)"
   ]
  },
  {
   "cell_type": "code",
   "execution_count": 51,
   "metadata": {},
   "outputs": [
    {
     "data": {
      "text/plain": [
       "dict_keys(['dog', 'cat', 'mouse', 'deer', 'elephant', 'zebra', 'fish', 'rabbit', 'rat', 'tomato', 'banana', 'coffee', 'tea', 'apple', 'union', 'umap_0', 'umap_1'])"
      ]
     },
     "execution_count": 51,
     "metadata": {},
     "output_type": "execute_result"
    }
   ],
   "source": [
    "lang[words1].transform(umap).embeddings.keys()"
   ]
  },
  {
   "cell_type": "code",
   "execution_count": 52,
   "metadata": {},
   "outputs": [
    {
     "data": {
      "text/html": [
       "\n",
       "<div id=\"altair-viz-10e15b5fe79d4ce39a3fdcb235fd2193\"></div>\n",
       "<script type=\"text/javascript\">\n",
       "  (function(spec, embedOpt){\n",
       "    let outputDiv = document.currentScript.previousElementSibling;\n",
       "    if (outputDiv.id !== \"altair-viz-10e15b5fe79d4ce39a3fdcb235fd2193\") {\n",
       "      outputDiv = document.getElementById(\"altair-viz-10e15b5fe79d4ce39a3fdcb235fd2193\");\n",
       "    }\n",
       "    const paths = {\n",
       "      \"vega\": \"https://cdn.jsdelivr.net/npm//vega@5?noext\",\n",
       "      \"vega-lib\": \"https://cdn.jsdelivr.net/npm//vega-lib?noext\",\n",
       "      \"vega-lite\": \"https://cdn.jsdelivr.net/npm//vega-lite@4.8.1?noext\",\n",
       "      \"vega-embed\": \"https://cdn.jsdelivr.net/npm//vega-embed@6?noext\",\n",
       "    };\n",
       "\n",
       "    function loadScript(lib) {\n",
       "      return new Promise(function(resolve, reject) {\n",
       "        var s = document.createElement('script');\n",
       "        s.src = paths[lib];\n",
       "        s.async = true;\n",
       "        s.onload = () => resolve(paths[lib]);\n",
       "        s.onerror = () => reject(`Error loading script: ${paths[lib]}`);\n",
       "        document.getElementsByTagName(\"head\")[0].appendChild(s);\n",
       "      });\n",
       "    }\n",
       "\n",
       "    function showError(err) {\n",
       "      outputDiv.innerHTML = `<div class=\"error\" style=\"color:red;\">${err}</div>`;\n",
       "      throw err;\n",
       "    }\n",
       "\n",
       "    function displayChart(vegaEmbed) {\n",
       "      vegaEmbed(outputDiv, spec, embedOpt)\n",
       "        .catch(err => showError(`Javascript Error: ${err.message}<br>This usually means there's a typo in your chart specification. See the javascript console for the full traceback.`));\n",
       "    }\n",
       "\n",
       "    if(typeof define === \"function\" && define.amd) {\n",
       "      requirejs.config({paths});\n",
       "      require([\"vega-embed\"], displayChart, err => showError(`Error loading script: ${err.message}`));\n",
       "    } else if (typeof vegaEmbed === \"function\") {\n",
       "      displayChart(vegaEmbed);\n",
       "    } else {\n",
       "      loadScript(\"vega\")\n",
       "        .then(() => loadScript(\"vega-lite\"))\n",
       "        .then(() => loadScript(\"vega-embed\"))\n",
       "        .catch(showError)\n",
       "        .then(() => displayChart(vegaEmbed));\n",
       "    }\n",
       "  })({\"config\": {\"view\": {\"continuousWidth\": 400, \"continuousHeight\": 300}}, \"layer\": [{\"mark\": {\"type\": \"circle\", \"size\": 60}, \"encoding\": {\"color\": {\"type\": \"nominal\", \"field\": \"group\"}, \"tooltip\": [{\"type\": \"nominal\", \"field\": \"name\"}, {\"type\": \"nominal\", \"field\": \"original\"}], \"x\": {\"type\": \"quantitative\", \"axis\": {\"title\": \"umap_0\"}, \"field\": \"x_axis\"}, \"y\": {\"type\": \"quantitative\", \"axis\": {\"title\": \"umap_1\"}, \"field\": \"y_axis\"}}, \"selection\": {\"selector007\": {\"type\": \"interval\", \"bind\": \"scales\", \"encodings\": [\"x\", \"y\"]}}, \"title\": \"umap_0 vs. umap_1\"}, {\"mark\": {\"type\": \"text\", \"color\": \"black\", \"dx\": -15, \"dy\": 3}, \"encoding\": {\"text\": {\"type\": \"nominal\", \"field\": \"original\"}, \"x\": {\"type\": \"quantitative\", \"axis\": {\"title\": \"umap_0\"}, \"field\": \"x_axis\"}, \"y\": {\"type\": \"quantitative\", \"axis\": {\"title\": \"umap_1\"}, \"field\": \"y_axis\"}}}], \"data\": {\"name\": \"data-3a20d1f067643eb0e3b3697050f10f88\"}, \"$schema\": \"https://vega.github.io/schema/vega-lite/v4.8.1.json\", \"datasets\": {\"data-3a20d1f067643eb0e3b3697050f10f88\": [{\"x_axis\": -6.902797698974609, \"y_axis\": 6.1457014083862305, \"name\": \"dog\", \"original\": \"dog\", \"group\": \"group-one\"}, {\"x_axis\": -7.396236896514893, \"y_axis\": 6.614112377166748, \"name\": \"cat\", \"original\": \"cat\", \"group\": \"group-one\"}, {\"x_axis\": -8.376266479492188, \"y_axis\": 7.18346643447876, \"name\": \"mouse\", \"original\": \"mouse\", \"group\": \"group-one\"}, {\"x_axis\": -7.7808990478515625, \"y_axis\": 5.780459880828857, \"name\": \"deer\", \"original\": \"deer\", \"group\": \"group-one\"}, {\"x_axis\": -7.633299827575684, \"y_axis\": 4.611701965332031, \"name\": \"elephant\", \"original\": \"elephant\", \"group\": \"group-one\"}, {\"x_axis\": -8.208343505859375, \"y_axis\": 5.318639755249023, \"name\": \"zebra\", \"original\": \"zebra\", \"group\": \"group-one\"}, {\"x_axis\": -7.233815670013428, \"y_axis\": 5.408714771270752, \"name\": \"fish\", \"original\": \"fish\", \"group\": \"group-one\"}, {\"x_axis\": -8.251108169555664, \"y_axis\": 6.190132141113281, \"name\": \"rabbit\", \"original\": \"rabbit\", \"group\": \"group-one\"}, {\"x_axis\": -8.04995059967041, \"y_axis\": 6.806764602661133, \"name\": \"rat\", \"original\": \"rat\", \"group\": \"group-one\"}, {\"x_axis\": -9.364290237426758, \"y_axis\": 6.05155086517334, \"name\": \"tomato\", \"original\": \"tomato\", \"group\": \"group-one\"}, {\"x_axis\": -9.83611011505127, \"y_axis\": 5.531940460205078, \"name\": \"banana\", \"original\": \"banana\", \"group\": \"group-one\"}, {\"x_axis\": -9.704432487487793, \"y_axis\": 4.7724289894104, \"name\": \"coffee\", \"original\": \"coffee\", \"group\": \"group-one\"}, {\"x_axis\": -9.044899940490723, \"y_axis\": 4.713606357574463, \"name\": \"tea\", \"original\": \"tea\", \"group\": \"group-one\"}, {\"x_axis\": -9.220905303955078, \"y_axis\": 5.519455432891846, \"name\": \"apple\", \"original\": \"apple\", \"group\": \"group-one\"}, {\"x_axis\": -8.29273509979248, \"y_axis\": 4.61752462387085, \"name\": \"union\", \"original\": \"union\", \"group\": \"group-one\"}, {\"x_axis\": -9.677801132202148, \"y_axis\": 7.274376392364502, \"name\": \"run\", \"original\": \"run\", \"group\": \"group-two\"}, {\"x_axis\": -6.462913990020752, \"y_axis\": 4.2953619956970215, \"name\": \"swim\", \"original\": \"swim\", \"group\": \"group-two\"}, {\"x_axis\": -6.544994354248047, \"y_axis\": 4.404111862182617, \"name\": \"dance\", \"original\": \"dance\", \"group\": \"group-two\"}, {\"x_axis\": -8.642563819885254, \"y_axis\": 3.508923292160034, \"name\": \"sit\", \"original\": \"sit\", \"group\": \"group-two\"}, {\"x_axis\": -5.981049537658691, \"y_axis\": 5.3621015548706055, \"name\": \"eat\", \"original\": \"eat\", \"group\": \"group-two\"}, {\"x_axis\": -6.315880298614502, \"y_axis\": 4.493954658508301, \"name\": \"hear\", \"original\": \"hear\", \"group\": \"group-two\"}, {\"x_axis\": -9.689595222473145, \"y_axis\": 7.259837627410889, \"name\": \"look\", \"original\": \"look\", \"group\": \"group-two\"}, {\"x_axis\": -8.146947860717773, \"y_axis\": 3.4266676902770996, \"name\": \"stand\", \"original\": \"stand\", \"group\": \"group-two\"}]}}, {\"mode\": \"vega-lite\"});\n",
       "</script>"
      ],
      "text/plain": [
       "alt.LayerChart(...)"
      ]
     },
     "execution_count": 52,
     "metadata": {},
     "output_type": "execute_result"
    }
   ],
   "source": [
    "emb1 = lang[words1].transform(umap).add_property('group', lambda d: 'group-one')\n",
    "emb2 = lang[words2].transform(umap).add_property('group', lambda d: 'group-two')\n",
    "both = emb1.merge(emb2)\n",
    "\n",
    "both.plot_interactive('umap_0', 'umap_1', color='group')"
   ]
  }
 ],
 "metadata": {
  "kernelspec": {
   "display_name": "Python 3",
   "language": "python",
   "name": "python3"
  },
  "language_info": {
   "codemirror_mode": {
    "name": "ipython",
    "version": 3
   },
   "file_extension": ".py",
   "mimetype": "text/x-python",
   "name": "python",
   "nbconvert_exporter": "python",
   "pygments_lexer": "ipython3",
   "version": "3.6.8"
  }
 },
 "nbformat": 4,
 "nbformat_minor": 4
}