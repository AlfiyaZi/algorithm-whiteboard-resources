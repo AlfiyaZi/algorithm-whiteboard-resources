{
 "cells": [
  {
   "cell_type": "code",
   "execution_count": 1,
   "metadata": {},
   "outputs": [],
   "source": [
    "import pathlib\n",
    "import numpy as np\n",
    "import pandas as pd"
   ]
  },
  {
   "cell_type": "markdown",
   "metadata": {},
   "source": [
    "Take all the files with words in them and bring them in a single file."
   ]
  },
  {
   "cell_type": "code",
   "execution_count": 2,
   "metadata": {
    "jupyter": {
     "source_hidden": true
    }
   },
   "outputs": [],
   "source": [
    "dfs = []\n",
    "for p in pathlib.Path(\".\").glob(\"*.tsv\"):\n",
    "    df = (pd.read_csv(p, sep=\"\\t\", names=[\"n\", \"word\", \"eng\"])\n",
    "          .assign(lang=str(p.parts[-1]).replace(\".tsv\", \"\"))\n",
    "          .assign(word=lambda d: np.where(d['word'].isna(), d['eng'], d['word'])))\n",
    "    dfs.append(df)\n",
    "    \n",
    "df = pd.concat(dfs)\n",
    "del dfs"
   ]
  },
  {
   "cell_type": "code",
   "execution_count": 3,
   "metadata": {},
   "outputs": [
    {
     "name": "stderr",
     "output_type": "stream",
     "text": [
      "Warning : `load_model` does not return WordVectorModel or SupervisedModel any more, but a `FastText` object which is very similar.\n"
     ]
    }
   ],
   "source": [
    "import fasttext\n",
    "path = '/Users/vincent/Development/algorithm-whiteboard-resources/language/lid.176.ftz'\n",
    "ft_model = fasttext.load_model(path)\n",
    "\n",
    "from langid.langid import LanguageIdentifier, model\n",
    "identifier = LanguageIdentifier.from_modelstring(model, norm_probs=True)\n",
    "\n",
    "import cld3"
   ]
  },
  {
   "cell_type": "code",
   "execution_count": 4,
   "metadata": {},
   "outputs": [
    {
     "data": {
      "text/plain": [
       "LanguagePrediction(language='en', probability=0.9419392943382263, is_reliable=True, proportion=1.0)"
      ]
     },
     "execution_count": 4,
     "metadata": {},
     "output_type": "execute_result"
    }
   ],
   "source": [
    "def pred_ft(s):\n",
    "    p = ft_model.predict([s])\n",
    "    return p[0][0][0].replace('__label__', ''), p[1][0][0]\n",
    "\n",
    "def pred_langid(s):\n",
    "    return identifier.classify(s)\n",
    "\n",
    "def pred_cld3(s):\n",
    "    p = cld3.get_language(s)\n",
    "    return p.language, p.probability\n",
    "\n",
    "cld3.get_language(\"hello there\")"
   ]
  },
  {
   "cell_type": "markdown",
   "metadata": {},
   "source": [
    "Note that I'm ignoring things like `is_reliable` here. This makes the comparison slightly less fair."
   ]
  },
  {
   "cell_type": "code",
   "execution_count": 5,
   "metadata": {},
   "outputs": [],
   "source": [
    "import tqdm"
   ]
  },
  {
   "cell_type": "code",
   "execution_count": 6,
   "metadata": {},
   "outputs": [
    {
     "name": "stderr",
     "output_type": "stream",
     "text": [
      "100%|██████████| 9999/9999 [00:07<00:00, 1301.29it/s]\n",
      "100%|██████████| 9999/9999 [00:00<00:00, 61929.50it/s]\n",
      "100%|██████████| 9999/9999 [00:00<00:00, 13316.55it/s]\n"
     ]
    }
   ],
   "source": [
    "predictions_langid = [pred_langid(w) for w in tqdm.tqdm(df['word'])]\n",
    "predictions_ft = [pred_ft(w) for w in tqdm.tqdm(df['word'])]\n",
    "predictions_cld3 = [pred_cld3(w) for w in tqdm.tqdm(df['word'])]"
   ]
  },
  {
   "cell_type": "code",
   "execution_count": 7,
   "metadata": {},
   "outputs": [],
   "source": [
    "df = (df\n",
    " .assign(pred_langid = [l for l, p in predictions_langid], \n",
    "         pred_langid_p = [p for l, p in predictions_langid],\n",
    "         pred_ft = [l for l, p in predictions_ft], \n",
    "         pred_ft_p = [p for l, p in predictions_ft],\n",
    "         pred_cld3 = [l for l, p in predictions_cld3], \n",
    "         pred_cld3_p = [p for l, p in predictions_cld3]))"
   ]
  },
  {
   "cell_type": "code",
   "execution_count": 8,
   "metadata": {},
   "outputs": [
    {
     "name": "stdout",
     "output_type": "stream",
     "text": [
      "              precision    recall  f1-score   support\n",
      "\n",
      "          eo       0.90      0.44      0.59      1000\n",
      "          nl       0.89      0.50      0.64      1000\n",
      "          ar       1.00      0.89      0.94       999\n",
      "          es       0.66      0.54      0.59      1000\n",
      "          en       0.35      0.93      0.51      1000\n",
      "          tr       0.95      0.65      0.77      1000\n",
      "          de       0.77      0.61      0.68      1000\n",
      "          lt       0.98      0.46      0.63      1000\n",
      "          pt       0.83      0.41      0.55      1000\n",
      "          vi       0.99      0.74      0.85      1000\n",
      "\n",
      "   micro avg       0.72      0.62      0.66      9999\n",
      "   macro avg       0.83      0.62      0.68      9999\n",
      "weighted avg       0.83      0.62      0.68      9999\n",
      "\n"
     ]
    }
   ],
   "source": [
    "from sklearn.metrics import plot_confusion_matrix, classification_report\n",
    "\n",
    "print(classification_report(df['lang'], df['pred_ft'], labels=list(set(df['lang']))))"
   ]
  },
  {
   "cell_type": "code",
   "execution_count": 9,
   "metadata": {},
   "outputs": [
    {
     "name": "stdout",
     "output_type": "stream",
     "text": [
      "              precision    recall  f1-score   support\n",
      "\n",
      "          eo       1.00      0.05      0.10      1000\n",
      "          nl       0.81      0.28      0.42      1000\n",
      "          ar       1.00      0.86      0.93       999\n",
      "          es       0.50      0.29      0.37      1000\n",
      "          en       0.23      0.93      0.37      1000\n",
      "          tr       0.96      0.41      0.57      1000\n",
      "          de       0.59      0.51      0.55      1000\n",
      "          lt       0.90      0.41      0.56      1000\n",
      "          pt       0.77      0.14      0.24      1000\n",
      "          vi       1.00      0.78      0.88      1000\n",
      "\n",
      "   micro avg       0.54      0.47      0.50      9999\n",
      "   macro avg       0.78      0.47      0.50      9999\n",
      "weighted avg       0.78      0.47      0.50      9999\n",
      "\n"
     ]
    }
   ],
   "source": [
    "print(classification_report(df['lang'], df['pred_langid'], labels=list(set(df['lang']))))"
   ]
  },
  {
   "cell_type": "code",
   "execution_count": 10,
   "metadata": {},
   "outputs": [
    {
     "name": "stdout",
     "output_type": "stream",
     "text": [
      "              precision    recall  f1-score   support\n",
      "\n",
      "          eo       0.68      0.17      0.27      1000\n",
      "          nl       0.69      0.33      0.44      1000\n",
      "          ar       1.00      0.63      0.77       999\n",
      "          es       0.60      0.15      0.24      1000\n",
      "          en       0.54      0.19      0.28      1000\n",
      "          tr       0.85      0.31      0.46      1000\n",
      "          de       0.66      0.36      0.47      1000\n",
      "          lt       0.84      0.38      0.53      1000\n",
      "          pt       0.65      0.18      0.28      1000\n",
      "          vi       0.96      0.47      0.63      1000\n",
      "\n",
      "   micro avg       0.78      0.32      0.45      9999\n",
      "   macro avg       0.75      0.32      0.44      9999\n",
      "weighted avg       0.75      0.32      0.44      9999\n",
      "\n"
     ]
    }
   ],
   "source": [
    "print(classification_report(df['lang'], df['pred_cld3'], labels=list(set(df['lang']))))"
   ]
  },
  {
   "cell_type": "code",
   "execution_count": 12,
   "metadata": {},
   "outputs": [
    {
     "data": {
      "image/png": "[encoded data removed]",
      "text/plain": [
       "<Figure size 432x288 with 2 Axes>"
      ]
     },
     "metadata": {
      "needs_background": "light"
     },
     "output_type": "display_data"
    }
   ],
   "source": [
    "import seaborn as sns\n",
    "from sklearn.metrics import confusion_matrix\n",
    "\n",
    "labels = list(set(df['lang']))\n",
    "cm = confusion_matrix(df['lang'], df['pred_langid'], labels=labels)\n",
    "f = sns.heatmap(cm, xticklabels=labels, yticklabels=labels, cmap=\"YlGnBu\")"
   ]
  },
  {
   "cell_type": "markdown",
   "metadata": {},
   "source": [
    "Given just words, it seems to overfit on English. Let's zoom in on a single word though."
   ]
  },
  {
   "cell_type": "code",
   "execution_count": 13,
   "metadata": {},
   "outputs": [
    {
     "data": {
      "text/html": [
       "<div>\n",
       "<style scoped>\n",
       "    .dataframe tbody tr th:only-of-type {\n",
       "        vertical-align: middle;\n",
       "    }\n",
       "\n",
       "    .dataframe tbody tr th {\n",
       "        vertical-align: top;\n",
       "    }\n",
       "\n",
       "    .dataframe thead th {\n",
       "        text-align: right;\n",
       "    }\n",
       "</style>\n",
       "<table border=\"1\" class=\"dataframe\">\n",
       "  <thead>\n",
       "    <tr style=\"text-align: right;\">\n",
       "      <th></th>\n",
       "      <th>n</th>\n",
       "      <th>word</th>\n",
       "      <th>eng</th>\n",
       "      <th>lang</th>\n",
       "      <th>pred_langid</th>\n",
       "      <th>pred_langid_p</th>\n",
       "      <th>pred_ft</th>\n",
       "      <th>pred_ft_p</th>\n",
       "      <th>pred_cld3</th>\n",
       "      <th>pred_cld3_p</th>\n",
       "    </tr>\n",
       "  </thead>\n",
       "  <tbody>\n",
       "    <tr>\n",
       "      <th>39</th>\n",
       "      <td>40</td>\n",
       "      <td>die</td>\n",
       "      <td>which</td>\n",
       "      <td>nl</td>\n",
       "      <td>de</td>\n",
       "      <td>0.641598</td>\n",
       "      <td>de</td>\n",
       "      <td>0.976931</td>\n",
       "      <td>af</td>\n",
       "      <td>1.0</td>\n",
       "    </tr>\n",
       "    <tr>\n",
       "      <th>193</th>\n",
       "      <td>194</td>\n",
       "      <td>die</td>\n",
       "      <td>who</td>\n",
       "      <td>nl</td>\n",
       "      <td>de</td>\n",
       "      <td>0.641598</td>\n",
       "      <td>de</td>\n",
       "      <td>0.976931</td>\n",
       "      <td>af</td>\n",
       "      <td>1.0</td>\n",
       "    </tr>\n",
       "    <tr>\n",
       "      <th>288</th>\n",
       "      <td>289</td>\n",
       "      <td>die</td>\n",
       "      <td>those</td>\n",
       "      <td>nl</td>\n",
       "      <td>de</td>\n",
       "      <td>0.641598</td>\n",
       "      <td>de</td>\n",
       "      <td>0.976931</td>\n",
       "      <td>af</td>\n",
       "      <td>1.0</td>\n",
       "    </tr>\n",
       "    <tr>\n",
       "      <th>608</th>\n",
       "      <td>609</td>\n",
       "      <td>die</td>\n",
       "      <td>die</td>\n",
       "      <td>en</td>\n",
       "      <td>de</td>\n",
       "      <td>0.641598</td>\n",
       "      <td>de</td>\n",
       "      <td>0.976931</td>\n",
       "      <td>af</td>\n",
       "      <td>1.0</td>\n",
       "    </tr>\n",
       "    <tr>\n",
       "      <th>28</th>\n",
       "      <td>29</td>\n",
       "      <td>die</td>\n",
       "      <td>the</td>\n",
       "      <td>de</td>\n",
       "      <td>de</td>\n",
       "      <td>0.641598</td>\n",
       "      <td>de</td>\n",
       "      <td>0.976931</td>\n",
       "      <td>af</td>\n",
       "      <td>1.0</td>\n",
       "    </tr>\n",
       "    <tr>\n",
       "      <th>39</th>\n",
       "      <td>40</td>\n",
       "      <td>die</td>\n",
       "      <td>which</td>\n",
       "      <td>de</td>\n",
       "      <td>de</td>\n",
       "      <td>0.641598</td>\n",
       "      <td>de</td>\n",
       "      <td>0.976931</td>\n",
       "      <td>af</td>\n",
       "      <td>1.0</td>\n",
       "    </tr>\n",
       "    <tr>\n",
       "      <th>193</th>\n",
       "      <td>194</td>\n",
       "      <td>die</td>\n",
       "      <td>who</td>\n",
       "      <td>de</td>\n",
       "      <td>de</td>\n",
       "      <td>0.641598</td>\n",
       "      <td>de</td>\n",
       "      <td>0.976931</td>\n",
       "      <td>af</td>\n",
       "      <td>1.0</td>\n",
       "    </tr>\n",
       "  </tbody>\n",
       "</table>\n",
       "</div>"
      ],
      "text/plain": [
       "       n word    eng lang pred_langid  pred_langid_p pred_ft  pred_ft_p  \\\n",
       "39    40  die  which   nl          de       0.641598      de   0.976931   \n",
       "193  194  die    who   nl          de       0.641598      de   0.976931   \n",
       "288  289  die  those   nl          de       0.641598      de   0.976931   \n",
       "608  609  die    die   en          de       0.641598      de   0.976931   \n",
       "28    29  die    the   de          de       0.641598      de   0.976931   \n",
       "39    40  die  which   de          de       0.641598      de   0.976931   \n",
       "193  194  die    who   de          de       0.641598      de   0.976931   \n",
       "\n",
       "    pred_cld3  pred_cld3_p  \n",
       "39         af          1.0  \n",
       "193        af          1.0  \n",
       "288        af          1.0  \n",
       "608        af          1.0  \n",
       "28         af          1.0  \n",
       "39         af          1.0  \n",
       "193        af          1.0  "
      ]
     },
     "execution_count": 13,
     "metadata": {},
     "output_type": "execute_result"
    }
   ],
   "source": [
    "df.loc[lambda d: d['word'] == 'die']"
   ]
  },
  {
   "cell_type": "markdown",
   "metadata": {},
   "source": [
    "Even in Arabic we make mistakes."
   ]
  },
  {
   "cell_type": "code",
   "execution_count": 14,
   "metadata": {},
   "outputs": [
    {
     "data": {
      "text/plain": [
       "pred_ft\n",
       "ar     894\n",
       "arz      5\n",
       "ca       1\n",
       "cy       1\n",
       "en       1\n",
       "es       3\n",
       "fa      75\n",
       "ia       1\n",
       "lb       1\n",
       "ml       1\n",
       "mzn      1\n",
       "pnb      1\n",
       "ps       2\n",
       "ug       3\n",
       "ur       9\n",
       "dtype: int64"
      ]
     },
     "execution_count": 14,
     "metadata": {},
     "output_type": "execute_result"
    }
   ],
   "source": [
    "df.loc[lambda d: d['lang'] == 'ar'].groupby('pred_ft').size()"
   ]
  },
  {
   "cell_type": "markdown",
   "metadata": {},
   "source": [
    "Arabic is being confused with Persian mainl. But also other language including Urdu.\n",
    "\n",
    "Very suprisingly, it even confuses it with spanish!"
   ]
  },
  {
   "cell_type": "code",
   "execution_count": 15,
   "metadata": {},
   "outputs": [
    {
     "data": {
      "text/html": [
       "<div>\n",
       "<style scoped>\n",
       "    .dataframe tbody tr th:only-of-type {\n",
       "        vertical-align: middle;\n",
       "    }\n",
       "\n",
       "    .dataframe tbody tr th {\n",
       "        vertical-align: top;\n",
       "    }\n",
       "\n",
       "    .dataframe thead th {\n",
       "        text-align: right;\n",
       "    }\n",
       "</style>\n",
       "<table border=\"1\" class=\"dataframe\">\n",
       "  <thead>\n",
       "    <tr style=\"text-align: right;\">\n",
       "      <th></th>\n",
       "      <th>n</th>\n",
       "      <th>word</th>\n",
       "      <th>eng</th>\n",
       "      <th>lang</th>\n",
       "      <th>pred_langid</th>\n",
       "      <th>pred_langid_p</th>\n",
       "      <th>pred_ft</th>\n",
       "      <th>pred_ft_p</th>\n",
       "      <th>pred_cld3</th>\n",
       "      <th>pred_cld3_p</th>\n",
       "    </tr>\n",
       "  </thead>\n",
       "  <tbody>\n",
       "    <tr>\n",
       "      <th>420</th>\n",
       "      <td>421</td>\n",
       "      <td>صحيح</td>\n",
       "      <td>correct</td>\n",
       "      <td>ar</td>\n",
       "      <td>ar</td>\n",
       "      <td>0.999297</td>\n",
       "      <td>es</td>\n",
       "      <td>0.730285</td>\n",
       "      <td>ar</td>\n",
       "      <td>0.869402</td>\n",
       "    </tr>\n",
       "    <tr>\n",
       "      <th>454</th>\n",
       "      <td>455</td>\n",
       "      <td>صحيح</td>\n",
       "      <td>true</td>\n",
       "      <td>ar</td>\n",
       "      <td>ar</td>\n",
       "      <td>0.999297</td>\n",
       "      <td>es</td>\n",
       "      <td>0.730285</td>\n",
       "      <td>ar</td>\n",
       "      <td>0.869402</td>\n",
       "    </tr>\n",
       "    <tr>\n",
       "      <th>560</th>\n",
       "      <td>561</td>\n",
       "      <td>وحيد</td>\n",
       "      <td>lone</td>\n",
       "      <td>ar</td>\n",
       "      <td>ar</td>\n",
       "      <td>0.993102</td>\n",
       "      <td>es</td>\n",
       "      <td>0.674831</td>\n",
       "      <td>ar</td>\n",
       "      <td>0.574395</td>\n",
       "    </tr>\n",
       "  </tbody>\n",
       "</table>\n",
       "</div>"
      ],
      "text/plain": [
       "       n  word      eng lang pred_langid  pred_langid_p pred_ft  pred_ft_p  \\\n",
       "420  421  صحيح  correct   ar          ar       0.999297      es   0.730285   \n",
       "454  455  صحيح     true   ar          ar       0.999297      es   0.730285   \n",
       "560  561  وحيد     lone   ar          ar       0.993102      es   0.674831   \n",
       "\n",
       "    pred_cld3  pred_cld3_p  \n",
       "420        ar     0.869402  \n",
       "454        ar     0.869402  \n",
       "560        ar     0.574395  "
      ]
     },
     "execution_count": 15,
     "metadata": {},
     "output_type": "execute_result"
    }
   ],
   "source": [
    "df.loc[lambda d: d['lang'] == 'ar'].loc[lambda d: d['pred_ft'] == 'es']"
   ]
  },
  {
   "cell_type": "markdown",
   "metadata": {},
   "source": [
    "Let's see if this system fares better if we don't compare a single word, but instead have \"fake\" sentences of multiple words."
   ]
  },
  {
   "cell_type": "code",
   "execution_count": 16,
   "metadata": {},
   "outputs": [],
   "source": [
    "from memo import memfunc, memlist\n",
    "\n",
    "def generate_fake_sentence(lang=\"en\", sent_len=5):\n",
    "    return \" \".join(df.loc[lambda d: d['lang'] == lang].sample(sent_len)['word'])\n",
    "\n",
    "data = []\n",
    "\n",
    "@memlist(data=data)\n",
    "def create_sent_dataf(sent_len=5, n_samples=50):\n",
    "    dfs = []\n",
    "    for lang in labels:\n",
    "        dfs.append(\n",
    "            pd.DataFrame({'sent': [generate_fake_sentence(lang, sent_len) for i in range(n_samples)], \n",
    "                          'lang': [lang for i in range(n_samples)]}) \n",
    "        )\n",
    "\n",
    "    sent_df = pd.concat(dfs)\n",
    "    \n",
    "    predictions_langid = [pred_langid(w) for w in sent_df['sent']]\n",
    "    predictions_ft = [pred_ft(w) for w in sent_df['sent']]\n",
    "    predictions_cld3 = [pred_cld3(w) for w in sent_df['sent']]\n",
    "    \n",
    "    sent_df = (sent_df\n",
    "         .assign(pred_langid = [l for l, p in predictions_langid], \n",
    "                 pred_langid_p = [p for l, p in predictions_langid],\n",
    "                 pred_ft = [l for l, p in predictions_ft], \n",
    "                 pred_ft_p = [p for l, p in predictions_ft],\n",
    "                 pred_cld3 = [l for l, p in predictions_cld3]))\n",
    "    \n",
    "    d_langid = classification_report(sent_df['lang'], \n",
    "                                     sent_df['pred_langid'], \n",
    "                                     labels=list(set(df['lang'])), \n",
    "                                     output_dict=True)\n",
    "    d_fasttext = classification_report(sent_df['lang'], \n",
    "                                       sent_df['pred_ft'], \n",
    "                                       labels=list(set(df['lang'])), \n",
    "                                       output_dict=True)\n",
    "    d_cld3 = classification_report(sent_df['lang'], \n",
    "                                    sent_df['pred_cld3'], \n",
    "                                    labels=list(set(df['lang'])), \n",
    "                                    output_dict=True)\n",
    "    \n",
    "    return {'fasttext': d_fasttext['weighted avg'], \n",
    "            'langid': d_langid['weighted avg'],\n",
    "            'cld3': d_cld3['weighted avg']}"
   ]
  },
  {
   "cell_type": "code",
   "execution_count": 17,
   "metadata": {},
   "outputs": [
    {
     "name": "stderr",
     "output_type": "stream",
     "text": [
      "100%|██████████| 7/7 [00:09<00:00,  1.29s/it]\n"
     ]
    }
   ],
   "source": [
    "import tqdm \n",
    "\n",
    "for sent_len in tqdm.tqdm([1,2,3,4,5,6,7]):\n",
    "    create_sent_dataf(sent_len=sent_len)"
   ]
  },
  {
   "cell_type": "code",
   "execution_count": 18,
   "metadata": {},
   "outputs": [
    {
     "data": {
      "text/plain": [
       "<matplotlib.legend.Legend at 0x1298ff668>"
      ]
     },
     "execution_count": 18,
     "metadata": {},
     "output_type": "execute_result"
    },
    {
     "data": {
      "image/png": "[encoded data removed]",
      "text/plain": [
       "<Figure size 432x288 with 1 Axes>"
      ]
     },
     "metadata": {
      "needs_background": "light"
     },
     "output_type": "display_data"
    }
   ],
   "source": [
    "import matplotlib.pylab as plt \n",
    "\n",
    "pltr = pd.DataFrame([{'len': d['sent_len'], \n",
    "                     'ft_f1': d['fasttext']['f1-score'], \n",
    "                     'lang_id_f1': d['langid']['f1-score'],\n",
    "                     'cld3': d['cld3']['f1-score']} for d in data])\n",
    "\n",
    "plt.plot(pltr['len'], pltr['ft_f1'], label='fasttext')\n",
    "plt.plot(pltr['len'], pltr['lang_id_f1'], label='lang_id')\n",
    "plt.plot(pltr['len'], pltr['cld3'], label='cld3')\n",
    "plt.legend()"
   ]
  },
  {
   "cell_type": "markdown",
   "metadata": {},
   "source": [
    "We also see that the performance is good across languages with longer texts."
   ]
  },
  {
   "cell_type": "code",
   "execution_count": 19,
   "metadata": {},
   "outputs": [],
   "source": [
    "labels = list(set(df['lang']))\n",
    "\n",
    "dfs = []\n",
    "for lang in labels:\n",
    "    dfs.append(\n",
    "        pd.DataFrame({'sent': [generate_fake_sentence(lang, 7) for i in range(1000)], \n",
    "                      'lang': [lang for i in range(1000)]}) \n",
    "    )\n",
    "\n",
    "sent_df = pd.concat(dfs)\n",
    "\n",
    "predictions_langid = [pred_langid(w) for w in sent_df['sent']]\n",
    "predictions_ft = [pred_ft(w) for w in sent_df['sent']]\n",
    "\n",
    "sent_df = (sent_df\n",
    "     .assign(pred_langid = [l for l, p in predictions_langid], \n",
    "             pred_langid_p = [p for l, p in predictions_langid],\n",
    "             pred_ft = [l for l, p in predictions_ft], \n",
    "             pred_ft_p = [p for l, p in predictions_ft]))"
   ]
  },
  {
   "cell_type": "code",
   "execution_count": 20,
   "metadata": {},
   "outputs": [
    {
     "name": "stdout",
     "output_type": "stream",
     "text": [
      "              precision    recall  f1-score   support\n",
      "\n",
      "          pt       0.99      0.95      0.97      1000\n",
      "          nl       1.00      0.95      0.97      1000\n",
      "          es       0.96      0.98      0.97      1000\n",
      "          ar       1.00      1.00      1.00      1000\n",
      "          en       0.97      0.99      0.98      1000\n",
      "          eo       1.00      0.97      0.98      1000\n",
      "          vi       1.00      1.00      1.00      1000\n",
      "          tr       1.00      0.99      1.00      1000\n",
      "          lt       1.00      0.98      0.99      1000\n",
      "          de       0.98      0.99      0.98      1000\n",
      "\n",
      "   micro avg       0.99      0.98      0.98     10000\n",
      "   macro avg       0.99      0.98      0.98     10000\n",
      "weighted avg       0.99      0.98      0.98     10000\n",
      "\n"
     ]
    }
   ],
   "source": [
    "print(classification_report(sent_df['lang'], sent_df['pred_ft'], labels=list(set(df['lang']))))"
   ]
  },
  {
   "cell_type": "code",
   "execution_count": 21,
   "metadata": {},
   "outputs": [
    {
     "data": {
      "text/plain": [
       "lang  pred_ft\n",
       "ar    ar         998\n",
       "      fa           2\n",
       "de    af           1\n",
       "      de         992\n",
       "      en           6\n",
       "                ... \n",
       "tr    sh           2\n",
       "      tl           1\n",
       "      tr         994\n",
       "vi    vi         999\n",
       "      war          1\n",
       "Length: 64, dtype: int64"
      ]
     },
     "execution_count": 21,
     "metadata": {},
     "output_type": "execute_result"
    }
   ],
   "source": [
    "sent_df.groupby(['lang', 'pred_ft']).size()"
   ]
  }
 ],
 "metadata": {
  "kernelspec": {
   "display_name": "Python 3",
   "language": "python",
   "name": "python3"
  },
  "language_info": {
   "codemirror_mode": {
    "name": "ipython",
    "version": 3
   },
   "file_extension": ".py",
   "mimetype": "text/x-python",
   "name": "python",
   "nbconvert_exporter": "python",
   "pygments_lexer": "ipython3",
   "version": "3.7.3"
  }
 },
 "nbformat": 4,
 "nbformat_minor": 4
}
