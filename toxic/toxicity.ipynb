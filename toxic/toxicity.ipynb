{
 "cells": [
  {
   "cell_type": "code",
   "execution_count": 12,
   "metadata": {},
   "outputs": [],
   "source": [
    "import time \n",
    "import pandas as pd\n",
    "from whatlies.language import BytePairLanguage, UniversalSentenceLanguage, SentenceTFMLanguage, CountVectorLanguage\n",
    "\n",
    "lang_use = UniversalSentenceLanguage(\"large\")\n",
    "lang_bp  = BytePairLanguage(\"en\", dim=300, vs=200_000)\n",
    "lang_brt = SentenceTFMLanguage('distilbert-base-nli-stsb-mean-tokens')"
   ]
  },
  {
   "cell_type": "markdown",
   "metadata": {},
   "source": [
    "Let's load the dataset and make some utility functions to get it in the right format."
   ]
  },
  {
   "cell_type": "code",
   "execution_count": 13,
   "metadata": {},
   "outputs": [],
   "source": [
    "def clean_text(txt_col):\n",
    "    return txt_col.str.replace(r'\\n', \" \")\n",
    "\n",
    "def to_train_df(dataf):\n",
    "    dataf = dataf.copy() \n",
    "    dataf['bad'] = dataf[['toxic', 'severe_toxic', 'obscene', 'threat', 'insult', 'identity_hate']].sum(axis=1)\n",
    "    dataf['label'] = ['toxic' if b else 'fine' for b in dataf['bad'] != 0]\n",
    "    dataf['text'] = clean_text(dataf['comment_text'])\n",
    "    return dataf[['text', 'label']]\n",
    "\n",
    "df = pd.read_csv(\"toxicity-train.csv.zip\").replace({\"\\n\", \"\"})"
   ]
  },
  {
   "cell_type": "markdown",
   "metadata": {},
   "source": [
    "Next, let's make a proper train/test split."
   ]
  },
  {
   "cell_type": "code",
   "execution_count": 17,
   "metadata": {},
   "outputs": [],
   "source": [
    "from sklearn.metrics import classification_report\n",
    "from sklearn.pipeline import Pipeline\n",
    "from sklearn.linear_model import LogisticRegression\n",
    "from sklearn.svm import SVC\n",
    "from sklearn.feature_extraction.text import TfidfVectorizer, CountVectorizer\n",
    "from sklearn.model_selection import train_test_split\n",
    "\n",
    "train_df = df.pipe(to_train_df)[:10000]\n",
    "\n",
    "x_train, x_test, y_train, y_test = train_test_split(list(train_df['text']), train_df['label'])"
   ]
  },
  {
   "cell_type": "code",
   "execution_count": 28,
   "metadata": {},
   "outputs": [
    {
     "data": {
      "text/html": [
       "<div>\n",
       "<style scoped>\n",
       "    .dataframe tbody tr th:only-of-type {\n",
       "        vertical-align: middle;\n",
       "    }\n",
       "\n",
       "    .dataframe tbody tr th {\n",
       "        vertical-align: top;\n",
       "    }\n",
       "\n",
       "    .dataframe thead th {\n",
       "        text-align: right;\n",
       "    }\n",
       "</style>\n",
       "<table border=\"1\" class=\"dataframe\">\n",
       "  <thead>\n",
       "    <tr style=\"text-align: right;\">\n",
       "      <th></th>\n",
       "      <th>text</th>\n",
       "    </tr>\n",
       "    <tr>\n",
       "      <th>label</th>\n",
       "      <th></th>\n",
       "    </tr>\n",
       "  </thead>\n",
       "  <tbody>\n",
       "    <tr>\n",
       "      <th>fine</th>\n",
       "      <td>8970</td>\n",
       "    </tr>\n",
       "    <tr>\n",
       "      <th>toxic</th>\n",
       "      <td>1030</td>\n",
       "    </tr>\n",
       "  </tbody>\n",
       "</table>\n",
       "</div>"
      ],
      "text/plain": [
       "       text\n",
       "label      \n",
       "fine   8970\n",
       "toxic  1030"
      ]
     },
     "execution_count": 28,
     "metadata": {},
     "output_type": "execute_result"
    }
   ],
   "source": [
    "train_df.groupby(\"label\").count()"
   ]
  },
  {
   "cell_type": "code",
   "execution_count": 29,
   "metadata": {},
   "outputs": [
    {
     "name": "stdout",
     "output_type": "stream",
     "text": [
      "report for ('CountVectorizer()', \"SVC(class_weight='balanced')\")\n",
      "train time: 9.83952283859253\n",
      "pred time: 3.0086185932159424\n",
      "              precision    recall  f1-score   support\n",
      "\n",
      "        fine       0.97      0.79      0.87      2251\n",
      "       toxic       0.30      0.82      0.44       249\n",
      "\n",
      "    accuracy                           0.79      2500\n",
      "   macro avg       0.64      0.80      0.65      2500\n",
      "weighted avg       0.91      0.79      0.83      2500\n",
      "\n",
      "report for ('CountVectorizer()', \"LogisticRegression(class_weight='balanced', solver='liblinear')\")\n",
      "train time: 0.7045333385467529\n",
      "pred time: 0.1499195098876953\n",
      "              precision    recall  f1-score   support\n",
      "\n",
      "        fine       0.97      0.97      0.97      2251\n",
      "       toxic       0.70      0.70      0.70       249\n",
      "\n",
      "    accuracy                           0.94      2500\n",
      "   macro avg       0.84      0.83      0.83      2500\n",
      "weighted avg       0.94      0.94      0.94      2500\n",
      "\n"
     ]
    }
   ],
   "source": [
    "for mod in [SVC(class_weight=\"balanced\"), LogisticRegression(solver='liblinear', class_weight=\"balanced\")]:\n",
    "    pipe = Pipeline([\n",
    "        (\"feat\", CountVectorizer()),\n",
    "        (\"mod\", mod)\n",
    "    ])\n",
    "    tic = time.time()\n",
    "    pipe.fit(list(x_train), y_train)\n",
    "    toc = time.time() \n",
    "    print(f\"report for {str(lang), str(mod)}\")\n",
    "    print(f\"train time: {toc - tic}\")\n",
    "    tic = time.time()\n",
    "    y_pred = pipe.predict(x_test)\n",
    "    toc = time.time()\n",
    "    print(f\"pred time: {toc - tic}\")\n",
    "    print(classification_report(y_test, y_pred))"
   ]
  },
  {
   "cell_type": "code",
   "execution_count": 31,
   "metadata": {},
   "outputs": [],
   "source": [
    "import pandas as pd \n",
    "df = pd.read_csv(\"results.csv\")"
   ]
  },
  {
   "cell_type": "code",
   "execution_count": 34,
   "metadata": {},
   "outputs": [
    {
     "data": {
      "text/html": [
       "<div>\n",
       "<style scoped>\n",
       "    .dataframe tbody tr th:only-of-type {\n",
       "        vertical-align: middle;\n",
       "    }\n",
       "\n",
       "    .dataframe tbody tr th {\n",
       "        vertical-align: top;\n",
       "    }\n",
       "\n",
       "    .dataframe thead th {\n",
       "        text-align: right;\n",
       "    }\n",
       "</style>\n",
       "<table border=\"1\" class=\"dataframe\">\n",
       "  <thead>\n",
       "    <tr style=\"text-align: right;\">\n",
       "      <th></th>\n",
       "      <th>lang</th>\n",
       "      <th>mod</th>\n",
       "      <th>precision</th>\n",
       "      <th>recall</th>\n",
       "      <th>pred-time</th>\n",
       "      <th>train-time</th>\n",
       "    </tr>\n",
       "  </thead>\n",
       "  <tbody>\n",
       "    <tr>\n",
       "      <th>1</th>\n",
       "      <td>CountVectorizer()</td>\n",
       "      <td>LogisticRegression()</td>\n",
       "      <td>0.807229</td>\n",
       "      <td>0.538153</td>\n",
       "      <td>0.085694</td>\n",
       "      <td>0.882420</td>\n",
       "    </tr>\n",
       "    <tr>\n",
       "      <th>0</th>\n",
       "      <td>CountVectorizer()</td>\n",
       "      <td>SVC()</td>\n",
       "      <td>1.000000</td>\n",
       "      <td>0.032129</td>\n",
       "      <td>1.634564</td>\n",
       "      <td>5.422204</td>\n",
       "    </tr>\n",
       "  </tbody>\n",
       "</table>\n",
       "</div>"
      ],
      "text/plain": [
       "                lang                   mod  precision    recall  pred-time  \\\n",
       "1  CountVectorizer()  LogisticRegression()   0.807229  0.538153   0.085694   \n",
       "0  CountVectorizer()                 SVC()   1.000000  0.032129   1.634564   \n",
       "\n",
       "   train-time  \n",
       "1    0.882420  \n",
       "0    5.422204  "
      ]
     },
     "execution_count": 34,
     "metadata": {},
     "output_type": "execute_result"
    }
   ],
   "source": [
    "df.sort_values('precision')"
   ]
  },
  {
   "cell_type": "code",
   "execution_count": 42,
   "metadata": {},
   "outputs": [],
   "source": [
    "pipe = Pipeline([\n",
    "    (\"feat\", lang_use),\n",
    "    (\"mod\", LogisticRegression(solver='liblinear', class_weight=\"balanced\"))\n",
    "])\n",
    "\n",
    "pipe.fit(list(x_train), y_train)"
   ]
  },
  {
   "cell_type": "code",
   "execution_count": null,
   "metadata": {},
   "outputs": [],
   "source": [
    "pipe.predict([\"you're a bad ass!\"])"
   ]
  },
  {
   "cell_type": "code",
   "execution_count": null,
   "metadata": {},
   "outputs": [],
   "source": []
  }
 ],
 "metadata": {
  "kernelspec": {
   "display_name": "Python 3",
   "language": "python",
   "name": "python3"
  },
  "language_info": {
   "codemirror_mode": {
    "name": "ipython",
    "version": 3
   },
   "file_extension": ".py",
   "mimetype": "text/x-python",
   "name": "python",
   "nbconvert_exporter": "python",
   "pygments_lexer": "ipython3",
   "version": "3.8.5"
  }
 },
 "nbformat": 4,
 "nbformat_minor": 4
}
