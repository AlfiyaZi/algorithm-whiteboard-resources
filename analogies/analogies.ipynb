{
 "cells": [
  {
   "cell_type": "code",
   "execution_count": 1,
   "metadata": {},
   "outputs": [],
   "source": [
    "%load_ext autoreload\n",
    "%autoreload 2 "
   ]
  },
  {
   "cell_type": "code",
   "execution_count": 2,
   "metadata": {},
   "outputs": [],
   "source": [
    "import numpy as np\n",
    "import pandas as pd \n",
    "\n",
    "from whatlies import Embedding, EmbeddingSet\n",
    "from whatlies.transformers import Pca\n",
    "from whatlies.language import FasttextLanguage, SpacyLanguage, BytePairLanguage"
   ]
  },
  {
   "cell_type": "code",
   "execution_count": 3,
   "metadata": {},
   "outputs": [],
   "source": [
    "lang_ft = FasttextLanguage(\"cc.en.300.bin\")\n",
    "lang_sp = SpacyLanguage(\"en_core_web_md\")"
   ]
  },
  {
   "cell_type": "code",
   "execution_count": 8,
   "metadata": {},
   "outputs": [
    {
     "data": {
      "text/plain": [
       "[(Emb[king], 0.0),\n",
       " (Emb[kings], 0.2449641227722168),\n",
       " (Emb[queen], 0.2931479215621948),\n",
       " (Emb[King], 0.3408734202384949),\n",
       " (Emb[prince], 0.35047459602355957),\n",
       " (Emb[royal], 0.41696715354919434),\n",
       " (Emb[throne], 0.42722034454345703),\n",
       " (Emb[kingdom], 0.434279203414917),\n",
       " (Emb[emperor], 0.44683873653411865),\n",
       " (Emb[lord], 0.4479447603225708)]"
      ]
     },
     "execution_count": 8,
     "metadata": {},
     "output_type": "execute_result"
    }
   ],
   "source": [
    "lang_ft.score_similar(lang_ft['king'], n=10, metric='cosine')"
   ]
  },
  {
   "cell_type": "code",
   "execution_count": 9,
   "metadata": {},
   "outputs": [
    {
     "data": {
      "text/plain": [
       "[(Emb[king], 0.2713325619697571),\n",
       " (Emb[queen], 0.3457321524620056),\n",
       " (Emb[kings], 0.45897185802459717),\n",
       " (Emb[Queen], 0.49255800247192383),\n",
       " (Emb[royal], 0.49954700469970703),\n",
       " (Emb[King], 0.5179671049118042),\n",
       " (Emb[throne], 0.554189920425415),\n",
       " (Emb[princess], 0.5551300048828125),\n",
       " (Emb[prince], 0.6072607636451721),\n",
       " (Emb[palace], 0.623775064945221)]"
      ]
     },
     "execution_count": 9,
     "metadata": {},
     "output_type": "execute_result"
    }
   ],
   "source": [
    "lang_ft.score_similar(lang_ft['king'] - lang_ft['man'] + lang_ft['woman'], n=10, metric='cosine')"
   ]
  },
  {
   "cell_type": "code",
   "execution_count": 11,
   "metadata": {},
   "outputs": [
    {
     "data": {
      "text/plain": [
       "[(Emb[king], 0.2949146628379822),\n",
       " (Emb[kings], 0.33092421293258667),\n",
       " (Emb[King], 0.5105577707290649),\n",
       " (Emb[queen], 0.5385150909423828),\n",
       " (Emb[Kings], 0.5838595628738403),\n",
       " (Emb[rulers], 0.5840845108032227),\n",
       " (Emb[kingdom], 0.5844190120697021),\n",
       " (Emb[armies], 0.5963489413261414),\n",
       " (Emb[royal], 0.6078634262084961),\n",
       " (Emb[throne], 0.6091011166572571)]"
      ]
     },
     "execution_count": 11,
     "metadata": {},
     "output_type": "execute_result"
    }
   ],
   "source": [
    "lang_ft.score_similar(lang_ft['king'] - lang_ft['cat'] + lang_ft['cats'], n=10, metric='cosine')"
   ]
  },
  {
   "cell_type": "code",
   "execution_count": 10,
   "metadata": {},
   "outputs": [
    {
     "data": {
      "text/plain": [
       "[(Emb[king], 0.20691156387329102),\n",
       " (Emb[kings], 0.3835362195968628),\n",
       " (Emb[queen], 0.45022904872894287),\n",
       " (Emb[King], 0.45194685459136963),\n",
       " (Emb[prince], 0.48818516731262207),\n",
       " (Emb[royal], 0.5023854970932007),\n",
       " (Emb[kingdom], 0.5079109072685242),\n",
       " (Emb[throne], 0.5353788137435913),\n",
       " (Emb[emperor], 0.5441315174102783),\n",
       " (Emb[princess], 0.5490601658821106)]"
      ]
     },
     "execution_count": 10,
     "metadata": {},
     "output_type": "execute_result"
    }
   ],
   "source": [
    "lang_ft.score_similar(lang_ft['king'] - lang_ft['slow'] + lang_ft['fast'], n=10, metric='cosine')"
   ]
  },
  {
   "cell_type": "markdown",
   "metadata": {},
   "source": [
    "<br><br><br><br><br>\n",
    "\n",
    "In the cells below we'll write some functions to make our lives just slightly easier."
   ]
  },
  {
   "cell_type": "code",
   "execution_count": 6,
   "metadata": {},
   "outputs": [],
   "source": [
    "def to_dataf(emb_list_before, emb_list_after):\n",
    "    \"\"\"Turns before/after Embedding score-lists into a single dataframe.\"\"\"\n",
    "    names_before = [_[0].name for _ in emb_list_before]\n",
    "    scores_before = [_[1] for _ in emb_list_before]\n",
    "    names_after = [_[0].name for _ in emb_list_after]\n",
    "    scores_after = [_[1] for _ in emb_list_after]\n",
    "    res = pd.DataFrame({'before_word': names_before, \n",
    "                        'before_score': scores_before, \n",
    "                        'after_word': names_after,\n",
    "                        'after_score': scores_after})\n",
    "    return (res\n",
    "            .assign(before_score=lambda d: np.round(d['before_score'], 4))\n",
    "            .assign(after_score=lambda d: np.round(d['after_score'], 4)))\n",
    "\n",
    "def retreive_most_similar(lang, start, positive=(), negative=(), orthogonal=(), unto=(), n=10, metric='cosine'):\n",
    "    \"\"\"Utility function to quickly perform arithmetic and get an overview.\"\"\"\n",
    "    start_emb = lang[start]\n",
    "    base_dist = lang.score_similar(start_emb, n=10, metric=metric)\n",
    "    for pos in positive:\n",
    "        start_emb = start_emb + lang[pos]\n",
    "    for neg in negative:\n",
    "        start_emb = start_emb - lang[neg]\n",
    "    for ort in orthogonal:\n",
    "        start_emb = start_emb - lang[ort]\n",
    "    for un in unto:\n",
    "        start_emb = start_emb - lang[un]\n",
    "    proj_dist = lang.score_similar(start_emb, n=10, metric=metric)\n",
    "    return to_dataf(base_dist, proj_dist)"
   ]
  },
  {
   "cell_type": "code",
   "execution_count": 7,
   "metadata": {},
   "outputs": [
    {
     "data": {
      "text/html": [
       "<div>\n",
       "<style scoped>\n",
       "    .dataframe tbody tr th:only-of-type {\n",
       "        vertical-align: middle;\n",
       "    }\n",
       "\n",
       "    .dataframe tbody tr th {\n",
       "        vertical-align: top;\n",
       "    }\n",
       "\n",
       "    .dataframe thead th {\n",
       "        text-align: right;\n",
       "    }\n",
       "</style>\n",
       "<table border=\"1\" class=\"dataframe\">\n",
       "  <thead>\n",
       "    <tr style=\"text-align: right;\">\n",
       "      <th></th>\n",
       "      <th>before_word</th>\n",
       "      <th>before_score</th>\n",
       "      <th>after_word</th>\n",
       "      <th>after_score</th>\n",
       "    </tr>\n",
       "  </thead>\n",
       "  <tbody>\n",
       "    <tr>\n",
       "      <th>0</th>\n",
       "      <td>king</td>\n",
       "      <td>0.0000</td>\n",
       "      <td>king</td>\n",
       "      <td>0.1976</td>\n",
       "    </tr>\n",
       "    <tr>\n",
       "      <th>1</th>\n",
       "      <td>kings</td>\n",
       "      <td>0.2123</td>\n",
       "      <td>queen</td>\n",
       "      <td>0.2119</td>\n",
       "    </tr>\n",
       "    <tr>\n",
       "      <th>2</th>\n",
       "      <td>princes</td>\n",
       "      <td>0.2123</td>\n",
       "      <td>prince</td>\n",
       "      <td>0.3599</td>\n",
       "    </tr>\n",
       "    <tr>\n",
       "      <th>3</th>\n",
       "      <td>prince</td>\n",
       "      <td>0.2662</td>\n",
       "      <td>kings</td>\n",
       "      <td>0.3791</td>\n",
       "    </tr>\n",
       "    <tr>\n",
       "      <th>4</th>\n",
       "      <td>queen</td>\n",
       "      <td>0.2747</td>\n",
       "      <td>princes</td>\n",
       "      <td>0.3791</td>\n",
       "    </tr>\n",
       "    <tr>\n",
       "      <th>5</th>\n",
       "      <td>scepter</td>\n",
       "      <td>0.3274</td>\n",
       "      <td>princess</td>\n",
       "      <td>0.3874</td>\n",
       "    </tr>\n",
       "    <tr>\n",
       "      <th>6</th>\n",
       "      <td>throne</td>\n",
       "      <td>0.3274</td>\n",
       "      <td>princesses</td>\n",
       "      <td>0.3874</td>\n",
       "    </tr>\n",
       "    <tr>\n",
       "      <th>7</th>\n",
       "      <td>kingdoms</td>\n",
       "      <td>0.3396</td>\n",
       "      <td>mermaid</td>\n",
       "      <td>0.3874</td>\n",
       "    </tr>\n",
       "    <tr>\n",
       "      <th>8</th>\n",
       "      <td>kingdom</td>\n",
       "      <td>0.3396</td>\n",
       "      <td>royal</td>\n",
       "      <td>0.4199</td>\n",
       "    </tr>\n",
       "    <tr>\n",
       "      <th>9</th>\n",
       "      <td>lord</td>\n",
       "      <td>0.3560</td>\n",
       "      <td>royals</td>\n",
       "      <td>0.4199</td>\n",
       "    </tr>\n",
       "  </tbody>\n",
       "</table>\n",
       "</div>"
      ],
      "text/plain": [
       "  before_word  before_score  after_word  after_score\n",
       "0        king        0.0000        king       0.1976\n",
       "1       kings        0.2123       queen       0.2119\n",
       "2     princes        0.2123      prince       0.3599\n",
       "3      prince        0.2662       kings       0.3791\n",
       "4       queen        0.2747     princes       0.3791\n",
       "5     scepter        0.3274    princess       0.3874\n",
       "6      throne        0.3274  princesses       0.3874\n",
       "7    kingdoms        0.3396     mermaid       0.3874\n",
       "8     kingdom        0.3396       royal       0.4199\n",
       "9        lord        0.3560      royals       0.4199"
      ]
     },
     "execution_count": 7,
     "metadata": {},
     "output_type": "execute_result"
    }
   ],
   "source": [
    "retreive_most_similar(lang_sp, start=\"king\", positive=[\"woman\"], negative=[\"man\"])"
   ]
  },
  {
   "cell_type": "code",
   "execution_count": 8,
   "metadata": {},
   "outputs": [
    {
     "data": {
      "text/html": [
       "<div>\n",
       "<style scoped>\n",
       "    .dataframe tbody tr th:only-of-type {\n",
       "        vertical-align: middle;\n",
       "    }\n",
       "\n",
       "    .dataframe tbody tr th {\n",
       "        vertical-align: top;\n",
       "    }\n",
       "\n",
       "    .dataframe thead th {\n",
       "        text-align: right;\n",
       "    }\n",
       "</style>\n",
       "<table border=\"1\" class=\"dataframe\">\n",
       "  <thead>\n",
       "    <tr style=\"text-align: right;\">\n",
       "      <th></th>\n",
       "      <th>before_word</th>\n",
       "      <th>before_score</th>\n",
       "      <th>after_word</th>\n",
       "      <th>after_score</th>\n",
       "    </tr>\n",
       "  </thead>\n",
       "  <tbody>\n",
       "    <tr>\n",
       "      <th>0</th>\n",
       "      <td>king</td>\n",
       "      <td>0.0000</td>\n",
       "      <td>king</td>\n",
       "      <td>4.8034</td>\n",
       "    </tr>\n",
       "    <tr>\n",
       "      <th>1</th>\n",
       "      <td>kings</td>\n",
       "      <td>4.6444</td>\n",
       "      <td>queen</td>\n",
       "      <td>4.9244</td>\n",
       "    </tr>\n",
       "    <tr>\n",
       "      <th>2</th>\n",
       "      <td>princes</td>\n",
       "      <td>4.6444</td>\n",
       "      <td>prince</td>\n",
       "      <td>6.2725</td>\n",
       "    </tr>\n",
       "    <tr>\n",
       "      <th>3</th>\n",
       "      <td>prince</td>\n",
       "      <td>5.0195</td>\n",
       "      <td>kings</td>\n",
       "      <td>6.5993</td>\n",
       "    </tr>\n",
       "    <tr>\n",
       "      <th>4</th>\n",
       "      <td>queen</td>\n",
       "      <td>5.1864</td>\n",
       "      <td>princes</td>\n",
       "      <td>6.5993</td>\n",
       "    </tr>\n",
       "    <tr>\n",
       "      <th>5</th>\n",
       "      <td>scepter</td>\n",
       "      <td>5.7722</td>\n",
       "      <td>princess</td>\n",
       "      <td>6.6475</td>\n",
       "    </tr>\n",
       "    <tr>\n",
       "      <th>6</th>\n",
       "      <td>throne</td>\n",
       "      <td>5.7722</td>\n",
       "      <td>princesses</td>\n",
       "      <td>6.6475</td>\n",
       "    </tr>\n",
       "    <tr>\n",
       "      <th>7</th>\n",
       "      <td>kingdoms</td>\n",
       "      <td>5.7926</td>\n",
       "      <td>mermaid</td>\n",
       "      <td>6.6475</td>\n",
       "    </tr>\n",
       "    <tr>\n",
       "      <th>8</th>\n",
       "      <td>kingdom</td>\n",
       "      <td>5.7926</td>\n",
       "      <td>queens</td>\n",
       "      <td>6.7349</td>\n",
       "    </tr>\n",
       "    <tr>\n",
       "      <th>9</th>\n",
       "      <td>lord</td>\n",
       "      <td>5.9073</td>\n",
       "      <td>royal</td>\n",
       "      <td>6.8369</td>\n",
       "    </tr>\n",
       "  </tbody>\n",
       "</table>\n",
       "</div>"
      ],
      "text/plain": [
       "  before_word  before_score  after_word  after_score\n",
       "0        king        0.0000        king       4.8034\n",
       "1       kings        4.6444       queen       4.9244\n",
       "2     princes        4.6444      prince       6.2725\n",
       "3      prince        5.0195       kings       6.5993\n",
       "4       queen        5.1864     princes       6.5993\n",
       "5     scepter        5.7722    princess       6.6475\n",
       "6      throne        5.7722  princesses       6.6475\n",
       "7    kingdoms        5.7926     mermaid       6.6475\n",
       "8     kingdom        5.7926      queens       6.7349\n",
       "9        lord        5.9073       royal       6.8369"
      ]
     },
     "execution_count": 8,
     "metadata": {},
     "output_type": "execute_result"
    }
   ],
   "source": [
    "retreive_most_similar(lang_sp, start=\"king\", positive=[\"woman\"], negative=[\"man\"], metric='euclidean')"
   ]
  },
  {
   "cell_type": "markdown",
   "metadata": {},
   "source": [
    "This one is particularily interesting. After calculating $v_{king} - v_{man} + v_{woman}$ it seems that relatively we might be \"more\" similar to $v_{queen}$ than before but the absolute distance has increased."
   ]
  },
  {
   "cell_type": "code",
   "execution_count": 9,
   "metadata": {},
   "outputs": [
    {
     "data": {
      "text/html": [
       "<div>\n",
       "<style scoped>\n",
       "    .dataframe tbody tr th:only-of-type {\n",
       "        vertical-align: middle;\n",
       "    }\n",
       "\n",
       "    .dataframe tbody tr th {\n",
       "        vertical-align: top;\n",
       "    }\n",
       "\n",
       "    .dataframe thead th {\n",
       "        text-align: right;\n",
       "    }\n",
       "</style>\n",
       "<table border=\"1\" class=\"dataframe\">\n",
       "  <thead>\n",
       "    <tr style=\"text-align: right;\">\n",
       "      <th></th>\n",
       "      <th>before_word</th>\n",
       "      <th>before_score</th>\n",
       "      <th>after_word</th>\n",
       "      <th>after_score</th>\n",
       "    </tr>\n",
       "  </thead>\n",
       "  <tbody>\n",
       "    <tr>\n",
       "      <th>0</th>\n",
       "      <td>king</td>\n",
       "      <td>0.0000</td>\n",
       "      <td>king</td>\n",
       "      <td>0.2713</td>\n",
       "    </tr>\n",
       "    <tr>\n",
       "      <th>1</th>\n",
       "      <td>kings</td>\n",
       "      <td>0.2450</td>\n",
       "      <td>queen</td>\n",
       "      <td>0.3457</td>\n",
       "    </tr>\n",
       "    <tr>\n",
       "      <th>2</th>\n",
       "      <td>queen</td>\n",
       "      <td>0.2931</td>\n",
       "      <td>kings</td>\n",
       "      <td>0.4590</td>\n",
       "    </tr>\n",
       "    <tr>\n",
       "      <th>3</th>\n",
       "      <td>King</td>\n",
       "      <td>0.3409</td>\n",
       "      <td>Queen</td>\n",
       "      <td>0.4926</td>\n",
       "    </tr>\n",
       "    <tr>\n",
       "      <th>4</th>\n",
       "      <td>prince</td>\n",
       "      <td>0.3505</td>\n",
       "      <td>royal</td>\n",
       "      <td>0.4995</td>\n",
       "    </tr>\n",
       "    <tr>\n",
       "      <th>5</th>\n",
       "      <td>royal</td>\n",
       "      <td>0.4170</td>\n",
       "      <td>King</td>\n",
       "      <td>0.5180</td>\n",
       "    </tr>\n",
       "    <tr>\n",
       "      <th>6</th>\n",
       "      <td>throne</td>\n",
       "      <td>0.4272</td>\n",
       "      <td>throne</td>\n",
       "      <td>0.5542</td>\n",
       "    </tr>\n",
       "    <tr>\n",
       "      <th>7</th>\n",
       "      <td>kingdom</td>\n",
       "      <td>0.4343</td>\n",
       "      <td>princess</td>\n",
       "      <td>0.5551</td>\n",
       "    </tr>\n",
       "    <tr>\n",
       "      <th>8</th>\n",
       "      <td>emperor</td>\n",
       "      <td>0.4468</td>\n",
       "      <td>prince</td>\n",
       "      <td>0.6073</td>\n",
       "    </tr>\n",
       "    <tr>\n",
       "      <th>9</th>\n",
       "      <td>lord</td>\n",
       "      <td>0.4479</td>\n",
       "      <td>palace</td>\n",
       "      <td>0.6238</td>\n",
       "    </tr>\n",
       "  </tbody>\n",
       "</table>\n",
       "</div>"
      ],
      "text/plain": [
       "  before_word  before_score after_word  after_score\n",
       "0        king        0.0000       king       0.2713\n",
       "1       kings        0.2450      queen       0.3457\n",
       "2       queen        0.2931      kings       0.4590\n",
       "3        King        0.3409      Queen       0.4926\n",
       "4      prince        0.3505      royal       0.4995\n",
       "5       royal        0.4170       King       0.5180\n",
       "6      throne        0.4272     throne       0.5542\n",
       "7     kingdom        0.4343   princess       0.5551\n",
       "8     emperor        0.4468     prince       0.6073\n",
       "9        lord        0.4479     palace       0.6238"
      ]
     },
     "execution_count": 9,
     "metadata": {},
     "output_type": "execute_result"
    }
   ],
   "source": [
    "retreive_most_similar(lang_ft, start=\"king\", positive=[\"woman\"], negative=[\"man\"], metric='cosine')"
   ]
  },
  {
   "cell_type": "markdown",
   "metadata": {},
   "source": [
    "So what is happening here? Let's try some more arithmetic. Can we at least confirm that king - man + woman - queen = 0?"
   ]
  },
  {
   "cell_type": "code",
   "execution_count": 10,
   "metadata": {},
   "outputs": [
    {
     "data": {
      "text/plain": [
       "(1.5576003, 1.3054631, 1.751094, 1.0092078)"
      ]
     },
     "execution_count": 10,
     "metadata": {},
     "output_type": "execute_result"
    }
   ],
   "source": [
    "lang_ft['king'].norm, lang_ft['queen'].norm, lang_ft['man'].norm, lang_ft['woman'].norm"
   ]
  },
  {
   "cell_type": "code",
   "execution_count": 11,
   "metadata": {},
   "outputs": [
    {
     "data": {
      "text/plain": [
       "1.1205987"
      ]
     },
     "execution_count": 11,
     "metadata": {},
     "output_type": "execute_result"
    }
   ],
   "source": [
    "(lang_ft['king'] - lang_ft['queen']).norm"
   ]
  },
  {
   "cell_type": "code",
   "execution_count": 12,
   "metadata": {},
   "outputs": [
    {
     "data": {
      "text/plain": [
       "1.2525381"
      ]
     },
     "execution_count": 12,
     "metadata": {},
     "output_type": "execute_result"
    }
   ],
   "source": [
    "(lang_ft['king'] - lang_ft['man'] + lang_ft['woman'] - lang_ft['queen']).norm"
   ]
  },
  {
   "cell_type": "markdown",
   "metadata": {},
   "source": [
    "The remainder distance from the original is larger than the distance from the origin to \"woman\". We could wonder ... what are similar words then? "
   ]
  },
  {
   "cell_type": "code",
   "execution_count": 13,
   "metadata": {},
   "outputs": [
    {
     "data": {
      "text/plain": [
       "[(Emb[king], 0.791412353515625),\n",
       " (Emb[Libraries], 0.7980725765228271),\n",
       " (Emb[Resolution], 0.800546407699585),\n",
       " (Emb[CE], 0.8015693426132202),\n",
       " (Emb[Curriculum], 0.8188096284866333),\n",
       " (Emb[Distance], 0.8230936527252197),\n",
       " (Emb[Availability], 0.82375168800354),\n",
       " (Emb[Approved], 0.8281855583190918),\n",
       " (Emb[VMware], 0.833002507686615),\n",
       " (Emb[Joint], 0.8336302042007446)]"
      ]
     },
     "execution_count": 13,
     "metadata": {},
     "output_type": "execute_result"
    }
   ],
   "source": [
    "lang_ft.score_similar(lang_ft['king'] - lang_ft['man'] + lang_ft['woman'] - lang_ft['queen'], metric='cosine')"
   ]
  },
  {
   "cell_type": "code",
   "execution_count": 14,
   "metadata": {},
   "outputs": [
    {
     "data": {
      "text/plain": [
       "[(Emb[recommendations], 1.252441644668579),\n",
       " (Emb[Infrastructure], 1.2569397687911987),\n",
       " (Emb[implementation], 1.2609138488769531),\n",
       " (Emb[Representatives], 1.264564871788025),\n",
       " (Emb[presentations], 1.2687432765960693),\n",
       " (Emb[recommended], 1.2698208093643188),\n",
       " (Emb[recommendation], 1.2702345848083496),\n",
       " (Emb[Communications], 1.271458387374878),\n",
       " (Emb[representatives], 1.2715258598327637),\n",
       " (Emb[recommending], 1.271669864654541)]"
      ]
     },
     "execution_count": 14,
     "metadata": {},
     "output_type": "execute_result"
    }
   ],
   "source": [
    "lang_ft.score_similar(lang_ft['king'] - lang_ft['man'] + lang_ft['woman'] - lang_ft['queen'], metric='euclidean')"
   ]
  },
  {
   "cell_type": "markdown",
   "metadata": {},
   "source": [
    "Let's maybe now considering something else that might be happening instead. "
   ]
  },
  {
   "cell_type": "code",
   "execution_count": 15,
   "metadata": {},
   "outputs": [
    {
     "data": {
      "image/png": "[encoded data removed]",
      "text/plain": [
       "<Figure size 432x288 with 2 Axes>"
      ]
     },
     "metadata": {
      "needs_background": "light"
     },
     "output_type": "display_data"
    }
   ],
   "source": [
    "lang_ft[['king', 'queen', 'man', 'woman']].plot_distance()"
   ]
  },
  {
   "cell_type": "markdown",
   "metadata": {},
   "source": [
    "Notice that man and woman are very similar! Maybe ... don't they just cancel eachother out?\n",
    "\n",
    "It might be that we just get a little bit of noise that we add to `king`. This is enough noise to make it different, but not enough to move out of the cluster of words that it is in. Note that `queen` and `king` are also really similar upfront as well. When we apply the same operation on `host`-`hostess` we see that it no longer has the same effect."
   ]
  },
  {
   "cell_type": "code",
   "execution_count": 30,
   "metadata": {},
   "outputs": [
    {
     "data": {
      "text/html": [
       "<div>\n",
       "<style scoped>\n",
       "    .dataframe tbody tr th:only-of-type {\n",
       "        vertical-align: middle;\n",
       "    }\n",
       "\n",
       "    .dataframe tbody tr th {\n",
       "        vertical-align: top;\n",
       "    }\n",
       "\n",
       "    .dataframe thead th {\n",
       "        text-align: right;\n",
       "    }\n",
       "</style>\n",
       "<table border=\"1\" class=\"dataframe\">\n",
       "  <thead>\n",
       "    <tr style=\"text-align: right;\">\n",
       "      <th></th>\n",
       "      <th>before_word</th>\n",
       "      <th>before_score</th>\n",
       "      <th>after_word</th>\n",
       "      <th>after_score</th>\n",
       "    </tr>\n",
       "  </thead>\n",
       "  <tbody>\n",
       "    <tr>\n",
       "      <th>0</th>\n",
       "      <td>host</td>\n",
       "      <td>0.0000</td>\n",
       "      <td>host</td>\n",
       "      <td>0.2425</td>\n",
       "    </tr>\n",
       "    <tr>\n",
       "      <th>1</th>\n",
       "      <td>hosts</td>\n",
       "      <td>0.1629</td>\n",
       "      <td>hosts</td>\n",
       "      <td>0.3770</td>\n",
       "    </tr>\n",
       "    <tr>\n",
       "      <th>2</th>\n",
       "      <td>Host</td>\n",
       "      <td>0.3050</td>\n",
       "      <td>Host</td>\n",
       "      <td>0.4762</td>\n",
       "    </tr>\n",
       "    <tr>\n",
       "      <th>3</th>\n",
       "      <td>hosting</td>\n",
       "      <td>0.4165</td>\n",
       "      <td>hosting</td>\n",
       "      <td>0.5443</td>\n",
       "    </tr>\n",
       "    <tr>\n",
       "      <th>4</th>\n",
       "      <td>hostess</td>\n",
       "      <td>0.4497</td>\n",
       "      <td>hostess</td>\n",
       "      <td>0.5617</td>\n",
       "    </tr>\n",
       "    <tr>\n",
       "      <th>5</th>\n",
       "      <td>hosted</td>\n",
       "      <td>0.4601</td>\n",
       "      <td>accommodating</td>\n",
       "      <td>0.6195</td>\n",
       "    </tr>\n",
       "    <tr>\n",
       "      <th>6</th>\n",
       "      <td>accommodating</td>\n",
       "      <td>0.5114</td>\n",
       "      <td>guest</td>\n",
       "      <td>0.6208</td>\n",
       "    </tr>\n",
       "    <tr>\n",
       "      <th>7</th>\n",
       "      <td>welcoming</td>\n",
       "      <td>0.5263</td>\n",
       "      <td>hosted</td>\n",
       "      <td>0.6252</td>\n",
       "    </tr>\n",
       "    <tr>\n",
       "      <th>8</th>\n",
       "      <td>guest</td>\n",
       "      <td>0.5316</td>\n",
       "      <td>welcoming</td>\n",
       "      <td>0.6366</td>\n",
       "    </tr>\n",
       "    <tr>\n",
       "      <th>9</th>\n",
       "      <td>gracious</td>\n",
       "      <td>0.5461</td>\n",
       "      <td>presenter</td>\n",
       "      <td>0.6387</td>\n",
       "    </tr>\n",
       "  </tbody>\n",
       "</table>\n",
       "</div>"
      ],
      "text/plain": [
       "     before_word  before_score     after_word  after_score\n",
       "0           host        0.0000           host       0.2425\n",
       "1          hosts        0.1629          hosts       0.3770\n",
       "2           Host        0.3050           Host       0.4762\n",
       "3        hosting        0.4165        hosting       0.5443\n",
       "4        hostess        0.4497        hostess       0.5617\n",
       "5         hosted        0.4601  accommodating       0.6195\n",
       "6  accommodating        0.5114          guest       0.6208\n",
       "7      welcoming        0.5263         hosted       0.6252\n",
       "8          guest        0.5316      welcoming       0.6366\n",
       "9       gracious        0.5461      presenter       0.6387"
      ]
     },
     "execution_count": 30,
     "metadata": {},
     "output_type": "execute_result"
    }
   ],
   "source": [
    "retreive_most_similar(lang_ft, start=\"host\", positive=[\"fast\"], negative=[\"slow\"], metric='cosine')"
   ]
  },
  {
   "cell_type": "code",
   "execution_count": 16,
   "metadata": {},
   "outputs": [
    {
     "data": {
      "text/html": [
       "<div>\n",
       "<style scoped>\n",
       "    .dataframe tbody tr th:only-of-type {\n",
       "        vertical-align: middle;\n",
       "    }\n",
       "\n",
       "    .dataframe tbody tr th {\n",
       "        vertical-align: top;\n",
       "    }\n",
       "\n",
       "    .dataframe thead th {\n",
       "        text-align: right;\n",
       "    }\n",
       "</style>\n",
       "<table border=\"1\" class=\"dataframe\">\n",
       "  <thead>\n",
       "    <tr style=\"text-align: right;\">\n",
       "      <th></th>\n",
       "      <th>before_word</th>\n",
       "      <th>before_score</th>\n",
       "      <th>after_word</th>\n",
       "      <th>after_score</th>\n",
       "    </tr>\n",
       "  </thead>\n",
       "  <tbody>\n",
       "    <tr>\n",
       "      <th>0</th>\n",
       "      <td>host</td>\n",
       "      <td>0.0000</td>\n",
       "      <td>host</td>\n",
       "      <td>0.2688</td>\n",
       "    </tr>\n",
       "    <tr>\n",
       "      <th>1</th>\n",
       "      <td>hosts</td>\n",
       "      <td>0.1629</td>\n",
       "      <td>hosts</td>\n",
       "      <td>0.3679</td>\n",
       "    </tr>\n",
       "    <tr>\n",
       "      <th>2</th>\n",
       "      <td>Host</td>\n",
       "      <td>0.3050</td>\n",
       "      <td>Host</td>\n",
       "      <td>0.4748</td>\n",
       "    </tr>\n",
       "    <tr>\n",
       "      <th>3</th>\n",
       "      <td>hosting</td>\n",
       "      <td>0.4165</td>\n",
       "      <td>hosting</td>\n",
       "      <td>0.5227</td>\n",
       "    </tr>\n",
       "    <tr>\n",
       "      <th>4</th>\n",
       "      <td>hostess</td>\n",
       "      <td>0.4497</td>\n",
       "      <td>hosted</td>\n",
       "      <td>0.5508</td>\n",
       "    </tr>\n",
       "    <tr>\n",
       "      <th>5</th>\n",
       "      <td>hosted</td>\n",
       "      <td>0.4601</td>\n",
       "      <td>hostess</td>\n",
       "      <td>0.5527</td>\n",
       "    </tr>\n",
       "    <tr>\n",
       "      <th>6</th>\n",
       "      <td>accommodating</td>\n",
       "      <td>0.5114</td>\n",
       "      <td>accommodating</td>\n",
       "      <td>0.6481</td>\n",
       "    </tr>\n",
       "    <tr>\n",
       "      <th>7</th>\n",
       "      <td>welcoming</td>\n",
       "      <td>0.5263</td>\n",
       "      <td>welcoming</td>\n",
       "      <td>0.6502</td>\n",
       "    </tr>\n",
       "    <tr>\n",
       "      <th>8</th>\n",
       "      <td>guest</td>\n",
       "      <td>0.5316</td>\n",
       "      <td>presenter</td>\n",
       "      <td>0.6825</td>\n",
       "    </tr>\n",
       "    <tr>\n",
       "      <th>9</th>\n",
       "      <td>gracious</td>\n",
       "      <td>0.5461</td>\n",
       "      <td>guest</td>\n",
       "      <td>0.6882</td>\n",
       "    </tr>\n",
       "  </tbody>\n",
       "</table>\n",
       "</div>"
      ],
      "text/plain": [
       "     before_word  before_score     after_word  after_score\n",
       "0           host        0.0000           host       0.2688\n",
       "1          hosts        0.1629          hosts       0.3679\n",
       "2           Host        0.3050           Host       0.4748\n",
       "3        hosting        0.4165        hosting       0.5227\n",
       "4        hostess        0.4497         hosted       0.5508\n",
       "5         hosted        0.4601        hostess       0.5527\n",
       "6  accommodating        0.5114  accommodating       0.6481\n",
       "7      welcoming        0.5263      welcoming       0.6502\n",
       "8          guest        0.5316      presenter       0.6825\n",
       "9       gracious        0.5461          guest       0.6882"
      ]
     },
     "execution_count": 16,
     "metadata": {},
     "output_type": "execute_result"
    }
   ],
   "source": [
    "retreive_most_similar(lang_ft, start=\"host\", positive=[\"woman\"], negative=[\"man\"], metric='cosine')"
   ]
  },
  {
   "cell_type": "code",
   "execution_count": 17,
   "metadata": {},
   "outputs": [
    {
     "data": {
      "text/html": [
       "<div>\n",
       "<style scoped>\n",
       "    .dataframe tbody tr th:only-of-type {\n",
       "        vertical-align: middle;\n",
       "    }\n",
       "\n",
       "    .dataframe tbody tr th {\n",
       "        vertical-align: top;\n",
       "    }\n",
       "\n",
       "    .dataframe thead th {\n",
       "        text-align: right;\n",
       "    }\n",
       "</style>\n",
       "<table border=\"1\" class=\"dataframe\">\n",
       "  <thead>\n",
       "    <tr style=\"text-align: right;\">\n",
       "      <th></th>\n",
       "      <th>before_word</th>\n",
       "      <th>before_score</th>\n",
       "      <th>after_word</th>\n",
       "      <th>after_score</th>\n",
       "    </tr>\n",
       "  </thead>\n",
       "  <tbody>\n",
       "    <tr>\n",
       "      <th>0</th>\n",
       "      <td>host</td>\n",
       "      <td>0.0000</td>\n",
       "      <td>host</td>\n",
       "      <td>1.1739</td>\n",
       "    </tr>\n",
       "    <tr>\n",
       "      <th>1</th>\n",
       "      <td>hosts</td>\n",
       "      <td>0.7331</td>\n",
       "      <td>hosts</td>\n",
       "      <td>1.3301</td>\n",
       "    </tr>\n",
       "    <tr>\n",
       "      <th>2</th>\n",
       "      <td>Host</td>\n",
       "      <td>1.0875</td>\n",
       "      <td>hosting</td>\n",
       "      <td>1.5088</td>\n",
       "    </tr>\n",
       "    <tr>\n",
       "      <th>3</th>\n",
       "      <td>hosting</td>\n",
       "      <td>1.0878</td>\n",
       "      <td>hostess</td>\n",
       "      <td>1.5382</td>\n",
       "    </tr>\n",
       "    <tr>\n",
       "      <th>4</th>\n",
       "      <td>hostess</td>\n",
       "      <td>1.1257</td>\n",
       "      <td>hosted</td>\n",
       "      <td>1.5421</td>\n",
       "    </tr>\n",
       "    <tr>\n",
       "      <th>5</th>\n",
       "      <td>hosted</td>\n",
       "      <td>1.1468</td>\n",
       "      <td>Host</td>\n",
       "      <td>1.5554</td>\n",
       "    </tr>\n",
       "    <tr>\n",
       "      <th>6</th>\n",
       "      <td>welcoming</td>\n",
       "      <td>1.1805</td>\n",
       "      <td>welcoming</td>\n",
       "      <td>1.6080</td>\n",
       "    </tr>\n",
       "    <tr>\n",
       "      <th>7</th>\n",
       "      <td>accommodating</td>\n",
       "      <td>1.1942</td>\n",
       "      <td>accommodating</td>\n",
       "      <td>1.6185</td>\n",
       "    </tr>\n",
       "    <tr>\n",
       "      <th>8</th>\n",
       "      <td>gracious</td>\n",
       "      <td>1.1973</td>\n",
       "      <td>presenter</td>\n",
       "      <td>1.6318</td>\n",
       "    </tr>\n",
       "    <tr>\n",
       "      <th>9</th>\n",
       "      <td>presenter</td>\n",
       "      <td>1.2118</td>\n",
       "      <td>responsive</td>\n",
       "      <td>1.6433</td>\n",
       "    </tr>\n",
       "  </tbody>\n",
       "</table>\n",
       "</div>"
      ],
      "text/plain": [
       "     before_word  before_score     after_word  after_score\n",
       "0           host        0.0000           host       1.1739\n",
       "1          hosts        0.7331          hosts       1.3301\n",
       "2           Host        1.0875        hosting       1.5088\n",
       "3        hosting        1.0878        hostess       1.5382\n",
       "4        hostess        1.1257         hosted       1.5421\n",
       "5         hosted        1.1468           Host       1.5554\n",
       "6      welcoming        1.1805      welcoming       1.6080\n",
       "7  accommodating        1.1942  accommodating       1.6185\n",
       "8       gracious        1.1973      presenter       1.6318\n",
       "9      presenter        1.2118     responsive       1.6433"
      ]
     },
     "execution_count": 17,
     "metadata": {},
     "output_type": "execute_result"
    }
   ],
   "source": [
    "retreive_most_similar(lang_ft, start=\"host\", positive=[\"woman\"], negative=[\"man\"], metric='euclidean')"
   ]
  },
  {
   "cell_type": "markdown",
   "metadata": {},
   "source": [
    "It seems like we're not hitting the same \"analogy\" here because host and hostess were very different from eachother before. \n",
    "\n",
    "## Cluster Theory \n",
    "\n",
    "I'll try to draw what might be happening here with another example."
   ]
  },
  {
   "attachments": {
    "86f2f86b-7b16-4335-abee-e8a49c08fe6f.png": {
     "image/png": "[encoded data removed]"
    }
   },
   "cell_type": "markdown",
   "metadata": {},
   "source": [
    "![image.png](attachment:86f2f86b-7b16-4335-abee-e8a49c08fe6f.png)"
   ]
  },
  {
   "cell_type": "markdown",
   "metadata": {},
   "source": [
    "# Another Example \n",
    "\n",
    "Let's now consider another example. Now we'll do `purple - red + green`. "
   ]
  },
  {
   "cell_type": "markdown",
   "metadata": {},
   "source": [
    "But what happens when we add `green`? "
   ]
  },
  {
   "cell_type": "code",
   "execution_count": 20,
   "metadata": {},
   "outputs": [
    {
     "data": {
      "text/html": [
       "<div>\n",
       "<style scoped>\n",
       "    .dataframe tbody tr th:only-of-type {\n",
       "        vertical-align: middle;\n",
       "    }\n",
       "\n",
       "    .dataframe tbody tr th {\n",
       "        vertical-align: top;\n",
       "    }\n",
       "\n",
       "    .dataframe thead th {\n",
       "        text-align: right;\n",
       "    }\n",
       "</style>\n",
       "<table border=\"1\" class=\"dataframe\">\n",
       "  <thead>\n",
       "    <tr style=\"text-align: right;\">\n",
       "      <th></th>\n",
       "      <th>before_word</th>\n",
       "      <th>before_score</th>\n",
       "      <th>after_word</th>\n",
       "      <th>after_score</th>\n",
       "    </tr>\n",
       "  </thead>\n",
       "  <tbody>\n",
       "    <tr>\n",
       "      <th>0</th>\n",
       "      <td>purple</td>\n",
       "      <td>0.0000</td>\n",
       "      <td>compost</td>\n",
       "      <td>0.7421</td>\n",
       "    </tr>\n",
       "    <tr>\n",
       "      <th>1</th>\n",
       "      <td>pink</td>\n",
       "      <td>0.1827</td>\n",
       "      <td>greens</td>\n",
       "      <td>0.7434</td>\n",
       "    </tr>\n",
       "    <tr>\n",
       "      <th>2</th>\n",
       "      <td>blue</td>\n",
       "      <td>0.1932</td>\n",
       "      <td>sustainable</td>\n",
       "      <td>0.7482</td>\n",
       "    </tr>\n",
       "    <tr>\n",
       "      <th>3</th>\n",
       "      <td>red</td>\n",
       "      <td>0.2262</td>\n",
       "      <td>sustainability</td>\n",
       "      <td>0.7498</td>\n",
       "    </tr>\n",
       "    <tr>\n",
       "      <th>4</th>\n",
       "      <td>yellow</td>\n",
       "      <td>0.2491</td>\n",
       "      <td>gardening</td>\n",
       "      <td>0.7525</td>\n",
       "    </tr>\n",
       "    <tr>\n",
       "      <th>5</th>\n",
       "      <td>orange</td>\n",
       "      <td>0.2856</td>\n",
       "      <td>Sustainable</td>\n",
       "      <td>0.7606</td>\n",
       "    </tr>\n",
       "    <tr>\n",
       "      <th>6</th>\n",
       "      <td>green</td>\n",
       "      <td>0.3337</td>\n",
       "      <td>gardens</td>\n",
       "      <td>0.7661</td>\n",
       "    </tr>\n",
       "    <tr>\n",
       "      <th>7</th>\n",
       "      <td>turquoise</td>\n",
       "      <td>0.3736</td>\n",
       "      <td>landscaping</td>\n",
       "      <td>0.7848</td>\n",
       "    </tr>\n",
       "    <tr>\n",
       "      <th>8</th>\n",
       "      <td>brown</td>\n",
       "      <td>0.3882</td>\n",
       "      <td>environmentally</td>\n",
       "      <td>0.7942</td>\n",
       "    </tr>\n",
       "    <tr>\n",
       "      <th>9</th>\n",
       "      <td>grey</td>\n",
       "      <td>0.3962</td>\n",
       "      <td>garden</td>\n",
       "      <td>0.7973</td>\n",
       "    </tr>\n",
       "  </tbody>\n",
       "</table>\n",
       "</div>"
      ],
      "text/plain": [
       "  before_word  before_score       after_word  after_score\n",
       "0      purple        0.0000          compost       0.7421\n",
       "1        pink        0.1827           greens       0.7434\n",
       "2        blue        0.1932      sustainable       0.7482\n",
       "3         red        0.2262   sustainability       0.7498\n",
       "4      yellow        0.2491        gardening       0.7525\n",
       "5      orange        0.2856      Sustainable       0.7606\n",
       "6       green        0.3337          gardens       0.7661\n",
       "7   turquoise        0.3736      landscaping       0.7848\n",
       "8       brown        0.3882  environmentally       0.7942\n",
       "9        grey        0.3962           garden       0.7973"
      ]
     },
     "execution_count": 20,
     "metadata": {},
     "output_type": "execute_result"
    }
   ],
   "source": [
    "retreive_most_similar(lang_ft, start=\"purple\", negative=[\"red\"], positive=[\"green\"], metric='cosine')"
   ]
  },
  {
   "cell_type": "code",
   "execution_count": 21,
   "metadata": {},
   "outputs": [
    {
     "data": {
      "text/html": [
       "<div>\n",
       "<style scoped>\n",
       "    .dataframe tbody tr th:only-of-type {\n",
       "        vertical-align: middle;\n",
       "    }\n",
       "\n",
       "    .dataframe tbody tr th {\n",
       "        vertical-align: top;\n",
       "    }\n",
       "\n",
       "    .dataframe thead th {\n",
       "        text-align: right;\n",
       "    }\n",
       "</style>\n",
       "<table border=\"1\" class=\"dataframe\">\n",
       "  <thead>\n",
       "    <tr style=\"text-align: right;\">\n",
       "      <th></th>\n",
       "      <th>before_word</th>\n",
       "      <th>before_score</th>\n",
       "      <th>after_word</th>\n",
       "      <th>after_score</th>\n",
       "    </tr>\n",
       "  </thead>\n",
       "  <tbody>\n",
       "    <tr>\n",
       "      <th>0</th>\n",
       "      <td>purple</td>\n",
       "      <td>0.0000</td>\n",
       "      <td>sustainability</td>\n",
       "      <td>1.3013</td>\n",
       "    </tr>\n",
       "    <tr>\n",
       "      <th>1</th>\n",
       "      <td>yellow</td>\n",
       "      <td>0.6363</td>\n",
       "      <td>sustainable</td>\n",
       "      <td>1.3109</td>\n",
       "    </tr>\n",
       "    <tr>\n",
       "      <th>2</th>\n",
       "      <td>orange</td>\n",
       "      <td>0.6935</td>\n",
       "      <td>environmentally</td>\n",
       "      <td>1.3252</td>\n",
       "    </tr>\n",
       "    <tr>\n",
       "      <th>3</th>\n",
       "      <td>turquoise</td>\n",
       "      <td>0.6994</td>\n",
       "      <td>Sustainable</td>\n",
       "      <td>1.3256</td>\n",
       "    </tr>\n",
       "    <tr>\n",
       "      <th>4</th>\n",
       "      <td>colored</td>\n",
       "      <td>0.7546</td>\n",
       "      <td>Sustainability</td>\n",
       "      <td>1.3357</td>\n",
       "    </tr>\n",
       "    <tr>\n",
       "      <th>5</th>\n",
       "      <td>lavender</td>\n",
       "      <td>0.7740</td>\n",
       "      <td>landscaping</td>\n",
       "      <td>1.3357</td>\n",
       "    </tr>\n",
       "    <tr>\n",
       "      <th>6</th>\n",
       "      <td>coloured</td>\n",
       "      <td>0.7840</td>\n",
       "      <td>Infrastructure</td>\n",
       "      <td>1.3361</td>\n",
       "    </tr>\n",
       "    <tr>\n",
       "      <th>7</th>\n",
       "      <td>metallic</td>\n",
       "      <td>0.8018</td>\n",
       "      <td>initiatives</td>\n",
       "      <td>1.3375</td>\n",
       "    </tr>\n",
       "    <tr>\n",
       "      <th>8</th>\n",
       "      <td>strawberry</td>\n",
       "      <td>0.8134</td>\n",
       "      <td>development</td>\n",
       "      <td>1.3380</td>\n",
       "    </tr>\n",
       "    <tr>\n",
       "      <th>9</th>\n",
       "      <td>fluorescent</td>\n",
       "      <td>0.8160</td>\n",
       "      <td>implementation</td>\n",
       "      <td>1.3410</td>\n",
       "    </tr>\n",
       "  </tbody>\n",
       "</table>\n",
       "</div>"
      ],
      "text/plain": [
       "   before_word  before_score       after_word  after_score\n",
       "0       purple        0.0000   sustainability       1.3013\n",
       "1       yellow        0.6363      sustainable       1.3109\n",
       "2       orange        0.6935  environmentally       1.3252\n",
       "3    turquoise        0.6994      Sustainable       1.3256\n",
       "4      colored        0.7546   Sustainability       1.3357\n",
       "5     lavender        0.7740      landscaping       1.3357\n",
       "6     coloured        0.7840   Infrastructure       1.3361\n",
       "7     metallic        0.8018      initiatives       1.3375\n",
       "8   strawberry        0.8134      development       1.3380\n",
       "9  fluorescent        0.8160   implementation       1.3410"
      ]
     },
     "execution_count": 21,
     "metadata": {},
     "output_type": "execute_result"
    }
   ],
   "source": [
    "retreive_most_similar(lang_ft, start=\"purple\", negative=[\"red\"], positive=[\"green\"], metric='euclidean')"
   ]
  },
  {
   "cell_type": "markdown",
   "metadata": {},
   "source": [
    "So what can we say about these arithmetic operations? \n",
    "\n",
    "- It feels like a stretch to suggest that it resembles an analogy. Certainly not generally in all word-embeddings out there. It seems more likely like certain words are cancelling eachother and that we end up near the original embedding.\n",
    "- We need to remember that word embeddings don't learn the \"meaning\" of a word. Instead they represent how a word is being \"used\". The word \"green\" should resemble a color! But, in newspapers, it is commonly used as a term to refer to the environment. The words `love` and `hate` are incredibly similar because they appear in the same cluster, not because they have a similar meaning."
   ]
  }
 ],
 "metadata": {
  "kernelspec": {
   "display_name": "Python 3",
   "language": "python",
   "name": "python3"
  },
  "language_info": {
   "codemirror_mode": {
    "name": "ipython",
    "version": 3
   },
   "file_extension": ".py",
   "mimetype": "text/x-python",
   "name": "python",
   "nbconvert_exporter": "python",
   "pygments_lexer": "ipython3",
   "version": "3.7.7"
  }
 },
 "nbformat": 4,
 "nbformat_minor": 4
}
