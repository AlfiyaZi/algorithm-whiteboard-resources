{
  "nbformat": 4,
  "nbformat_minor": 0,
  "metadata": {
    "colab": {
      "name": "glove-variant-embeddings.ipynb",
      "provenance": [],
      "collapsed_sections": []
    },
    "kernelspec": {
      "name": "python3",
      "display_name": "Python 3"
    }
  },
  "cells": [
    {
      "cell_type": "code",
      "metadata": {
        "id": "P-TZJ-GsQ6Ux",
        "colab_type": "code",
        "outputId": "c1124759-414e-4284-b0f2-2c4872cdacc5",
        "colab": {
          "base_uri": "https://localhost:8080/",
          "height": 34
        }
      },
      "source": [
        "try:\n",
        "  # %tensorflow_version only exists in Colab.\n",
        "  %tensorflow_version 2.x\n",
        "except Exception:\n",
        "  pass"
      ],
      "execution_count": 0,
      "outputs": [
        {
          "output_type": "stream",
          "text": [
            "TensorFlow 2.x selected.\n"
          ],
          "name": "stdout"
        }
      ]
    },
    {
      "cell_type": "code",
      "metadata": {
        "id": "jP3k0ljEQgp1",
        "colab_type": "code",
        "colab": {}
      },
      "source": [
        "import numpy as np\n",
        "import tensorflow as tf\n",
        "import matplotlib.pylab as plt"
      ],
      "execution_count": 0,
      "outputs": []
    },
    {
      "cell_type": "markdown",
      "metadata": {
        "id": "mqLHeTh_UpTJ",
        "colab_type": "text"
      },
      "source": [
        "## Fetching the Data \n",
        "\n",
        "This is a bit annoying. But to download from kaggle we need to upload the kaggle API key here. Then we need to move the file to the correct folder after which we need to change the permissions. The error messages will not provide super helpful information so I've added the correct code here. \n",
        "\n",
        "You can also upload the dataset from kaggle manually or you can download all of this locally. The kaggle dataset can be found [here](https://www.kaggle.com/therohk/million-headlines).\n",
        "\n",
        "Then again, this code works;"
      ]
    },
    {
      "cell_type": "code",
      "metadata": {
        "id": "8qx7JAWSTkWY",
        "colab_type": "code",
        "colab": {}
      },
      "source": [
        "# from google.colab import files\n",
        "# files.upload()"
      ],
      "execution_count": 0,
      "outputs": []
    },
    {
      "cell_type": "code",
      "metadata": {
        "id": "09aL8dgCrr1p",
        "colab_type": "code",
        "outputId": "0c9e382e-eae0-41e8-d4f2-242d034d5b8c",
        "colab": {
          "base_uri": "https://localhost:8080/",
          "height": 35
        }
      },
      "source": [
        "ls"
      ],
      "execution_count": 0,
      "outputs": [
        {
          "output_type": "stream",
          "text": [
            "kaggle.json  \u001b[0m\u001b[01;34msample_data\u001b[0m/\n"
          ],
          "name": "stdout"
        }
      ]
    },
    {
      "cell_type": "code",
      "metadata": {
        "id": "lfda-NQGUiN1",
        "colab_type": "code",
        "outputId": "a7944ed8-5d5e-4914-e0ab-1e200fb819e5",
        "colab": {
          "base_uri": "https://localhost:8080/",
          "height": 69
        }
      },
      "source": [
        "! cp kaggle.json ~/.kaggle/\n",
        "! chmod 600 ~/.kaggle/kaggle.json\n",
        "! kaggle datasets download -d therohk/million-headlines"
      ],
      "execution_count": 0,
      "outputs": [
        {
          "output_type": "stream",
          "text": [
            "Downloading million-headlines.zip to /content\n",
            " 44% 9.00M/20.2M [00:01<00:01, 7.25MB/s]\n",
            "100% 20.2M/20.2M [00:01<00:00, 13.5MB/s]\n"
          ],
          "name": "stdout"
        }
      ]
    },
    {
      "cell_type": "markdown",
      "metadata": {
        "id": "PVSVaGOzLpmF",
        "colab_type": "text"
      },
      "source": [
        "The idea is to build something like this; \n",
        "\n",
        "```\n",
        "word_i -> together <- word_j \n",
        "```\n",
        "\n",
        "We will merely predict if these two words share context. In my book they will share context if they are in the same title. Later we will try to construct document embeddings as well."
      ]
    },
    {
      "cell_type": "markdown",
      "metadata": {
        "id": "ttXDwNveVRt6",
        "colab_type": "text"
      },
      "source": [
        "## Sequence of Letters \n",
        "\n",
        "Let's now take these headlines and grab sequences of letters out of them."
      ]
    },
    {
      "cell_type": "code",
      "metadata": {
        "id": "banoSM0VWuRG",
        "colab_type": "code",
        "colab": {}
      },
      "source": [
        "import pandas as pd\n",
        "import itertools as it \n",
        "from collections import Counter \n",
        "from functools import reduce \n",
        "\n",
        "n_documents = 20000\n",
        "\n",
        "headlines = pd.read_csv('million-headlines.zip')['headline_text'][:n_documents]"
      ],
      "execution_count": 0,
      "outputs": []
    },
    {
      "cell_type": "code",
      "metadata": {
        "id": "qUDQ8LqfdzmJ",
        "colab_type": "code",
        "outputId": "a6cfd8b5-d1b1-41c5-d0a1-a8a6d8e8876c",
        "colab": {
          "base_uri": "https://localhost:8080/",
          "height": 225
        }
      },
      "source": [
        "headlines"
      ],
      "execution_count": 0,
      "outputs": [
        {
          "output_type": "execute_result",
          "data": {
            "text/plain": [
              "0        aba decides against community broadcasting lic...\n",
              "1           act fire witnesses must be aware of defamation\n",
              "2           a g calls for infrastructure protection summit\n",
              "3                 air nz staff in aust strike for pay rise\n",
              "4            air nz strike to affect australian travellers\n",
              "                               ...                        \n",
              "19995            australian coach leaves french club brive\n",
              "19996    australia will always be an al qaeda target ex...\n",
              "19997     beattie praises federal govts environment effort\n",
              "19998             blackout cause still under investigation\n",
              "19999                boost planned for central vic tourism\n",
              "Name: headline_text, Length: 20000, dtype: object"
            ]
          },
          "metadata": {
            "tags": []
          },
          "execution_count": 8
        }
      ]
    },
    {
      "cell_type": "markdown",
      "metadata": {
        "id": "YpiCTpOEApPG",
        "colab_type": "text"
      },
      "source": [
        "The next codeblock looks strange but it is much faster to split the counters up."
      ]
    },
    {
      "cell_type": "code",
      "metadata": {
        "id": "kEVtKPBBUjmV",
        "colab_type": "code",
        "outputId": "b0fccd0f-a708-41d4-8946-9225b49ccf85",
        "colab": {
          "base_uri": "https://localhost:8080/",
          "height": 34
        }
      },
      "source": [
        "import tqdm\n",
        "\n",
        "combs = []\n",
        "bunchsize = 500\n",
        "for i in tqdm.tqdm(range(round(n_documents/bunchsize))):\n",
        "  g = (Counter(it.combinations(i.split(\" \"), 2)) for i in headlines[bunchsize*i:bunchsize*(i+1)])\n",
        "  combs.append(reduce(lambda x,y : x + y, g))"
      ],
      "execution_count": 0,
      "outputs": [
        {
          "output_type": "stream",
          "text": [
            "100%|██████████| 40/40 [00:40<00:00,  1.01s/it]\n"
          ],
          "name": "stderr"
        }
      ]
    },
    {
      "cell_type": "code",
      "metadata": {
        "id": "ZA7uzZ8kV0d8",
        "colab_type": "code",
        "colab": {}
      },
      "source": [
        "big_word_count = reduce(lambda x,y : x + y, combs)"
      ],
      "execution_count": 0,
      "outputs": []
    },
    {
      "cell_type": "code",
      "metadata": {
        "id": "2QkD8a7YWajd",
        "colab_type": "code",
        "colab": {}
      },
      "source": [
        "word_count = Counter([i[0] for i in big_word_count.keys()]) + Counter([i[1] for i in big_word_count.keys()])\n",
        "uniq_words = Counter(word_count.keys()).keys()\n",
        "num_words = len(uniq_words)"
      ],
      "execution_count": 0,
      "outputs": []
    },
    {
      "cell_type": "code",
      "metadata": {
        "id": "EwVCjxOPV1Hi",
        "colab_type": "code",
        "colab": {}
      },
      "source": [
        "m = {c: i for i, c in enumerate(uniq_words)}\n",
        "\n",
        "def gen_rand_tok(n):\n",
        "  t1 = np.random.choice(list(word_count.keys()), size=n, replace=True)\n",
        "  t2 = np.random.choice(list(word_count.keys()), size=n, replace=True)\n",
        "  return np.array([[m[w1], m[w2]] for w1, w2 in zip(t1, t2) if (w1, w2) not in big_word_count.keys()])"
      ],
      "execution_count": 0,
      "outputs": []
    },
    {
      "cell_type": "markdown",
      "metadata": {
        "id": "-vQvbovkavSe",
        "colab_type": "text"
      },
      "source": [
        "This is where we generate the training labels. "
      ]
    },
    {
      "cell_type": "code",
      "metadata": {
        "id": "jKX3ib72Y0Pl",
        "colab_type": "code",
        "colab": {}
      },
      "source": [
        "positive_integers = np.array([[m[w1], m[w2]] for w1, w2 in big_word_count.keys()])\n",
        "negative_integers = gen_rand_tok(n=positive_integers.shape[0])\n",
        "\n",
        "integers_in = np.concatenate([positive_integers, negative_integers])\n",
        "labels_in = np.concatenate([list(big_word_count.values()), np.zeros(negative_integers.shape[0])])"
      ],
      "execution_count": 0,
      "outputs": []
    },
    {
      "cell_type": "code",
      "metadata": {
        "id": "Pmt1k0YhQi0m",
        "colab_type": "code",
        "colab": {}
      },
      "source": [
        "from tensorflow.keras.layers import Embedding, Dense, Flatten, Input, Dot\n",
        "from tensorflow.keras.models import Sequential, Model\n",
        "\n",
        "dim_words = 5\n",
        "\n",
        "# this one is so we might grab the embeddings\n",
        "model_emb = Sequential()\n",
        "embedding = Embedding(num_words, dim_words, input_length=1)\n",
        "model_emb.add(embedding)\n",
        "model_emb.add(Flatten())\n",
        "\n",
        "word_one = Input(shape=(1,))\n",
        "word_two = Input(shape=(1,))\n",
        "\n",
        "cross_prod = Dot(axes=1)([model_emb(word_one), model_emb(word_two)])\n",
        "out = Dense(1, activation=\"relu\")(cross_prod)\n",
        "\n",
        "glovelike = Model(inputs=[word_one, word_two], outputs=out)"
      ],
      "execution_count": 0,
      "outputs": []
    },
    {
      "cell_type": "code",
      "metadata": {
        "id": "pEmpigx8aNEu",
        "colab_type": "code",
        "colab": {}
      },
      "source": [
        "from tensorflow.keras.optimizers import Adam"
      ],
      "execution_count": 0,
      "outputs": []
    },
    {
      "cell_type": "code",
      "metadata": {
        "id": "R7giKj1SBZpB",
        "colab_type": "code",
        "outputId": "a95af3a4-25ab-44ec-cdf1-d88cae3f5416",
        "colab": {
          "base_uri": "https://localhost:8080/",
          "height": 990
        }
      },
      "source": [
        "for lr, epo in zip([0.02, 0.01, 0.002], [5, 10, 10]):\n",
        "  print(f\"stepsize={lr}\")\n",
        "  adam = Adam(learning_rate=lr, beta_1=0.9, beta_2=0.999, amsgrad=False)\n",
        "  glovelike.compile(adam, 'mse', metrics=['accuracy'])\n",
        "  glovelike.fit(x=[integers_in[:, 0], integers_in[:, 1]], y=labels_in, epochs=epo, verbose=1)"
      ],
      "execution_count": 0,
      "outputs": [
        {
          "output_type": "stream",
          "text": [
            "stepsize=0.02\n",
            "Train on 514741 samples\n",
            "Epoch 1/5\n",
            "514741/514741 [==============================] - 33s 65us/sample - loss: 3.9293 - accuracy: 0.4297\n",
            "Epoch 2/5\n",
            "514741/514741 [==============================] - 33s 64us/sample - loss: 3.9356 - accuracy: 0.4379\n",
            "Epoch 3/5\n",
            "514741/514741 [==============================] - 33s 64us/sample - loss: 3.9519 - accuracy: 0.4420\n",
            "Epoch 4/5\n",
            "514741/514741 [==============================] - 33s 65us/sample - loss: 3.7523 - accuracy: 0.5104\n",
            "Epoch 5/5\n",
            "514741/514741 [==============================] - 34s 66us/sample - loss: 3.4820 - accuracy: 0.5214\n",
            "stepsize=0.01\n",
            "Train on 514741 samples\n",
            "Epoch 1/10\n",
            "514741/514741 [==============================] - 33s 65us/sample - loss: 3.1277 - accuracy: 0.5090\n",
            "Epoch 2/10\n",
            "514741/514741 [==============================] - 33s 64us/sample - loss: 3.0049 - accuracy: 0.5079\n",
            "Epoch 3/10\n",
            "514741/514741 [==============================] - 33s 64us/sample - loss: 2.9321 - accuracy: 0.5064\n",
            "Epoch 4/10\n",
            "514741/514741 [==============================] - 33s 64us/sample - loss: 2.8976 - accuracy: 0.5058\n",
            "Epoch 5/10\n",
            "514741/514741 [==============================] - 33s 65us/sample - loss: 2.8780 - accuracy: 0.5056\n",
            "Epoch 6/10\n",
            "514741/514741 [==============================] - 34s 66us/sample - loss: 2.8392 - accuracy: 0.5048\n",
            "Epoch 7/10\n",
            "514741/514741 [==============================] - 34s 66us/sample - loss: 2.8284 - accuracy: 0.5052\n",
            "Epoch 8/10\n",
            "514741/514741 [==============================] - 34s 66us/sample - loss: 2.8208 - accuracy: 0.5047\n",
            "Epoch 9/10\n",
            "514741/514741 [==============================] - 34s 66us/sample - loss: 2.8124 - accuracy: 0.5048\n",
            "Epoch 10/10\n",
            "514741/514741 [==============================] - 35s 68us/sample - loss: 2.8126 - accuracy: 0.5055\n",
            "stepsize=0.002\n",
            "Train on 514741 samples\n",
            "Epoch 1/10\n",
            "514741/514741 [==============================] - 34s 66us/sample - loss: 2.5835 - accuracy: 0.5056\n",
            "Epoch 2/10\n",
            "514741/514741 [==============================] - 34s 65us/sample - loss: 2.5145 - accuracy: 0.5067\n",
            "Epoch 3/10\n",
            "514741/514741 [==============================] - 33s 65us/sample - loss: 2.4770 - accuracy: 0.5077\n",
            "Epoch 4/10\n",
            "514741/514741 [==============================] - 33s 65us/sample - loss: 2.4459 - accuracy: 0.5088\n",
            "Epoch 5/10\n",
            "514741/514741 [==============================] - 33s 65us/sample - loss: 2.4361 - accuracy: 0.5095\n",
            "Epoch 6/10\n",
            "514741/514741 [==============================] - 33s 64us/sample - loss: 2.4315 - accuracy: 0.5107\n",
            "Epoch 7/10\n",
            "514741/514741 [==============================] - 33s 64us/sample - loss: 2.4171 - accuracy: 0.5116\n",
            "Epoch 8/10\n",
            "514741/514741 [==============================] - 33s 64us/sample - loss: 2.3945 - accuracy: 0.5123\n",
            "Epoch 9/10\n",
            "514741/514741 [==============================] - 34s 66us/sample - loss: 2.4018 - accuracy: 0.5130\n",
            "Epoch 10/10\n",
            "514741/514741 [==============================] - 33s 65us/sample - loss: 2.3925 - accuracy: 0.5146\n"
          ],
          "name": "stdout"
        }
      ]
    },
    {
      "cell_type": "code",
      "metadata": {
        "id": "rnPMKZnZWbMw",
        "colab_type": "code",
        "colab": {}
      },
      "source": [
        "# for i in range(100, 200):\n",
        "#   print(headlines[i])"
      ],
      "execution_count": 0,
      "outputs": []
    },
    {
      "cell_type": "code",
      "metadata": {
        "id": "15mlBdDOcmNx",
        "colab_type": "code",
        "colab": {}
      },
      "source": [
        "words = ['violence', 'arrested', 'murder', 'police', 'jury', 'minister', 'health', 'finance', 'banks', 'wildlife', 'doctor',]\n",
        "emb = model_emb.predict([m[i] for i in words])"
      ],
      "execution_count": 0,
      "outputs": []
    },
    {
      "cell_type": "code",
      "metadata": {
        "id": "QQp8gi3fftUz",
        "colab_type": "code",
        "outputId": "f1079479-d9fc-433f-9f31-1994edb3a7d2",
        "colab": {
          "base_uri": "https://localhost:8080/",
          "height": 265
        }
      },
      "source": [
        "plt.scatter(emb[:, 0], emb[:, 1], alpha=0)\n",
        "for i, w in enumerate(words):\n",
        "  plt.text(emb[i, 0], emb[i, 1], w)"
      ],
      "execution_count": 0,
      "outputs": [
        {
          "output_type": "display_data",
          "data": {
            "image/png": "[encoded data removed]",
            "text/plain": [
              "<Figure size 432x288 with 1 Axes>"
            ]
          },
          "metadata": {
            "tags": []
          }
        }
      ]
    },
    {
      "cell_type": "markdown",
      "metadata": {
        "id": "D0FtS29oxF1U",
        "colab_type": "text"
      },
      "source": [
        "## Cosine Distances \n",
        "\n",
        "Let's compare some of these distances now."
      ]
    },
    {
      "cell_type": "code",
      "metadata": {
        "id": "E4MR8YzYmZY7",
        "colab_type": "code",
        "colab": {}
      },
      "source": [
        "from scipy.spatial import distance\n",
        "import pandas as pd"
      ],
      "execution_count": 0,
      "outputs": []
    },
    {
      "cell_type": "code",
      "metadata": {
        "id": "t9FO7BBurF2f",
        "colab_type": "code",
        "outputId": "0826537f-6902-4de6-ac92-f79117531b9f",
        "colab": {
          "base_uri": "https://localhost:8080/",
          "height": 275
        }
      },
      "source": [
        "df = pd.DataFrame(distance.cdist(emb, emb, 'cosine'), columns=words)\n",
        "df.index = words\n",
        "q1, q2 = df.quantile([0.2, 0.8]).mean(axis=1).values\n",
        "\n",
        "def color(val):\n",
        "    if val < q1:\n",
        "        color = 'green'\n",
        "    elif val > q2:\n",
        "        color = 'red'\n",
        "    else:\n",
        "        color = 'yellow'\n",
        "    return 'background-color: %s' % color\n",
        "\n",
        "df.style.applymap(color)"
      ],
      "execution_count": 0,
      "outputs": [
        {
          "output_type": "execute_result",
          "data": {
            "text/html": [
              "<style  type=\"text/css\" >\n",
              "    #T_172f85f4_6df4_11ea_864c_0242ac1c0002row0_col0 {\n",
              "            background-color:  green;\n",
              "        }    #T_172f85f4_6df4_11ea_864c_0242ac1c0002row0_col1 {\n",
              "            background-color:  green;\n",
              "        }    #T_172f85f4_6df4_11ea_864c_0242ac1c0002row0_col2 {\n",
              "            background-color:  yellow;\n",
              "        }    #T_172f85f4_6df4_11ea_864c_0242ac1c0002row0_col3 {\n",
              "            background-color:  yellow;\n",
              "        }    #T_172f85f4_6df4_11ea_864c_0242ac1c0002row0_col4 {\n",
              "            background-color:  yellow;\n",
              "        }    #T_172f85f4_6df4_11ea_864c_0242ac1c0002row0_col5 {\n",
              "            background-color:  green;\n",
              "        }    #T_172f85f4_6df4_11ea_864c_0242ac1c0002row0_col6 {\n",
              "            background-color:  yellow;\n",
              "        }    #T_172f85f4_6df4_11ea_864c_0242ac1c0002row0_col7 {\n",
              "            background-color:  yellow;\n",
              "        }    #T_172f85f4_6df4_11ea_864c_0242ac1c0002row0_col8 {\n",
              "            background-color:  green;\n",
              "        }    #T_172f85f4_6df4_11ea_864c_0242ac1c0002row0_col9 {\n",
              "            background-color:  red;\n",
              "        }    #T_172f85f4_6df4_11ea_864c_0242ac1c0002row0_col10 {\n",
              "            background-color:  green;\n",
              "        }    #T_172f85f4_6df4_11ea_864c_0242ac1c0002row1_col0 {\n",
              "            background-color:  green;\n",
              "        }    #T_172f85f4_6df4_11ea_864c_0242ac1c0002row1_col1 {\n",
              "            background-color:  green;\n",
              "        }    #T_172f85f4_6df4_11ea_864c_0242ac1c0002row1_col2 {\n",
              "            background-color:  yellow;\n",
              "        }    #T_172f85f4_6df4_11ea_864c_0242ac1c0002row1_col3 {\n",
              "            background-color:  yellow;\n",
              "        }    #T_172f85f4_6df4_11ea_864c_0242ac1c0002row1_col4 {\n",
              "            background-color:  yellow;\n",
              "        }    #T_172f85f4_6df4_11ea_864c_0242ac1c0002row1_col5 {\n",
              "            background-color:  yellow;\n",
              "        }    #T_172f85f4_6df4_11ea_864c_0242ac1c0002row1_col6 {\n",
              "            background-color:  yellow;\n",
              "        }    #T_172f85f4_6df4_11ea_864c_0242ac1c0002row1_col7 {\n",
              "            background-color:  red;\n",
              "        }    #T_172f85f4_6df4_11ea_864c_0242ac1c0002row1_col8 {\n",
              "            background-color:  red;\n",
              "        }    #T_172f85f4_6df4_11ea_864c_0242ac1c0002row1_col9 {\n",
              "            background-color:  red;\n",
              "        }    #T_172f85f4_6df4_11ea_864c_0242ac1c0002row1_col10 {\n",
              "            background-color:  yellow;\n",
              "        }    #T_172f85f4_6df4_11ea_864c_0242ac1c0002row2_col0 {\n",
              "            background-color:  yellow;\n",
              "        }    #T_172f85f4_6df4_11ea_864c_0242ac1c0002row2_col1 {\n",
              "            background-color:  yellow;\n",
              "        }    #T_172f85f4_6df4_11ea_864c_0242ac1c0002row2_col2 {\n",
              "            background-color:  green;\n",
              "        }    #T_172f85f4_6df4_11ea_864c_0242ac1c0002row2_col3 {\n",
              "            background-color:  yellow;\n",
              "        }    #T_172f85f4_6df4_11ea_864c_0242ac1c0002row2_col4 {\n",
              "            background-color:  yellow;\n",
              "        }    #T_172f85f4_6df4_11ea_864c_0242ac1c0002row2_col5 {\n",
              "            background-color:  yellow;\n",
              "        }    #T_172f85f4_6df4_11ea_864c_0242ac1c0002row2_col6 {\n",
              "            background-color:  yellow;\n",
              "        }    #T_172f85f4_6df4_11ea_864c_0242ac1c0002row2_col7 {\n",
              "            background-color:  red;\n",
              "        }    #T_172f85f4_6df4_11ea_864c_0242ac1c0002row2_col8 {\n",
              "            background-color:  red;\n",
              "        }    #T_172f85f4_6df4_11ea_864c_0242ac1c0002row2_col9 {\n",
              "            background-color:  red;\n",
              "        }    #T_172f85f4_6df4_11ea_864c_0242ac1c0002row2_col10 {\n",
              "            background-color:  yellow;\n",
              "        }    #T_172f85f4_6df4_11ea_864c_0242ac1c0002row3_col0 {\n",
              "            background-color:  yellow;\n",
              "        }    #T_172f85f4_6df4_11ea_864c_0242ac1c0002row3_col1 {\n",
              "            background-color:  yellow;\n",
              "        }    #T_172f85f4_6df4_11ea_864c_0242ac1c0002row3_col2 {\n",
              "            background-color:  yellow;\n",
              "        }    #T_172f85f4_6df4_11ea_864c_0242ac1c0002row3_col3 {\n",
              "            background-color:  green;\n",
              "        }    #T_172f85f4_6df4_11ea_864c_0242ac1c0002row3_col4 {\n",
              "            background-color:  red;\n",
              "        }    #T_172f85f4_6df4_11ea_864c_0242ac1c0002row3_col5 {\n",
              "            background-color:  yellow;\n",
              "        }    #T_172f85f4_6df4_11ea_864c_0242ac1c0002row3_col6 {\n",
              "            background-color:  yellow;\n",
              "        }    #T_172f85f4_6df4_11ea_864c_0242ac1c0002row3_col7 {\n",
              "            background-color:  yellow;\n",
              "        }    #T_172f85f4_6df4_11ea_864c_0242ac1c0002row3_col8 {\n",
              "            background-color:  yellow;\n",
              "        }    #T_172f85f4_6df4_11ea_864c_0242ac1c0002row3_col9 {\n",
              "            background-color:  yellow;\n",
              "        }    #T_172f85f4_6df4_11ea_864c_0242ac1c0002row3_col10 {\n",
              "            background-color:  red;\n",
              "        }    #T_172f85f4_6df4_11ea_864c_0242ac1c0002row4_col0 {\n",
              "            background-color:  yellow;\n",
              "        }    #T_172f85f4_6df4_11ea_864c_0242ac1c0002row4_col1 {\n",
              "            background-color:  yellow;\n",
              "        }    #T_172f85f4_6df4_11ea_864c_0242ac1c0002row4_col2 {\n",
              "            background-color:  yellow;\n",
              "        }    #T_172f85f4_6df4_11ea_864c_0242ac1c0002row4_col3 {\n",
              "            background-color:  red;\n",
              "        }    #T_172f85f4_6df4_11ea_864c_0242ac1c0002row4_col4 {\n",
              "            background-color:  green;\n",
              "        }    #T_172f85f4_6df4_11ea_864c_0242ac1c0002row4_col5 {\n",
              "            background-color:  yellow;\n",
              "        }    #T_172f85f4_6df4_11ea_864c_0242ac1c0002row4_col6 {\n",
              "            background-color:  red;\n",
              "        }    #T_172f85f4_6df4_11ea_864c_0242ac1c0002row4_col7 {\n",
              "            background-color:  red;\n",
              "        }    #T_172f85f4_6df4_11ea_864c_0242ac1c0002row4_col8 {\n",
              "            background-color:  yellow;\n",
              "        }    #T_172f85f4_6df4_11ea_864c_0242ac1c0002row4_col9 {\n",
              "            background-color:  red;\n",
              "        }    #T_172f85f4_6df4_11ea_864c_0242ac1c0002row4_col10 {\n",
              "            background-color:  yellow;\n",
              "        }    #T_172f85f4_6df4_11ea_864c_0242ac1c0002row5_col0 {\n",
              "            background-color:  green;\n",
              "        }    #T_172f85f4_6df4_11ea_864c_0242ac1c0002row5_col1 {\n",
              "            background-color:  yellow;\n",
              "        }    #T_172f85f4_6df4_11ea_864c_0242ac1c0002row5_col2 {\n",
              "            background-color:  yellow;\n",
              "        }    #T_172f85f4_6df4_11ea_864c_0242ac1c0002row5_col3 {\n",
              "            background-color:  yellow;\n",
              "        }    #T_172f85f4_6df4_11ea_864c_0242ac1c0002row5_col4 {\n",
              "            background-color:  yellow;\n",
              "        }    #T_172f85f4_6df4_11ea_864c_0242ac1c0002row5_col5 {\n",
              "            background-color:  green;\n",
              "        }    #T_172f85f4_6df4_11ea_864c_0242ac1c0002row5_col6 {\n",
              "            background-color:  green;\n",
              "        }    #T_172f85f4_6df4_11ea_864c_0242ac1c0002row5_col7 {\n",
              "            background-color:  green;\n",
              "        }    #T_172f85f4_6df4_11ea_864c_0242ac1c0002row5_col8 {\n",
              "            background-color:  green;\n",
              "        }    #T_172f85f4_6df4_11ea_864c_0242ac1c0002row5_col9 {\n",
              "            background-color:  yellow;\n",
              "        }    #T_172f85f4_6df4_11ea_864c_0242ac1c0002row5_col10 {\n",
              "            background-color:  green;\n",
              "        }    #T_172f85f4_6df4_11ea_864c_0242ac1c0002row6_col0 {\n",
              "            background-color:  yellow;\n",
              "        }    #T_172f85f4_6df4_11ea_864c_0242ac1c0002row6_col1 {\n",
              "            background-color:  yellow;\n",
              "        }    #T_172f85f4_6df4_11ea_864c_0242ac1c0002row6_col2 {\n",
              "            background-color:  yellow;\n",
              "        }    #T_172f85f4_6df4_11ea_864c_0242ac1c0002row6_col3 {\n",
              "            background-color:  yellow;\n",
              "        }    #T_172f85f4_6df4_11ea_864c_0242ac1c0002row6_col4 {\n",
              "            background-color:  red;\n",
              "        }    #T_172f85f4_6df4_11ea_864c_0242ac1c0002row6_col5 {\n",
              "            background-color:  green;\n",
              "        }    #T_172f85f4_6df4_11ea_864c_0242ac1c0002row6_col6 {\n",
              "            background-color:  green;\n",
              "        }    #T_172f85f4_6df4_11ea_864c_0242ac1c0002row6_col7 {\n",
              "            background-color:  yellow;\n",
              "        }    #T_172f85f4_6df4_11ea_864c_0242ac1c0002row6_col8 {\n",
              "            background-color:  yellow;\n",
              "        }    #T_172f85f4_6df4_11ea_864c_0242ac1c0002row6_col9 {\n",
              "            background-color:  yellow;\n",
              "        }    #T_172f85f4_6df4_11ea_864c_0242ac1c0002row6_col10 {\n",
              "            background-color:  green;\n",
              "        }    #T_172f85f4_6df4_11ea_864c_0242ac1c0002row7_col0 {\n",
              "            background-color:  yellow;\n",
              "        }    #T_172f85f4_6df4_11ea_864c_0242ac1c0002row7_col1 {\n",
              "            background-color:  red;\n",
              "        }    #T_172f85f4_6df4_11ea_864c_0242ac1c0002row7_col2 {\n",
              "            background-color:  red;\n",
              "        }    #T_172f85f4_6df4_11ea_864c_0242ac1c0002row7_col3 {\n",
              "            background-color:  yellow;\n",
              "        }    #T_172f85f4_6df4_11ea_864c_0242ac1c0002row7_col4 {\n",
              "            background-color:  red;\n",
              "        }    #T_172f85f4_6df4_11ea_864c_0242ac1c0002row7_col5 {\n",
              "            background-color:  green;\n",
              "        }    #T_172f85f4_6df4_11ea_864c_0242ac1c0002row7_col6 {\n",
              "            background-color:  yellow;\n",
              "        }    #T_172f85f4_6df4_11ea_864c_0242ac1c0002row7_col7 {\n",
              "            background-color:  green;\n",
              "        }    #T_172f85f4_6df4_11ea_864c_0242ac1c0002row7_col8 {\n",
              "            background-color:  green;\n",
              "        }    #T_172f85f4_6df4_11ea_864c_0242ac1c0002row7_col9 {\n",
              "            background-color:  yellow;\n",
              "        }    #T_172f85f4_6df4_11ea_864c_0242ac1c0002row7_col10 {\n",
              "            background-color:  green;\n",
              "        }    #T_172f85f4_6df4_11ea_864c_0242ac1c0002row8_col0 {\n",
              "            background-color:  green;\n",
              "        }    #T_172f85f4_6df4_11ea_864c_0242ac1c0002row8_col1 {\n",
              "            background-color:  red;\n",
              "        }    #T_172f85f4_6df4_11ea_864c_0242ac1c0002row8_col2 {\n",
              "            background-color:  red;\n",
              "        }    #T_172f85f4_6df4_11ea_864c_0242ac1c0002row8_col3 {\n",
              "            background-color:  yellow;\n",
              "        }    #T_172f85f4_6df4_11ea_864c_0242ac1c0002row8_col4 {\n",
              "            background-color:  yellow;\n",
              "        }    #T_172f85f4_6df4_11ea_864c_0242ac1c0002row8_col5 {\n",
              "            background-color:  green;\n",
              "        }    #T_172f85f4_6df4_11ea_864c_0242ac1c0002row8_col6 {\n",
              "            background-color:  yellow;\n",
              "        }    #T_172f85f4_6df4_11ea_864c_0242ac1c0002row8_col7 {\n",
              "            background-color:  green;\n",
              "        }    #T_172f85f4_6df4_11ea_864c_0242ac1c0002row8_col8 {\n",
              "            background-color:  green;\n",
              "        }    #T_172f85f4_6df4_11ea_864c_0242ac1c0002row8_col9 {\n",
              "            background-color:  yellow;\n",
              "        }    #T_172f85f4_6df4_11ea_864c_0242ac1c0002row8_col10 {\n",
              "            background-color:  green;\n",
              "        }    #T_172f85f4_6df4_11ea_864c_0242ac1c0002row9_col0 {\n",
              "            background-color:  red;\n",
              "        }    #T_172f85f4_6df4_11ea_864c_0242ac1c0002row9_col1 {\n",
              "            background-color:  red;\n",
              "        }    #T_172f85f4_6df4_11ea_864c_0242ac1c0002row9_col2 {\n",
              "            background-color:  red;\n",
              "        }    #T_172f85f4_6df4_11ea_864c_0242ac1c0002row9_col3 {\n",
              "            background-color:  yellow;\n",
              "        }    #T_172f85f4_6df4_11ea_864c_0242ac1c0002row9_col4 {\n",
              "            background-color:  red;\n",
              "        }    #T_172f85f4_6df4_11ea_864c_0242ac1c0002row9_col5 {\n",
              "            background-color:  yellow;\n",
              "        }    #T_172f85f4_6df4_11ea_864c_0242ac1c0002row9_col6 {\n",
              "            background-color:  yellow;\n",
              "        }    #T_172f85f4_6df4_11ea_864c_0242ac1c0002row9_col7 {\n",
              "            background-color:  yellow;\n",
              "        }    #T_172f85f4_6df4_11ea_864c_0242ac1c0002row9_col8 {\n",
              "            background-color:  yellow;\n",
              "        }    #T_172f85f4_6df4_11ea_864c_0242ac1c0002row9_col9 {\n",
              "            background-color:  green;\n",
              "        }    #T_172f85f4_6df4_11ea_864c_0242ac1c0002row9_col10 {\n",
              "            background-color:  yellow;\n",
              "        }    #T_172f85f4_6df4_11ea_864c_0242ac1c0002row10_col0 {\n",
              "            background-color:  green;\n",
              "        }    #T_172f85f4_6df4_11ea_864c_0242ac1c0002row10_col1 {\n",
              "            background-color:  yellow;\n",
              "        }    #T_172f85f4_6df4_11ea_864c_0242ac1c0002row10_col2 {\n",
              "            background-color:  yellow;\n",
              "        }    #T_172f85f4_6df4_11ea_864c_0242ac1c0002row10_col3 {\n",
              "            background-color:  red;\n",
              "        }    #T_172f85f4_6df4_11ea_864c_0242ac1c0002row10_col4 {\n",
              "            background-color:  yellow;\n",
              "        }    #T_172f85f4_6df4_11ea_864c_0242ac1c0002row10_col5 {\n",
              "            background-color:  green;\n",
              "        }    #T_172f85f4_6df4_11ea_864c_0242ac1c0002row10_col6 {\n",
              "            background-color:  green;\n",
              "        }    #T_172f85f4_6df4_11ea_864c_0242ac1c0002row10_col7 {\n",
              "            background-color:  green;\n",
              "        }    #T_172f85f4_6df4_11ea_864c_0242ac1c0002row10_col8 {\n",
              "            background-color:  green;\n",
              "        }    #T_172f85f4_6df4_11ea_864c_0242ac1c0002row10_col9 {\n",
              "            background-color:  yellow;\n",
              "        }    #T_172f85f4_6df4_11ea_864c_0242ac1c0002row10_col10 {\n",
              "            background-color:  green;\n",
              "        }</style><table id=\"T_172f85f4_6df4_11ea_864c_0242ac1c0002\" ><thead>    <tr>        <th class=\"blank level0\" ></th>        <th class=\"col_heading level0 col0\" >violence</th>        <th class=\"col_heading level0 col1\" >arrested</th>        <th class=\"col_heading level0 col2\" >murder</th>        <th class=\"col_heading level0 col3\" >police</th>        <th class=\"col_heading level0 col4\" >jury</th>        <th class=\"col_heading level0 col5\" >minister</th>        <th class=\"col_heading level0 col6\" >health</th>        <th class=\"col_heading level0 col7\" >finance</th>        <th class=\"col_heading level0 col8\" >banks</th>        <th class=\"col_heading level0 col9\" >wildlife</th>        <th class=\"col_heading level0 col10\" >doctor</th>    </tr></thead><tbody>\n",
              "                <tr>\n",
              "                        <th id=\"T_172f85f4_6df4_11ea_864c_0242ac1c0002level0_row0\" class=\"row_heading level0 row0\" >violence</th>\n",
              "                        <td id=\"T_172f85f4_6df4_11ea_864c_0242ac1c0002row0_col0\" class=\"data row0 col0\" >1.11022e-16</td>\n",
              "                        <td id=\"T_172f85f4_6df4_11ea_864c_0242ac1c0002row0_col1\" class=\"data row0 col1\" >0.285876</td>\n",
              "                        <td id=\"T_172f85f4_6df4_11ea_864c_0242ac1c0002row0_col2\" class=\"data row0 col2\" >0.552401</td>\n",
              "                        <td id=\"T_172f85f4_6df4_11ea_864c_0242ac1c0002row0_col3\" class=\"data row0 col3\" >0.740434</td>\n",
              "                        <td id=\"T_172f85f4_6df4_11ea_864c_0242ac1c0002row0_col4\" class=\"data row0 col4\" >0.390006</td>\n",
              "                        <td id=\"T_172f85f4_6df4_11ea_864c_0242ac1c0002row0_col5\" class=\"data row0 col5\" >0.23072</td>\n",
              "                        <td id=\"T_172f85f4_6df4_11ea_864c_0242ac1c0002row0_col6\" class=\"data row0 col6\" >0.365055</td>\n",
              "                        <td id=\"T_172f85f4_6df4_11ea_864c_0242ac1c0002row0_col7\" class=\"data row0 col7\" >0.358957</td>\n",
              "                        <td id=\"T_172f85f4_6df4_11ea_864c_0242ac1c0002row0_col8\" class=\"data row0 col8\" >0.287255</td>\n",
              "                        <td id=\"T_172f85f4_6df4_11ea_864c_0242ac1c0002row0_col9\" class=\"data row0 col9\" >1.11932</td>\n",
              "                        <td id=\"T_172f85f4_6df4_11ea_864c_0242ac1c0002row0_col10\" class=\"data row0 col10\" >0.110101</td>\n",
              "            </tr>\n",
              "            <tr>\n",
              "                        <th id=\"T_172f85f4_6df4_11ea_864c_0242ac1c0002level0_row1\" class=\"row_heading level0 row1\" >arrested</th>\n",
              "                        <td id=\"T_172f85f4_6df4_11ea_864c_0242ac1c0002row1_col0\" class=\"data row1 col0\" >0.285876</td>\n",
              "                        <td id=\"T_172f85f4_6df4_11ea_864c_0242ac1c0002row1_col1\" class=\"data row1 col1\" >0</td>\n",
              "                        <td id=\"T_172f85f4_6df4_11ea_864c_0242ac1c0002row1_col2\" class=\"data row1 col2\" >0.428449</td>\n",
              "                        <td id=\"T_172f85f4_6df4_11ea_864c_0242ac1c0002row1_col3\" class=\"data row1 col3\" >0.681302</td>\n",
              "                        <td id=\"T_172f85f4_6df4_11ea_864c_0242ac1c0002row1_col4\" class=\"data row1 col4\" >0.414277</td>\n",
              "                        <td id=\"T_172f85f4_6df4_11ea_864c_0242ac1c0002row1_col5\" class=\"data row1 col5\" >0.497916</td>\n",
              "                        <td id=\"T_172f85f4_6df4_11ea_864c_0242ac1c0002row1_col6\" class=\"data row1 col6\" >0.72541</td>\n",
              "                        <td id=\"T_172f85f4_6df4_11ea_864c_0242ac1c0002row1_col7\" class=\"data row1 col7\" >0.810825</td>\n",
              "                        <td id=\"T_172f85f4_6df4_11ea_864c_0242ac1c0002row1_col8\" class=\"data row1 col8\" >0.884904</td>\n",
              "                        <td id=\"T_172f85f4_6df4_11ea_864c_0242ac1c0002row1_col9\" class=\"data row1 col9\" >1.41193</td>\n",
              "                        <td id=\"T_172f85f4_6df4_11ea_864c_0242ac1c0002row1_col10\" class=\"data row1 col10\" >0.57325</td>\n",
              "            </tr>\n",
              "            <tr>\n",
              "                        <th id=\"T_172f85f4_6df4_11ea_864c_0242ac1c0002level0_row2\" class=\"row_heading level0 row2\" >murder</th>\n",
              "                        <td id=\"T_172f85f4_6df4_11ea_864c_0242ac1c0002row2_col0\" class=\"data row2 col0\" >0.552401</td>\n",
              "                        <td id=\"T_172f85f4_6df4_11ea_864c_0242ac1c0002row2_col1\" class=\"data row2 col1\" >0.428449</td>\n",
              "                        <td id=\"T_172f85f4_6df4_11ea_864c_0242ac1c0002row2_col2\" class=\"data row2 col2\" >2.22045e-16</td>\n",
              "                        <td id=\"T_172f85f4_6df4_11ea_864c_0242ac1c0002row2_col3\" class=\"data row2 col3\" >0.669706</td>\n",
              "                        <td id=\"T_172f85f4_6df4_11ea_864c_0242ac1c0002row2_col4\" class=\"data row2 col4\" >0.699238</td>\n",
              "                        <td id=\"T_172f85f4_6df4_11ea_864c_0242ac1c0002row2_col5\" class=\"data row2 col5\" >0.637022</td>\n",
              "                        <td id=\"T_172f85f4_6df4_11ea_864c_0242ac1c0002row2_col6\" class=\"data row2 col6\" >0.756667</td>\n",
              "                        <td id=\"T_172f85f4_6df4_11ea_864c_0242ac1c0002row2_col7\" class=\"data row2 col7\" >1.1425</td>\n",
              "                        <td id=\"T_172f85f4_6df4_11ea_864c_0242ac1c0002row2_col8\" class=\"data row2 col8\" >0.912604</td>\n",
              "                        <td id=\"T_172f85f4_6df4_11ea_864c_0242ac1c0002row2_col9\" class=\"data row2 col9\" >1.44829</td>\n",
              "                        <td id=\"T_172f85f4_6df4_11ea_864c_0242ac1c0002row2_col10\" class=\"data row2 col10\" >0.732822</td>\n",
              "            </tr>\n",
              "            <tr>\n",
              "                        <th id=\"T_172f85f4_6df4_11ea_864c_0242ac1c0002level0_row3\" class=\"row_heading level0 row3\" >police</th>\n",
              "                        <td id=\"T_172f85f4_6df4_11ea_864c_0242ac1c0002row3_col0\" class=\"data row3 col0\" >0.740434</td>\n",
              "                        <td id=\"T_172f85f4_6df4_11ea_864c_0242ac1c0002row3_col1\" class=\"data row3 col1\" >0.681302</td>\n",
              "                        <td id=\"T_172f85f4_6df4_11ea_864c_0242ac1c0002row3_col2\" class=\"data row3 col2\" >0.669706</td>\n",
              "                        <td id=\"T_172f85f4_6df4_11ea_864c_0242ac1c0002row3_col3\" class=\"data row3 col3\" >0</td>\n",
              "                        <td id=\"T_172f85f4_6df4_11ea_864c_0242ac1c0002row3_col4\" class=\"data row3 col4\" >0.956971</td>\n",
              "                        <td id=\"T_172f85f4_6df4_11ea_864c_0242ac1c0002row3_col5\" class=\"data row3 col5\" >0.483625</td>\n",
              "                        <td id=\"T_172f85f4_6df4_11ea_864c_0242ac1c0002row3_col6\" class=\"data row3 col6\" >0.411586</td>\n",
              "                        <td id=\"T_172f85f4_6df4_11ea_864c_0242ac1c0002row3_col7\" class=\"data row3 col7\" >0.73214</td>\n",
              "                        <td id=\"T_172f85f4_6df4_11ea_864c_0242ac1c0002row3_col8\" class=\"data row3 col8\" >0.754237</td>\n",
              "                        <td id=\"T_172f85f4_6df4_11ea_864c_0242ac1c0002row3_col9\" class=\"data row3 col9\" >0.725193</td>\n",
              "                        <td id=\"T_172f85f4_6df4_11ea_864c_0242ac1c0002row3_col10\" class=\"data row3 col10\" >0.823263</td>\n",
              "            </tr>\n",
              "            <tr>\n",
              "                        <th id=\"T_172f85f4_6df4_11ea_864c_0242ac1c0002level0_row4\" class=\"row_heading level0 row4\" >jury</th>\n",
              "                        <td id=\"T_172f85f4_6df4_11ea_864c_0242ac1c0002row4_col0\" class=\"data row4 col0\" >0.390006</td>\n",
              "                        <td id=\"T_172f85f4_6df4_11ea_864c_0242ac1c0002row4_col1\" class=\"data row4 col1\" >0.414277</td>\n",
              "                        <td id=\"T_172f85f4_6df4_11ea_864c_0242ac1c0002row4_col2\" class=\"data row4 col2\" >0.699238</td>\n",
              "                        <td id=\"T_172f85f4_6df4_11ea_864c_0242ac1c0002row4_col3\" class=\"data row4 col3\" >0.956971</td>\n",
              "                        <td id=\"T_172f85f4_6df4_11ea_864c_0242ac1c0002row4_col4\" class=\"data row4 col4\" >0</td>\n",
              "                        <td id=\"T_172f85f4_6df4_11ea_864c_0242ac1c0002row4_col5\" class=\"data row4 col5\" >0.5441</td>\n",
              "                        <td id=\"T_172f85f4_6df4_11ea_864c_0242ac1c0002row4_col6\" class=\"data row4 col6\" >0.976383</td>\n",
              "                        <td id=\"T_172f85f4_6df4_11ea_864c_0242ac1c0002row4_col7\" class=\"data row4 col7\" >0.842402</td>\n",
              "                        <td id=\"T_172f85f4_6df4_11ea_864c_0242ac1c0002row4_col8\" class=\"data row4 col8\" >0.733509</td>\n",
              "                        <td id=\"T_172f85f4_6df4_11ea_864c_0242ac1c0002row4_col9\" class=\"data row4 col9\" >1.1961</td>\n",
              "                        <td id=\"T_172f85f4_6df4_11ea_864c_0242ac1c0002row4_col10\" class=\"data row4 col10\" >0.414412</td>\n",
              "            </tr>\n",
              "            <tr>\n",
              "                        <th id=\"T_172f85f4_6df4_11ea_864c_0242ac1c0002level0_row5\" class=\"row_heading level0 row5\" >minister</th>\n",
              "                        <td id=\"T_172f85f4_6df4_11ea_864c_0242ac1c0002row5_col0\" class=\"data row5 col0\" >0.23072</td>\n",
              "                        <td id=\"T_172f85f4_6df4_11ea_864c_0242ac1c0002row5_col1\" class=\"data row5 col1\" >0.497916</td>\n",
              "                        <td id=\"T_172f85f4_6df4_11ea_864c_0242ac1c0002row5_col2\" class=\"data row5 col2\" >0.637022</td>\n",
              "                        <td id=\"T_172f85f4_6df4_11ea_864c_0242ac1c0002row5_col3\" class=\"data row5 col3\" >0.483625</td>\n",
              "                        <td id=\"T_172f85f4_6df4_11ea_864c_0242ac1c0002row5_col4\" class=\"data row5 col4\" >0.5441</td>\n",
              "                        <td id=\"T_172f85f4_6df4_11ea_864c_0242ac1c0002row5_col5\" class=\"data row5 col5\" >0</td>\n",
              "                        <td id=\"T_172f85f4_6df4_11ea_864c_0242ac1c0002row5_col6\" class=\"data row5 col6\" >0.237878</td>\n",
              "                        <td id=\"T_172f85f4_6df4_11ea_864c_0242ac1c0002row5_col7\" class=\"data row5 col7\" >0.327957</td>\n",
              "                        <td id=\"T_172f85f4_6df4_11ea_864c_0242ac1c0002row5_col8\" class=\"data row5 col8\" >0.345182</td>\n",
              "                        <td id=\"T_172f85f4_6df4_11ea_864c_0242ac1c0002row5_col9\" class=\"data row5 col9\" >0.567058</td>\n",
              "                        <td id=\"T_172f85f4_6df4_11ea_864c_0242ac1c0002row5_col10\" class=\"data row5 col10\" >0.127875</td>\n",
              "            </tr>\n",
              "            <tr>\n",
              "                        <th id=\"T_172f85f4_6df4_11ea_864c_0242ac1c0002level0_row6\" class=\"row_heading level0 row6\" >health</th>\n",
              "                        <td id=\"T_172f85f4_6df4_11ea_864c_0242ac1c0002row6_col0\" class=\"data row6 col0\" >0.365055</td>\n",
              "                        <td id=\"T_172f85f4_6df4_11ea_864c_0242ac1c0002row6_col1\" class=\"data row6 col1\" >0.72541</td>\n",
              "                        <td id=\"T_172f85f4_6df4_11ea_864c_0242ac1c0002row6_col2\" class=\"data row6 col2\" >0.756667</td>\n",
              "                        <td id=\"T_172f85f4_6df4_11ea_864c_0242ac1c0002row6_col3\" class=\"data row6 col3\" >0.411586</td>\n",
              "                        <td id=\"T_172f85f4_6df4_11ea_864c_0242ac1c0002row6_col4\" class=\"data row6 col4\" >0.976383</td>\n",
              "                        <td id=\"T_172f85f4_6df4_11ea_864c_0242ac1c0002row6_col5\" class=\"data row6 col5\" >0.237878</td>\n",
              "                        <td id=\"T_172f85f4_6df4_11ea_864c_0242ac1c0002row6_col6\" class=\"data row6 col6\" >1.11022e-16</td>\n",
              "                        <td id=\"T_172f85f4_6df4_11ea_864c_0242ac1c0002row6_col7\" class=\"data row6 col7\" >0.415829</td>\n",
              "                        <td id=\"T_172f85f4_6df4_11ea_864c_0242ac1c0002row6_col8\" class=\"data row6 col8\" >0.404105</td>\n",
              "                        <td id=\"T_172f85f4_6df4_11ea_864c_0242ac1c0002row6_col9\" class=\"data row6 col9\" >0.674157</td>\n",
              "                        <td id=\"T_172f85f4_6df4_11ea_864c_0242ac1c0002row6_col10\" class=\"data row6 col10\" >0.327089</td>\n",
              "            </tr>\n",
              "            <tr>\n",
              "                        <th id=\"T_172f85f4_6df4_11ea_864c_0242ac1c0002level0_row7\" class=\"row_heading level0 row7\" >finance</th>\n",
              "                        <td id=\"T_172f85f4_6df4_11ea_864c_0242ac1c0002row7_col0\" class=\"data row7 col0\" >0.358957</td>\n",
              "                        <td id=\"T_172f85f4_6df4_11ea_864c_0242ac1c0002row7_col1\" class=\"data row7 col1\" >0.810825</td>\n",
              "                        <td id=\"T_172f85f4_6df4_11ea_864c_0242ac1c0002row7_col2\" class=\"data row7 col2\" >1.1425</td>\n",
              "                        <td id=\"T_172f85f4_6df4_11ea_864c_0242ac1c0002row7_col3\" class=\"data row7 col3\" >0.73214</td>\n",
              "                        <td id=\"T_172f85f4_6df4_11ea_864c_0242ac1c0002row7_col4\" class=\"data row7 col4\" >0.842402</td>\n",
              "                        <td id=\"T_172f85f4_6df4_11ea_864c_0242ac1c0002row7_col5\" class=\"data row7 col5\" >0.327957</td>\n",
              "                        <td id=\"T_172f85f4_6df4_11ea_864c_0242ac1c0002row7_col6\" class=\"data row7 col6\" >0.415829</td>\n",
              "                        <td id=\"T_172f85f4_6df4_11ea_864c_0242ac1c0002row7_col7\" class=\"data row7 col7\" >0</td>\n",
              "                        <td id=\"T_172f85f4_6df4_11ea_864c_0242ac1c0002row7_col8\" class=\"data row7 col8\" >0.196942</td>\n",
              "                        <td id=\"T_172f85f4_6df4_11ea_864c_0242ac1c0002row7_col9\" class=\"data row7 col9\" >0.562335</td>\n",
              "                        <td id=\"T_172f85f4_6df4_11ea_864c_0242ac1c0002row7_col10\" class=\"data row7 col10\" >0.289592</td>\n",
              "            </tr>\n",
              "            <tr>\n",
              "                        <th id=\"T_172f85f4_6df4_11ea_864c_0242ac1c0002level0_row8\" class=\"row_heading level0 row8\" >banks</th>\n",
              "                        <td id=\"T_172f85f4_6df4_11ea_864c_0242ac1c0002row8_col0\" class=\"data row8 col0\" >0.287255</td>\n",
              "                        <td id=\"T_172f85f4_6df4_11ea_864c_0242ac1c0002row8_col1\" class=\"data row8 col1\" >0.884904</td>\n",
              "                        <td id=\"T_172f85f4_6df4_11ea_864c_0242ac1c0002row8_col2\" class=\"data row8 col2\" >0.912604</td>\n",
              "                        <td id=\"T_172f85f4_6df4_11ea_864c_0242ac1c0002row8_col3\" class=\"data row8 col3\" >0.754237</td>\n",
              "                        <td id=\"T_172f85f4_6df4_11ea_864c_0242ac1c0002row8_col4\" class=\"data row8 col4\" >0.733509</td>\n",
              "                        <td id=\"T_172f85f4_6df4_11ea_864c_0242ac1c0002row8_col5\" class=\"data row8 col5\" >0.345182</td>\n",
              "                        <td id=\"T_172f85f4_6df4_11ea_864c_0242ac1c0002row8_col6\" class=\"data row8 col6\" >0.404105</td>\n",
              "                        <td id=\"T_172f85f4_6df4_11ea_864c_0242ac1c0002row8_col7\" class=\"data row8 col7\" >0.196942</td>\n",
              "                        <td id=\"T_172f85f4_6df4_11ea_864c_0242ac1c0002row8_col8\" class=\"data row8 col8\" >1.11022e-16</td>\n",
              "                        <td id=\"T_172f85f4_6df4_11ea_864c_0242ac1c0002row8_col9\" class=\"data row8 col9\" >0.674767</td>\n",
              "                        <td id=\"T_172f85f4_6df4_11ea_864c_0242ac1c0002row8_col10\" class=\"data row8 col10\" >0.189577</td>\n",
              "            </tr>\n",
              "            <tr>\n",
              "                        <th id=\"T_172f85f4_6df4_11ea_864c_0242ac1c0002level0_row9\" class=\"row_heading level0 row9\" >wildlife</th>\n",
              "                        <td id=\"T_172f85f4_6df4_11ea_864c_0242ac1c0002row9_col0\" class=\"data row9 col0\" >1.11932</td>\n",
              "                        <td id=\"T_172f85f4_6df4_11ea_864c_0242ac1c0002row9_col1\" class=\"data row9 col1\" >1.41193</td>\n",
              "                        <td id=\"T_172f85f4_6df4_11ea_864c_0242ac1c0002row9_col2\" class=\"data row9 col2\" >1.44829</td>\n",
              "                        <td id=\"T_172f85f4_6df4_11ea_864c_0242ac1c0002row9_col3\" class=\"data row9 col3\" >0.725193</td>\n",
              "                        <td id=\"T_172f85f4_6df4_11ea_864c_0242ac1c0002row9_col4\" class=\"data row9 col4\" >1.1961</td>\n",
              "                        <td id=\"T_172f85f4_6df4_11ea_864c_0242ac1c0002row9_col5\" class=\"data row9 col5\" >0.567058</td>\n",
              "                        <td id=\"T_172f85f4_6df4_11ea_864c_0242ac1c0002row9_col6\" class=\"data row9 col6\" >0.674157</td>\n",
              "                        <td id=\"T_172f85f4_6df4_11ea_864c_0242ac1c0002row9_col7\" class=\"data row9 col7\" >0.562335</td>\n",
              "                        <td id=\"T_172f85f4_6df4_11ea_864c_0242ac1c0002row9_col8\" class=\"data row9 col8\" >0.674767</td>\n",
              "                        <td id=\"T_172f85f4_6df4_11ea_864c_0242ac1c0002row9_col9\" class=\"data row9 col9\" >1.11022e-16</td>\n",
              "                        <td id=\"T_172f85f4_6df4_11ea_864c_0242ac1c0002row9_col10\" class=\"data row9 col10\" >0.755799</td>\n",
              "            </tr>\n",
              "            <tr>\n",
              "                        <th id=\"T_172f85f4_6df4_11ea_864c_0242ac1c0002level0_row10\" class=\"row_heading level0 row10\" >doctor</th>\n",
              "                        <td id=\"T_172f85f4_6df4_11ea_864c_0242ac1c0002row10_col0\" class=\"data row10 col0\" >0.110101</td>\n",
              "                        <td id=\"T_172f85f4_6df4_11ea_864c_0242ac1c0002row10_col1\" class=\"data row10 col1\" >0.57325</td>\n",
              "                        <td id=\"T_172f85f4_6df4_11ea_864c_0242ac1c0002row10_col2\" class=\"data row10 col2\" >0.732822</td>\n",
              "                        <td id=\"T_172f85f4_6df4_11ea_864c_0242ac1c0002row10_col3\" class=\"data row10 col3\" >0.823263</td>\n",
              "                        <td id=\"T_172f85f4_6df4_11ea_864c_0242ac1c0002row10_col4\" class=\"data row10 col4\" >0.414412</td>\n",
              "                        <td id=\"T_172f85f4_6df4_11ea_864c_0242ac1c0002row10_col5\" class=\"data row10 col5\" >0.127875</td>\n",
              "                        <td id=\"T_172f85f4_6df4_11ea_864c_0242ac1c0002row10_col6\" class=\"data row10 col6\" >0.327089</td>\n",
              "                        <td id=\"T_172f85f4_6df4_11ea_864c_0242ac1c0002row10_col7\" class=\"data row10 col7\" >0.289592</td>\n",
              "                        <td id=\"T_172f85f4_6df4_11ea_864c_0242ac1c0002row10_col8\" class=\"data row10 col8\" >0.189577</td>\n",
              "                        <td id=\"T_172f85f4_6df4_11ea_864c_0242ac1c0002row10_col9\" class=\"data row10 col9\" >0.755799</td>\n",
              "                        <td id=\"T_172f85f4_6df4_11ea_864c_0242ac1c0002row10_col10\" class=\"data row10 col10\" >0</td>\n",
              "            </tr>\n",
              "    </tbody></table>"
            ],
            "text/plain": [
              "<pandas.io.formats.style.Styler at 0x7f6bc20c4be0>"
            ]
          },
          "metadata": {
            "tags": []
          },
          "execution_count": 57
        }
      ]
    },
    {
      "cell_type": "markdown",
      "metadata": {
        "id": "s7JW-jkpw9kC",
        "colab_type": "text"
      },
      "source": [
        "## Euclidean Distances \n",
        "\n",
        "Let's also have a peek at another type of distance."
      ]
    },
    {
      "cell_type": "code",
      "metadata": {
        "id": "CIxg8TrgWJ8_",
        "colab_type": "code",
        "outputId": "de14bc6c-6599-4a15-ab20-d14d41307d83",
        "colab": {
          "base_uri": "https://localhost:8080/",
          "height": 275
        }
      },
      "source": [
        "df = pd.DataFrame(distance.cdist(emb, emb, 'euclidean'), columns=words)\n",
        "df.index = words\n",
        "q1, q2 = df.quantile([0.2, 0.8]).mean(axis=1).values\n",
        "df.style.applymap(color)"
      ],
      "execution_count": 0,
      "outputs": [
        {
          "output_type": "execute_result",
          "data": {
            "text/html": [
              "<style  type=\"text/css\" >\n",
              "    #T_1755601c_6df4_11ea_864c_0242ac1c0002row0_col0 {\n",
              "            background-color:  green;\n",
              "        }    #T_1755601c_6df4_11ea_864c_0242ac1c0002row0_col1 {\n",
              "            background-color:  green;\n",
              "        }    #T_1755601c_6df4_11ea_864c_0242ac1c0002row0_col2 {\n",
              "            background-color:  red;\n",
              "        }    #T_1755601c_6df4_11ea_864c_0242ac1c0002row0_col3 {\n",
              "            background-color:  red;\n",
              "        }    #T_1755601c_6df4_11ea_864c_0242ac1c0002row0_col4 {\n",
              "            background-color:  green;\n",
              "        }    #T_1755601c_6df4_11ea_864c_0242ac1c0002row0_col5 {\n",
              "            background-color:  green;\n",
              "        }    #T_1755601c_6df4_11ea_864c_0242ac1c0002row0_col6 {\n",
              "            background-color:  green;\n",
              "        }    #T_1755601c_6df4_11ea_864c_0242ac1c0002row0_col7 {\n",
              "            background-color:  green;\n",
              "        }    #T_1755601c_6df4_11ea_864c_0242ac1c0002row0_col8 {\n",
              "            background-color:  green;\n",
              "        }    #T_1755601c_6df4_11ea_864c_0242ac1c0002row0_col9 {\n",
              "            background-color:  yellow;\n",
              "        }    #T_1755601c_6df4_11ea_864c_0242ac1c0002row0_col10 {\n",
              "            background-color:  green;\n",
              "        }    #T_1755601c_6df4_11ea_864c_0242ac1c0002row1_col0 {\n",
              "            background-color:  green;\n",
              "        }    #T_1755601c_6df4_11ea_864c_0242ac1c0002row1_col1 {\n",
              "            background-color:  green;\n",
              "        }    #T_1755601c_6df4_11ea_864c_0242ac1c0002row1_col2 {\n",
              "            background-color:  red;\n",
              "        }    #T_1755601c_6df4_11ea_864c_0242ac1c0002row1_col3 {\n",
              "            background-color:  red;\n",
              "        }    #T_1755601c_6df4_11ea_864c_0242ac1c0002row1_col4 {\n",
              "            background-color:  green;\n",
              "        }    #T_1755601c_6df4_11ea_864c_0242ac1c0002row1_col5 {\n",
              "            background-color:  yellow;\n",
              "        }    #T_1755601c_6df4_11ea_864c_0242ac1c0002row1_col6 {\n",
              "            background-color:  yellow;\n",
              "        }    #T_1755601c_6df4_11ea_864c_0242ac1c0002row1_col7 {\n",
              "            background-color:  yellow;\n",
              "        }    #T_1755601c_6df4_11ea_864c_0242ac1c0002row1_col8 {\n",
              "            background-color:  yellow;\n",
              "        }    #T_1755601c_6df4_11ea_864c_0242ac1c0002row1_col9 {\n",
              "            background-color:  red;\n",
              "        }    #T_1755601c_6df4_11ea_864c_0242ac1c0002row1_col10 {\n",
              "            background-color:  yellow;\n",
              "        }    #T_1755601c_6df4_11ea_864c_0242ac1c0002row2_col0 {\n",
              "            background-color:  red;\n",
              "        }    #T_1755601c_6df4_11ea_864c_0242ac1c0002row2_col1 {\n",
              "            background-color:  red;\n",
              "        }    #T_1755601c_6df4_11ea_864c_0242ac1c0002row2_col2 {\n",
              "            background-color:  green;\n",
              "        }    #T_1755601c_6df4_11ea_864c_0242ac1c0002row2_col3 {\n",
              "            background-color:  red;\n",
              "        }    #T_1755601c_6df4_11ea_864c_0242ac1c0002row2_col4 {\n",
              "            background-color:  red;\n",
              "        }    #T_1755601c_6df4_11ea_864c_0242ac1c0002row2_col5 {\n",
              "            background-color:  red;\n",
              "        }    #T_1755601c_6df4_11ea_864c_0242ac1c0002row2_col6 {\n",
              "            background-color:  red;\n",
              "        }    #T_1755601c_6df4_11ea_864c_0242ac1c0002row2_col7 {\n",
              "            background-color:  red;\n",
              "        }    #T_1755601c_6df4_11ea_864c_0242ac1c0002row2_col8 {\n",
              "            background-color:  red;\n",
              "        }    #T_1755601c_6df4_11ea_864c_0242ac1c0002row2_col9 {\n",
              "            background-color:  red;\n",
              "        }    #T_1755601c_6df4_11ea_864c_0242ac1c0002row2_col10 {\n",
              "            background-color:  red;\n",
              "        }    #T_1755601c_6df4_11ea_864c_0242ac1c0002row3_col0 {\n",
              "            background-color:  red;\n",
              "        }    #T_1755601c_6df4_11ea_864c_0242ac1c0002row3_col1 {\n",
              "            background-color:  red;\n",
              "        }    #T_1755601c_6df4_11ea_864c_0242ac1c0002row3_col2 {\n",
              "            background-color:  red;\n",
              "        }    #T_1755601c_6df4_11ea_864c_0242ac1c0002row3_col3 {\n",
              "            background-color:  green;\n",
              "        }    #T_1755601c_6df4_11ea_864c_0242ac1c0002row3_col4 {\n",
              "            background-color:  red;\n",
              "        }    #T_1755601c_6df4_11ea_864c_0242ac1c0002row3_col5 {\n",
              "            background-color:  red;\n",
              "        }    #T_1755601c_6df4_11ea_864c_0242ac1c0002row3_col6 {\n",
              "            background-color:  red;\n",
              "        }    #T_1755601c_6df4_11ea_864c_0242ac1c0002row3_col7 {\n",
              "            background-color:  red;\n",
              "        }    #T_1755601c_6df4_11ea_864c_0242ac1c0002row3_col8 {\n",
              "            background-color:  red;\n",
              "        }    #T_1755601c_6df4_11ea_864c_0242ac1c0002row3_col9 {\n",
              "            background-color:  red;\n",
              "        }    #T_1755601c_6df4_11ea_864c_0242ac1c0002row3_col10 {\n",
              "            background-color:  red;\n",
              "        }    #T_1755601c_6df4_11ea_864c_0242ac1c0002row4_col0 {\n",
              "            background-color:  green;\n",
              "        }    #T_1755601c_6df4_11ea_864c_0242ac1c0002row4_col1 {\n",
              "            background-color:  green;\n",
              "        }    #T_1755601c_6df4_11ea_864c_0242ac1c0002row4_col2 {\n",
              "            background-color:  red;\n",
              "        }    #T_1755601c_6df4_11ea_864c_0242ac1c0002row4_col3 {\n",
              "            background-color:  red;\n",
              "        }    #T_1755601c_6df4_11ea_864c_0242ac1c0002row4_col4 {\n",
              "            background-color:  green;\n",
              "        }    #T_1755601c_6df4_11ea_864c_0242ac1c0002row4_col5 {\n",
              "            background-color:  green;\n",
              "        }    #T_1755601c_6df4_11ea_864c_0242ac1c0002row4_col6 {\n",
              "            background-color:  yellow;\n",
              "        }    #T_1755601c_6df4_11ea_864c_0242ac1c0002row4_col7 {\n",
              "            background-color:  yellow;\n",
              "        }    #T_1755601c_6df4_11ea_864c_0242ac1c0002row4_col8 {\n",
              "            background-color:  green;\n",
              "        }    #T_1755601c_6df4_11ea_864c_0242ac1c0002row4_col9 {\n",
              "            background-color:  yellow;\n",
              "        }    #T_1755601c_6df4_11ea_864c_0242ac1c0002row4_col10 {\n",
              "            background-color:  green;\n",
              "        }    #T_1755601c_6df4_11ea_864c_0242ac1c0002row5_col0 {\n",
              "            background-color:  green;\n",
              "        }    #T_1755601c_6df4_11ea_864c_0242ac1c0002row5_col1 {\n",
              "            background-color:  yellow;\n",
              "        }    #T_1755601c_6df4_11ea_864c_0242ac1c0002row5_col2 {\n",
              "            background-color:  red;\n",
              "        }    #T_1755601c_6df4_11ea_864c_0242ac1c0002row5_col3 {\n",
              "            background-color:  red;\n",
              "        }    #T_1755601c_6df4_11ea_864c_0242ac1c0002row5_col4 {\n",
              "            background-color:  green;\n",
              "        }    #T_1755601c_6df4_11ea_864c_0242ac1c0002row5_col5 {\n",
              "            background-color:  green;\n",
              "        }    #T_1755601c_6df4_11ea_864c_0242ac1c0002row5_col6 {\n",
              "            background-color:  green;\n",
              "        }    #T_1755601c_6df4_11ea_864c_0242ac1c0002row5_col7 {\n",
              "            background-color:  green;\n",
              "        }    #T_1755601c_6df4_11ea_864c_0242ac1c0002row5_col8 {\n",
              "            background-color:  green;\n",
              "        }    #T_1755601c_6df4_11ea_864c_0242ac1c0002row5_col9 {\n",
              "            background-color:  green;\n",
              "        }    #T_1755601c_6df4_11ea_864c_0242ac1c0002row5_col10 {\n",
              "            background-color:  green;\n",
              "        }    #T_1755601c_6df4_11ea_864c_0242ac1c0002row6_col0 {\n",
              "            background-color:  green;\n",
              "        }    #T_1755601c_6df4_11ea_864c_0242ac1c0002row6_col1 {\n",
              "            background-color:  yellow;\n",
              "        }    #T_1755601c_6df4_11ea_864c_0242ac1c0002row6_col2 {\n",
              "            background-color:  red;\n",
              "        }    #T_1755601c_6df4_11ea_864c_0242ac1c0002row6_col3 {\n",
              "            background-color:  red;\n",
              "        }    #T_1755601c_6df4_11ea_864c_0242ac1c0002row6_col4 {\n",
              "            background-color:  yellow;\n",
              "        }    #T_1755601c_6df4_11ea_864c_0242ac1c0002row6_col5 {\n",
              "            background-color:  green;\n",
              "        }    #T_1755601c_6df4_11ea_864c_0242ac1c0002row6_col6 {\n",
              "            background-color:  green;\n",
              "        }    #T_1755601c_6df4_11ea_864c_0242ac1c0002row6_col7 {\n",
              "            background-color:  green;\n",
              "        }    #T_1755601c_6df4_11ea_864c_0242ac1c0002row6_col8 {\n",
              "            background-color:  green;\n",
              "        }    #T_1755601c_6df4_11ea_864c_0242ac1c0002row6_col9 {\n",
              "            background-color:  yellow;\n",
              "        }    #T_1755601c_6df4_11ea_864c_0242ac1c0002row6_col10 {\n",
              "            background-color:  green;\n",
              "        }    #T_1755601c_6df4_11ea_864c_0242ac1c0002row7_col0 {\n",
              "            background-color:  green;\n",
              "        }    #T_1755601c_6df4_11ea_864c_0242ac1c0002row7_col1 {\n",
              "            background-color:  yellow;\n",
              "        }    #T_1755601c_6df4_11ea_864c_0242ac1c0002row7_col2 {\n",
              "            background-color:  red;\n",
              "        }    #T_1755601c_6df4_11ea_864c_0242ac1c0002row7_col3 {\n",
              "            background-color:  red;\n",
              "        }    #T_1755601c_6df4_11ea_864c_0242ac1c0002row7_col4 {\n",
              "            background-color:  yellow;\n",
              "        }    #T_1755601c_6df4_11ea_864c_0242ac1c0002row7_col5 {\n",
              "            background-color:  green;\n",
              "        }    #T_1755601c_6df4_11ea_864c_0242ac1c0002row7_col6 {\n",
              "            background-color:  green;\n",
              "        }    #T_1755601c_6df4_11ea_864c_0242ac1c0002row7_col7 {\n",
              "            background-color:  green;\n",
              "        }    #T_1755601c_6df4_11ea_864c_0242ac1c0002row7_col8 {\n",
              "            background-color:  green;\n",
              "        }    #T_1755601c_6df4_11ea_864c_0242ac1c0002row7_col9 {\n",
              "            background-color:  green;\n",
              "        }    #T_1755601c_6df4_11ea_864c_0242ac1c0002row7_col10 {\n",
              "            background-color:  green;\n",
              "        }    #T_1755601c_6df4_11ea_864c_0242ac1c0002row8_col0 {\n",
              "            background-color:  green;\n",
              "        }    #T_1755601c_6df4_11ea_864c_0242ac1c0002row8_col1 {\n",
              "            background-color:  yellow;\n",
              "        }    #T_1755601c_6df4_11ea_864c_0242ac1c0002row8_col2 {\n",
              "            background-color:  red;\n",
              "        }    #T_1755601c_6df4_11ea_864c_0242ac1c0002row8_col3 {\n",
              "            background-color:  red;\n",
              "        }    #T_1755601c_6df4_11ea_864c_0242ac1c0002row8_col4 {\n",
              "            background-color:  green;\n",
              "        }    #T_1755601c_6df4_11ea_864c_0242ac1c0002row8_col5 {\n",
              "            background-color:  green;\n",
              "        }    #T_1755601c_6df4_11ea_864c_0242ac1c0002row8_col6 {\n",
              "            background-color:  green;\n",
              "        }    #T_1755601c_6df4_11ea_864c_0242ac1c0002row8_col7 {\n",
              "            background-color:  green;\n",
              "        }    #T_1755601c_6df4_11ea_864c_0242ac1c0002row8_col8 {\n",
              "            background-color:  green;\n",
              "        }    #T_1755601c_6df4_11ea_864c_0242ac1c0002row8_col9 {\n",
              "            background-color:  green;\n",
              "        }    #T_1755601c_6df4_11ea_864c_0242ac1c0002row8_col10 {\n",
              "            background-color:  green;\n",
              "        }    #T_1755601c_6df4_11ea_864c_0242ac1c0002row9_col0 {\n",
              "            background-color:  yellow;\n",
              "        }    #T_1755601c_6df4_11ea_864c_0242ac1c0002row9_col1 {\n",
              "            background-color:  red;\n",
              "        }    #T_1755601c_6df4_11ea_864c_0242ac1c0002row9_col2 {\n",
              "            background-color:  red;\n",
              "        }    #T_1755601c_6df4_11ea_864c_0242ac1c0002row9_col3 {\n",
              "            background-color:  red;\n",
              "        }    #T_1755601c_6df4_11ea_864c_0242ac1c0002row9_col4 {\n",
              "            background-color:  yellow;\n",
              "        }    #T_1755601c_6df4_11ea_864c_0242ac1c0002row9_col5 {\n",
              "            background-color:  green;\n",
              "        }    #T_1755601c_6df4_11ea_864c_0242ac1c0002row9_col6 {\n",
              "            background-color:  yellow;\n",
              "        }    #T_1755601c_6df4_11ea_864c_0242ac1c0002row9_col7 {\n",
              "            background-color:  green;\n",
              "        }    #T_1755601c_6df4_11ea_864c_0242ac1c0002row9_col8 {\n",
              "            background-color:  green;\n",
              "        }    #T_1755601c_6df4_11ea_864c_0242ac1c0002row9_col9 {\n",
              "            background-color:  green;\n",
              "        }    #T_1755601c_6df4_11ea_864c_0242ac1c0002row9_col10 {\n",
              "            background-color:  yellow;\n",
              "        }    #T_1755601c_6df4_11ea_864c_0242ac1c0002row10_col0 {\n",
              "            background-color:  green;\n",
              "        }    #T_1755601c_6df4_11ea_864c_0242ac1c0002row10_col1 {\n",
              "            background-color:  yellow;\n",
              "        }    #T_1755601c_6df4_11ea_864c_0242ac1c0002row10_col2 {\n",
              "            background-color:  red;\n",
              "        }    #T_1755601c_6df4_11ea_864c_0242ac1c0002row10_col3 {\n",
              "            background-color:  red;\n",
              "        }    #T_1755601c_6df4_11ea_864c_0242ac1c0002row10_col4 {\n",
              "            background-color:  green;\n",
              "        }    #T_1755601c_6df4_11ea_864c_0242ac1c0002row10_col5 {\n",
              "            background-color:  green;\n",
              "        }    #T_1755601c_6df4_11ea_864c_0242ac1c0002row10_col6 {\n",
              "            background-color:  green;\n",
              "        }    #T_1755601c_6df4_11ea_864c_0242ac1c0002row10_col7 {\n",
              "            background-color:  green;\n",
              "        }    #T_1755601c_6df4_11ea_864c_0242ac1c0002row10_col8 {\n",
              "            background-color:  green;\n",
              "        }    #T_1755601c_6df4_11ea_864c_0242ac1c0002row10_col9 {\n",
              "            background-color:  yellow;\n",
              "        }    #T_1755601c_6df4_11ea_864c_0242ac1c0002row10_col10 {\n",
              "            background-color:  green;\n",
              "        }</style><table id=\"T_1755601c_6df4_11ea_864c_0242ac1c0002\" ><thead>    <tr>        <th class=\"blank level0\" ></th>        <th class=\"col_heading level0 col0\" >violence</th>        <th class=\"col_heading level0 col1\" >arrested</th>        <th class=\"col_heading level0 col2\" >murder</th>        <th class=\"col_heading level0 col3\" >police</th>        <th class=\"col_heading level0 col4\" >jury</th>        <th class=\"col_heading level0 col5\" >minister</th>        <th class=\"col_heading level0 col6\" >health</th>        <th class=\"col_heading level0 col7\" >finance</th>        <th class=\"col_heading level0 col8\" >banks</th>        <th class=\"col_heading level0 col9\" >wildlife</th>        <th class=\"col_heading level0 col10\" >doctor</th>    </tr></thead><tbody>\n",
              "                <tr>\n",
              "                        <th id=\"T_1755601c_6df4_11ea_864c_0242ac1c0002level0_row0\" class=\"row_heading level0 row0\" >violence</th>\n",
              "                        <td id=\"T_1755601c_6df4_11ea_864c_0242ac1c0002row0_col0\" class=\"data row0 col0\" >0</td>\n",
              "                        <td id=\"T_1755601c_6df4_11ea_864c_0242ac1c0002row0_col1\" class=\"data row0 col1\" >1.45973</td>\n",
              "                        <td id=\"T_1755601c_6df4_11ea_864c_0242ac1c0002row0_col2\" class=\"data row0 col2\" >3.70162</td>\n",
              "                        <td id=\"T_1755601c_6df4_11ea_864c_0242ac1c0002row0_col3\" class=\"data row0 col3\" >6.16098</td>\n",
              "                        <td id=\"T_1755601c_6df4_11ea_864c_0242ac1c0002row0_col4\" class=\"data row0 col4\" >1.36555</td>\n",
              "                        <td id=\"T_1755601c_6df4_11ea_864c_0242ac1c0002row0_col5\" class=\"data row0 col5\" >0.900202</td>\n",
              "                        <td id=\"T_1755601c_6df4_11ea_864c_0242ac1c0002row0_col6\" class=\"data row0 col6\" >1.51025</td>\n",
              "                        <td id=\"T_1755601c_6df4_11ea_864c_0242ac1c0002row0_col7\" class=\"data row0 col7\" >1.04518</td>\n",
              "                        <td id=\"T_1755601c_6df4_11ea_864c_0242ac1c0002row0_col8\" class=\"data row0 col8\" >0.919091</td>\n",
              "                        <td id=\"T_1755601c_6df4_11ea_864c_0242ac1c0002row0_col9\" class=\"data row0 col9\" >2.26418</td>\n",
              "                        <td id=\"T_1755601c_6df4_11ea_864c_0242ac1c0002row0_col10\" class=\"data row0 col10\" >0.56765</td>\n",
              "            </tr>\n",
              "            <tr>\n",
              "                        <th id=\"T_1755601c_6df4_11ea_864c_0242ac1c0002level0_row1\" class=\"row_heading level0 row1\" >arrested</th>\n",
              "                        <td id=\"T_1755601c_6df4_11ea_864c_0242ac1c0002row1_col0\" class=\"data row1 col0\" >1.45973</td>\n",
              "                        <td id=\"T_1755601c_6df4_11ea_864c_0242ac1c0002row1_col1\" class=\"data row1 col1\" >0</td>\n",
              "                        <td id=\"T_1755601c_6df4_11ea_864c_0242ac1c0002row1_col2\" class=\"data row1 col2\" >3.36521</td>\n",
              "                        <td id=\"T_1755601c_6df4_11ea_864c_0242ac1c0002row1_col3\" class=\"data row1 col3\" >6.03374</td>\n",
              "                        <td id=\"T_1755601c_6df4_11ea_864c_0242ac1c0002row1_col4\" class=\"data row1 col4\" >1.74203</td>\n",
              "                        <td id=\"T_1755601c_6df4_11ea_864c_0242ac1c0002row1_col5\" class=\"data row1 col5\" >1.81458</td>\n",
              "                        <td id=\"T_1755601c_6df4_11ea_864c_0242ac1c0002row1_col6\" class=\"data row1 col6\" >2.41928</td>\n",
              "                        <td id=\"T_1755601c_6df4_11ea_864c_0242ac1c0002row1_col7\" class=\"data row1 col7\" >2.18763</td>\n",
              "                        <td id=\"T_1755601c_6df4_11ea_864c_0242ac1c0002row1_col8\" class=\"data row1 col8\" >2.25129</td>\n",
              "                        <td id=\"T_1755601c_6df4_11ea_864c_0242ac1c0002row1_col9\" class=\"data row1 col9\" >3.20513</td>\n",
              "                        <td id=\"T_1755601c_6df4_11ea_864c_0242ac1c0002row1_col10\" class=\"data row1 col10\" >1.87947</td>\n",
              "            </tr>\n",
              "            <tr>\n",
              "                        <th id=\"T_1755601c_6df4_11ea_864c_0242ac1c0002level0_row2\" class=\"row_heading level0 row2\" >murder</th>\n",
              "                        <td id=\"T_1755601c_6df4_11ea_864c_0242ac1c0002row2_col0\" class=\"data row2 col0\" >3.70162</td>\n",
              "                        <td id=\"T_1755601c_6df4_11ea_864c_0242ac1c0002row2_col1\" class=\"data row2 col1\" >3.36521</td>\n",
              "                        <td id=\"T_1755601c_6df4_11ea_864c_0242ac1c0002row2_col2\" class=\"data row2 col2\" >0</td>\n",
              "                        <td id=\"T_1755601c_6df4_11ea_864c_0242ac1c0002row2_col3\" class=\"data row2 col3\" >6.32765</td>\n",
              "                        <td id=\"T_1755601c_6df4_11ea_864c_0242ac1c0002row2_col4\" class=\"data row2 col4\" >3.92679</td>\n",
              "                        <td id=\"T_1755601c_6df4_11ea_864c_0242ac1c0002row2_col5\" class=\"data row2 col5\" >3.80989</td>\n",
              "                        <td id=\"T_1755601c_6df4_11ea_864c_0242ac1c0002row2_col6\" class=\"data row2 col6\" >4.07904</td>\n",
              "                        <td id=\"T_1755601c_6df4_11ea_864c_0242ac1c0002row2_col7\" class=\"data row2 col7\" >4.4302</td>\n",
              "                        <td id=\"T_1755601c_6df4_11ea_864c_0242ac1c0002row2_col8\" class=\"data row2 col8\" >4.15313</td>\n",
              "                        <td id=\"T_1755601c_6df4_11ea_864c_0242ac1c0002row2_col9\" class=\"data row2 col9\" >5.11645</td>\n",
              "                        <td id=\"T_1755601c_6df4_11ea_864c_0242ac1c0002row2_col10\" class=\"data row2 col10\" >3.93883</td>\n",
              "            </tr>\n",
              "            <tr>\n",
              "                        <th id=\"T_1755601c_6df4_11ea_864c_0242ac1c0002level0_row3\" class=\"row_heading level0 row3\" >police</th>\n",
              "                        <td id=\"T_1755601c_6df4_11ea_864c_0242ac1c0002row3_col0\" class=\"data row3 col0\" >6.16098</td>\n",
              "                        <td id=\"T_1755601c_6df4_11ea_864c_0242ac1c0002row3_col1\" class=\"data row3 col1\" >6.03374</td>\n",
              "                        <td id=\"T_1755601c_6df4_11ea_864c_0242ac1c0002row3_col2\" class=\"data row3 col2\" >6.32765</td>\n",
              "                        <td id=\"T_1755601c_6df4_11ea_864c_0242ac1c0002row3_col3\" class=\"data row3 col3\" >0</td>\n",
              "                        <td id=\"T_1755601c_6df4_11ea_864c_0242ac1c0002row3_col4\" class=\"data row3 col4\" >6.51848</td>\n",
              "                        <td id=\"T_1755601c_6df4_11ea_864c_0242ac1c0002row3_col5\" class=\"data row3 col5\" >5.77523</td>\n",
              "                        <td id=\"T_1755601c_6df4_11ea_864c_0242ac1c0002row3_col6\" class=\"data row3 col6\" >5.44957</td>\n",
              "                        <td id=\"T_1755601c_6df4_11ea_864c_0242ac1c0002row3_col7\" class=\"data row3 col7\" >6.15187</td>\n",
              "                        <td id=\"T_1755601c_6df4_11ea_864c_0242ac1c0002row3_col8\" class=\"data row3 col8\" >6.18255</td>\n",
              "                        <td id=\"T_1755601c_6df4_11ea_864c_0242ac1c0002row3_col9\" class=\"data row3 col9\" >6.1205</td>\n",
              "                        <td id=\"T_1755601c_6df4_11ea_864c_0242ac1c0002row3_col10\" class=\"data row3 col10\" >6.26537</td>\n",
              "            </tr>\n",
              "            <tr>\n",
              "                        <th id=\"T_1755601c_6df4_11ea_864c_0242ac1c0002level0_row4\" class=\"row_heading level0 row4\" >jury</th>\n",
              "                        <td id=\"T_1755601c_6df4_11ea_864c_0242ac1c0002row4_col0\" class=\"data row4 col0\" >1.36555</td>\n",
              "                        <td id=\"T_1755601c_6df4_11ea_864c_0242ac1c0002row4_col1\" class=\"data row4 col1\" >1.74203</td>\n",
              "                        <td id=\"T_1755601c_6df4_11ea_864c_0242ac1c0002row4_col2\" class=\"data row4 col2\" >3.92679</td>\n",
              "                        <td id=\"T_1755601c_6df4_11ea_864c_0242ac1c0002row4_col3\" class=\"data row4 col3\" >6.51848</td>\n",
              "                        <td id=\"T_1755601c_6df4_11ea_864c_0242ac1c0002row4_col4\" class=\"data row4 col4\" >0</td>\n",
              "                        <td id=\"T_1755601c_6df4_11ea_864c_0242ac1c0002row4_col5\" class=\"data row4 col5\" >1.63207</td>\n",
              "                        <td id=\"T_1755601c_6df4_11ea_864c_0242ac1c0002row4_col6\" class=\"data row4 col6\" >2.56273</td>\n",
              "                        <td id=\"T_1755601c_6df4_11ea_864c_0242ac1c0002row4_col7\" class=\"data row4 col7\" >1.93462</td>\n",
              "                        <td id=\"T_1755601c_6df4_11ea_864c_0242ac1c0002row4_col8\" class=\"data row4 col8\" >1.79403</td>\n",
              "                        <td id=\"T_1755601c_6df4_11ea_864c_0242ac1c0002row4_col9\" class=\"data row4 col9\" >2.67092</td>\n",
              "                        <td id=\"T_1755601c_6df4_11ea_864c_0242ac1c0002row4_col10\" class=\"data row4 col10\" >1.38742</td>\n",
              "            </tr>\n",
              "            <tr>\n",
              "                        <th id=\"T_1755601c_6df4_11ea_864c_0242ac1c0002level0_row5\" class=\"row_heading level0 row5\" >minister</th>\n",
              "                        <td id=\"T_1755601c_6df4_11ea_864c_0242ac1c0002row5_col0\" class=\"data row5 col0\" >0.900202</td>\n",
              "                        <td id=\"T_1755601c_6df4_11ea_864c_0242ac1c0002row5_col1\" class=\"data row5 col1\" >1.81458</td>\n",
              "                        <td id=\"T_1755601c_6df4_11ea_864c_0242ac1c0002row5_col2\" class=\"data row5 col2\" >3.80989</td>\n",
              "                        <td id=\"T_1755601c_6df4_11ea_864c_0242ac1c0002row5_col3\" class=\"data row5 col3\" >5.77523</td>\n",
              "                        <td id=\"T_1755601c_6df4_11ea_864c_0242ac1c0002row5_col4\" class=\"data row5 col4\" >1.63207</td>\n",
              "                        <td id=\"T_1755601c_6df4_11ea_864c_0242ac1c0002row5_col5\" class=\"data row5 col5\" >0</td>\n",
              "                        <td id=\"T_1755601c_6df4_11ea_864c_0242ac1c0002row5_col6\" class=\"data row5 col6\" >1.27041</td>\n",
              "                        <td id=\"T_1755601c_6df4_11ea_864c_0242ac1c0002row5_col7\" class=\"data row5 col7\" >1.0638</td>\n",
              "                        <td id=\"T_1755601c_6df4_11ea_864c_0242ac1c0002row5_col8\" class=\"data row5 col8\" >1.07792</td>\n",
              "                        <td id=\"T_1755601c_6df4_11ea_864c_0242ac1c0002row5_col9\" class=\"data row5 col9\" >1.6955</td>\n",
              "                        <td id=\"T_1755601c_6df4_11ea_864c_0242ac1c0002row5_col10\" class=\"data row5 col10\" >0.679272</td>\n",
              "            </tr>\n",
              "            <tr>\n",
              "                        <th id=\"T_1755601c_6df4_11ea_864c_0242ac1c0002level0_row6\" class=\"row_heading level0 row6\" >health</th>\n",
              "                        <td id=\"T_1755601c_6df4_11ea_864c_0242ac1c0002row6_col0\" class=\"data row6 col0\" >1.51025</td>\n",
              "                        <td id=\"T_1755601c_6df4_11ea_864c_0242ac1c0002row6_col1\" class=\"data row6 col1\" >2.41928</td>\n",
              "                        <td id=\"T_1755601c_6df4_11ea_864c_0242ac1c0002row6_col2\" class=\"data row6 col2\" >4.07904</td>\n",
              "                        <td id=\"T_1755601c_6df4_11ea_864c_0242ac1c0002row6_col3\" class=\"data row6 col3\" >5.44957</td>\n",
              "                        <td id=\"T_1755601c_6df4_11ea_864c_0242ac1c0002row6_col4\" class=\"data row6 col4\" >2.56273</td>\n",
              "                        <td id=\"T_1755601c_6df4_11ea_864c_0242ac1c0002row6_col5\" class=\"data row6 col5\" >1.27041</td>\n",
              "                        <td id=\"T_1755601c_6df4_11ea_864c_0242ac1c0002row6_col6\" class=\"data row6 col6\" >0</td>\n",
              "                        <td id=\"T_1755601c_6df4_11ea_864c_0242ac1c0002row6_col7\" class=\"data row6 col7\" >1.58871</td>\n",
              "                        <td id=\"T_1755601c_6df4_11ea_864c_0242ac1c0002row6_col8\" class=\"data row6 col8\" >1.56992</td>\n",
              "                        <td id=\"T_1755601c_6df4_11ea_864c_0242ac1c0002row6_col9\" class=\"data row6 col9\" >2.15724</td>\n",
              "                        <td id=\"T_1755601c_6df4_11ea_864c_0242ac1c0002row6_col10\" class=\"data row6 col10\" >1.45807</td>\n",
              "            </tr>\n",
              "            <tr>\n",
              "                        <th id=\"T_1755601c_6df4_11ea_864c_0242ac1c0002level0_row7\" class=\"row_heading level0 row7\" >finance</th>\n",
              "                        <td id=\"T_1755601c_6df4_11ea_864c_0242ac1c0002row7_col0\" class=\"data row7 col0\" >1.04518</td>\n",
              "                        <td id=\"T_1755601c_6df4_11ea_864c_0242ac1c0002row7_col1\" class=\"data row7 col1\" >2.18763</td>\n",
              "                        <td id=\"T_1755601c_6df4_11ea_864c_0242ac1c0002row7_col2\" class=\"data row7 col2\" >4.4302</td>\n",
              "                        <td id=\"T_1755601c_6df4_11ea_864c_0242ac1c0002row7_col3\" class=\"data row7 col3\" >6.15187</td>\n",
              "                        <td id=\"T_1755601c_6df4_11ea_864c_0242ac1c0002row7_col4\" class=\"data row7 col4\" >1.93462</td>\n",
              "                        <td id=\"T_1755601c_6df4_11ea_864c_0242ac1c0002row7_col5\" class=\"data row7 col5\" >1.0638</td>\n",
              "                        <td id=\"T_1755601c_6df4_11ea_864c_0242ac1c0002row7_col6\" class=\"data row7 col6\" >1.58871</td>\n",
              "                        <td id=\"T_1755601c_6df4_11ea_864c_0242ac1c0002row7_col7\" class=\"data row7 col7\" >0</td>\n",
              "                        <td id=\"T_1755601c_6df4_11ea_864c_0242ac1c0002row7_col8\" class=\"data row7 col8\" >0.754245</td>\n",
              "                        <td id=\"T_1755601c_6df4_11ea_864c_0242ac1c0002row7_col9\" class=\"data row7 col9\" >1.63831</td>\n",
              "                        <td id=\"T_1755601c_6df4_11ea_864c_0242ac1c0002row7_col10\" class=\"data row7 col10\" >0.899229</td>\n",
              "            </tr>\n",
              "            <tr>\n",
              "                        <th id=\"T_1755601c_6df4_11ea_864c_0242ac1c0002level0_row8\" class=\"row_heading level0 row8\" >banks</th>\n",
              "                        <td id=\"T_1755601c_6df4_11ea_864c_0242ac1c0002row8_col0\" class=\"data row8 col0\" >0.919091</td>\n",
              "                        <td id=\"T_1755601c_6df4_11ea_864c_0242ac1c0002row8_col1\" class=\"data row8 col1\" >2.25129</td>\n",
              "                        <td id=\"T_1755601c_6df4_11ea_864c_0242ac1c0002row8_col2\" class=\"data row8 col2\" >4.15313</td>\n",
              "                        <td id=\"T_1755601c_6df4_11ea_864c_0242ac1c0002row8_col3\" class=\"data row8 col3\" >6.18255</td>\n",
              "                        <td id=\"T_1755601c_6df4_11ea_864c_0242ac1c0002row8_col4\" class=\"data row8 col4\" >1.79403</td>\n",
              "                        <td id=\"T_1755601c_6df4_11ea_864c_0242ac1c0002row8_col5\" class=\"data row8 col5\" >1.07792</td>\n",
              "                        <td id=\"T_1755601c_6df4_11ea_864c_0242ac1c0002row8_col6\" class=\"data row8 col6\" >1.56992</td>\n",
              "                        <td id=\"T_1755601c_6df4_11ea_864c_0242ac1c0002row8_col7\" class=\"data row8 col7\" >0.754245</td>\n",
              "                        <td id=\"T_1755601c_6df4_11ea_864c_0242ac1c0002row8_col8\" class=\"data row8 col8\" >0</td>\n",
              "                        <td id=\"T_1755601c_6df4_11ea_864c_0242ac1c0002row8_col9\" class=\"data row8 col9\" >1.76234</td>\n",
              "                        <td id=\"T_1755601c_6df4_11ea_864c_0242ac1c0002row8_col10\" class=\"data row8 col10\" >0.711037</td>\n",
              "            </tr>\n",
              "            <tr>\n",
              "                        <th id=\"T_1755601c_6df4_11ea_864c_0242ac1c0002level0_row9\" class=\"row_heading level0 row9\" >wildlife</th>\n",
              "                        <td id=\"T_1755601c_6df4_11ea_864c_0242ac1c0002row9_col0\" class=\"data row9 col0\" >2.26418</td>\n",
              "                        <td id=\"T_1755601c_6df4_11ea_864c_0242ac1c0002row9_col1\" class=\"data row9 col1\" >3.20513</td>\n",
              "                        <td id=\"T_1755601c_6df4_11ea_864c_0242ac1c0002row9_col2\" class=\"data row9 col2\" >5.11645</td>\n",
              "                        <td id=\"T_1755601c_6df4_11ea_864c_0242ac1c0002row9_col3\" class=\"data row9 col3\" >6.1205</td>\n",
              "                        <td id=\"T_1755601c_6df4_11ea_864c_0242ac1c0002row9_col4\" class=\"data row9 col4\" >2.67092</td>\n",
              "                        <td id=\"T_1755601c_6df4_11ea_864c_0242ac1c0002row9_col5\" class=\"data row9 col5\" >1.6955</td>\n",
              "                        <td id=\"T_1755601c_6df4_11ea_864c_0242ac1c0002row9_col6\" class=\"data row9 col6\" >2.15724</td>\n",
              "                        <td id=\"T_1755601c_6df4_11ea_864c_0242ac1c0002row9_col7\" class=\"data row9 col7\" >1.63831</td>\n",
              "                        <td id=\"T_1755601c_6df4_11ea_864c_0242ac1c0002row9_col8\" class=\"data row9 col8\" >1.76234</td>\n",
              "                        <td id=\"T_1755601c_6df4_11ea_864c_0242ac1c0002row9_col9\" class=\"data row9 col9\" >0</td>\n",
              "                        <td id=\"T_1755601c_6df4_11ea_864c_0242ac1c0002row9_col10\" class=\"data row9 col10\" >1.83593</td>\n",
              "            </tr>\n",
              "            <tr>\n",
              "                        <th id=\"T_1755601c_6df4_11ea_864c_0242ac1c0002level0_row10\" class=\"row_heading level0 row10\" >doctor</th>\n",
              "                        <td id=\"T_1755601c_6df4_11ea_864c_0242ac1c0002row10_col0\" class=\"data row10 col0\" >0.56765</td>\n",
              "                        <td id=\"T_1755601c_6df4_11ea_864c_0242ac1c0002row10_col1\" class=\"data row10 col1\" >1.87947</td>\n",
              "                        <td id=\"T_1755601c_6df4_11ea_864c_0242ac1c0002row10_col2\" class=\"data row10 col2\" >3.93883</td>\n",
              "                        <td id=\"T_1755601c_6df4_11ea_864c_0242ac1c0002row10_col3\" class=\"data row10 col3\" >6.26537</td>\n",
              "                        <td id=\"T_1755601c_6df4_11ea_864c_0242ac1c0002row10_col4\" class=\"data row10 col4\" >1.38742</td>\n",
              "                        <td id=\"T_1755601c_6df4_11ea_864c_0242ac1c0002row10_col5\" class=\"data row10 col5\" >0.679272</td>\n",
              "                        <td id=\"T_1755601c_6df4_11ea_864c_0242ac1c0002row10_col6\" class=\"data row10 col6\" >1.45807</td>\n",
              "                        <td id=\"T_1755601c_6df4_11ea_864c_0242ac1c0002row10_col7\" class=\"data row10 col7\" >0.899229</td>\n",
              "                        <td id=\"T_1755601c_6df4_11ea_864c_0242ac1c0002row10_col8\" class=\"data row10 col8\" >0.711037</td>\n",
              "                        <td id=\"T_1755601c_6df4_11ea_864c_0242ac1c0002row10_col9\" class=\"data row10 col9\" >1.83593</td>\n",
              "                        <td id=\"T_1755601c_6df4_11ea_864c_0242ac1c0002row10_col10\" class=\"data row10 col10\" >0</td>\n",
              "            </tr>\n",
              "    </tbody></table>"
            ],
            "text/plain": [
              "<pandas.io.formats.style.Styler at 0x7f6bd71e88d0>"
            ]
          },
          "metadata": {
            "tags": []
          },
          "execution_count": 58
        }
      ]
    },
    {
      "cell_type": "markdown",
      "metadata": {
        "id": "hg1Cr6XkwyLd",
        "colab_type": "text"
      },
      "source": [
        "Why is `arrested` so different from `murder`? It feels like they should be similar. \n",
        "\n",
        "Let's find out."
      ]
    },
    {
      "cell_type": "code",
      "metadata": {
        "id": "YMCRilY1AlXA",
        "colab_type": "code",
        "outputId": "906d3b16-4ead-4901-8cee-a4d425b5ec98",
        "colab": {
          "base_uri": "https://localhost:8080/",
          "height": 34
        }
      },
      "source": [
        "n_arrested = (headlines.loc[lambda d: d.str.contains('arrested')].shape)\n",
        "n_murder = (headlines.loc[lambda d: d.str.contains('murder')].shape)\n",
        "\n",
        "n_both = (headlines\n",
        "          .loc[lambda d: d.str.contains('arrested')]\n",
        "          .loc[lambda d: d.str.contains('murder')]\n",
        "          .shape)\n",
        "\n",
        "n_arrested, n_murder, n_both"
      ],
      "execution_count": 0,
      "outputs": [
        {
          "output_type": "execute_result",
          "data": {
            "text/plain": [
              "((56,), (172,), (2,))"
            ]
          },
          "metadata": {
            "tags": []
          },
          "execution_count": 134
        }
      ]
    },
    {
      "cell_type": "markdown",
      "metadata": {
        "id": "paYBcGTgyudu",
        "colab_type": "text"
      },
      "source": [
        "And what about `money`, `cash`, `zealand` and `domestic`?"
      ]
    },
    {
      "cell_type": "code",
      "metadata": {
        "id": "_NoBarxAy1DE",
        "colab_type": "code",
        "outputId": "4a70459d-6b63-433b-e429-a8f9f53fadc5",
        "colab": {
          "base_uri": "https://localhost:8080/",
          "height": 34
        }
      },
      "source": [
        "n_arrested = (headlines.loc[lambda d: d.str.contains('money')].shape)\n",
        "n_murder = (headlines.loc[lambda d: d.str.contains('zealand')].shape)\n",
        "\n",
        "n_both = (headlines\n",
        "          .loc[lambda d: d.str.contains('money')]\n",
        "          .loc[lambda d: d.str.contains('zealand')]\n",
        "          .shape)\n",
        "\n",
        "n_arrested, n_murder, n_both"
      ],
      "execution_count": 0,
      "outputs": [
        {
          "output_type": "execute_result",
          "data": {
            "text/plain": [
              "((27,), (24,), (0,))"
            ]
          },
          "metadata": {
            "tags": []
          },
          "execution_count": 135
        }
      ]
    },
    {
      "cell_type": "markdown",
      "metadata": {
        "id": "wEQzSllrxkEM",
        "colab_type": "text"
      },
      "source": [
        "Note how there is no overlap! \n",
        "\n",
        "## Conclusion \n",
        "\n",
        "Notice the tricky business here with word embeddings. They depend on a lot of things; \n",
        "\n",
        "- the size of the embeddig $k$ \n",
        "- the choice of algorithm \n",
        "- the choice of the data going in \n",
        "\n",
        "We need to be careful that we don't cherry pick our results. The output of the model may not generalise the language well if we pick a bad language task, a bad dataset or if the hyperparameters of the model are wrong. \n",
        "\n",
        "The hope though is that if you train on a large corpus you do get something that might be general. It's not always the case though that a word embedding that is general will be appropriate for the virtual assistant setting.\n",
        "\n",
        "## In Real Life\n",
        "\n",
        "You won't need to train these yourself. In fact, it's I'll advised. Best to use the ones trained by others. \n"
      ]
    },
    {
      "cell_type": "code",
      "metadata": {
        "id": "jfilV_CMzBzF",
        "colab_type": "code",
        "colab": {}
      },
      "source": [
        ""
      ],
      "execution_count": 0,
      "outputs": []
    }
  ]
}