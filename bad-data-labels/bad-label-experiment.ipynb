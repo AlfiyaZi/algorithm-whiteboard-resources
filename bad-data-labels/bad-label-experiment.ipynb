{
 "cells": [
  {
   "cell_type": "code",
   "execution_count": 2,
   "metadata": {},
   "outputs": [],
   "source": [
    "import time\n",
    "import pathlib\n",
    "\n",
    "import numpy as np\n",
    "import pandas as pd\n",
    "from sklearn.pipeline import Pipeline, make_pipeline, FeatureUnion\n",
    "from sklearn.feature_extraction.text import CountVectorizer\n",
    "from sklearn.linear_model import LogisticRegression\n",
    "from sklearn.model_selection import train_test_split"
   ]
  },
  {
   "cell_type": "code",
   "execution_count": 3,
   "metadata": {},
   "outputs": [],
   "source": [
    "df = (pd.read_csv(\"outofscope-intent-classification-dataset.csv\")\n",
    "      .loc[lambda d: ~d['text'].isna()]\n",
    "      .loc[lambda d: ~d['label'].isna()])\n",
    "\n",
    "def assign_bad_label(dataf, percentage=0.05):\n",
    "    \"\"\"Method to flip a label in a dataframe.\"\"\"\n",
    "    random_label = np.random.choice(df['label'], size=df['label'].shape)\n",
    "    predicate = np.random.uniform(size=df['label'].shape) < percentage\n",
    "    return (dataf\n",
    "            .copy()\n",
    "            .assign(err_label=lambda d: np.where(predicate, random_label, d['label'])))\n",
    "\n",
    "def flip_label(label_col, percentage=0.05):\n",
    "    \"\"\"Method to flip a label in a numpy array.\"\"\"\n",
    "    random_label = np.random.choice(label_col, size=label_col.shape)\n",
    "    predicate = np.random.uniform(size=label_col.shape) < percentage\n",
    "    return np.where(predicate, random_label, label_col)"
   ]
  },
  {
   "cell_type": "code",
   "execution_count": 4,
   "metadata": {},
   "outputs": [
    {
     "name": "stdout",
     "output_type": "stream",
     "text": [
      "CPU times: user 4.65 s, sys: 26.1 ms, total: 4.68 s\n",
      "Wall time: 4.68 s\n"
     ]
    }
   ],
   "source": [
    "%%time\n",
    "\n",
    "# Generate a train/test split\n",
    "X_train, X_test, y_train, y_test = train_test_split(df['text'], df['label'],\n",
    "                                                test_size=0.50,\n",
    "                                                stratify=df['label'],\n",
    "                                                random_state=42)\n",
    "\n",
    "# Construct a simple (and fast) pipeline\n",
    "mod = make_pipeline(CountVectorizer(),\n",
    "                    LogisticRegression(solver='liblinear', class_weight='balanced'))\n",
    "\n",
    "# Flip some of the labels\n",
    "p_train, p_test = 0.15, 0.01\n",
    "y_train_flip = flip_label(y_train, percentage=p_train)\n",
    "y_test_flip = flip_label(y_test, percentage=p_test)\n",
    "\n",
    "# Fit the model\n",
    "mod.fit(X_train, y_train_flip)\n",
    "\n",
    "# Measure the impact on the summary stats\n",
    "reported_acc_train = np.mean(mod.predict(X_train) == y_train_flip)\n",
    "actual_acc_train = np.mean(mod.predict(X_train) == y_train)\n",
    "reported_acc_test = np.mean(mod.predict(X_test) == y_test_flip)\n",
    "actual_acc_test = np.mean(mod.predict(X_test) == y_test)"
   ]
  },
  {
   "cell_type": "code",
   "execution_count": 5,
   "metadata": {},
   "outputs": [
    {
     "name": "stdout",
     "output_type": "stream",
     "text": [
      "Train Score Reported: 0.8363/0.9417\n",
      " Test Score Reported: 0.862/0.8692\n"
     ]
    }
   ],
   "source": [
    "print(f\"Train Score Reported: {np.round(reported_acc_train, 4)}/{np.round(actual_acc_train, 4)}\")\n",
    "print(f\" Test Score Reported: {np.round(reported_acc_test, 4)}/{np.round(actual_acc_test, 4)}\")"
   ]
  },
  {
   "cell_type": "markdown",
   "metadata": {},
   "source": [
    "## Let's Dive! \n",
    "\n",
    "The dataset that I'm using here is relatively easy. But there's an interesting effect happening here."
   ]
  },
  {
   "cell_type": "code",
   "execution_count": 22,
   "metadata": {},
   "outputs": [],
   "source": [
    "from memo import memlist, grid \n",
    "\n",
    "data = []\n",
    "\n",
    "@memlist(data=data)\n",
    "def benchmark(p_train, p_test):\n",
    "    # Generate a train/test split\n",
    "    X_train, X_test, y_train, y_test = train_test_split(df['text'], df['label'],\n",
    "                                                    test_size=0.50,\n",
    "                                                    stratify=df['label'],\n",
    "                                                    random_state=42)\n",
    "\n",
    "    # Construct a simple (and fast) pipeline\n",
    "    mod = make_pipeline(CountVectorizer(),\n",
    "                        LogisticRegression(solver='liblinear', class_weight='balanced'))\n",
    "\n",
    "    # Flip some of the labels\n",
    "    y_train_flip = flip_label(y_train, percentage=p_train)\n",
    "    y_test_flip = flip_label(y_test, percentage=p_test)\n",
    "\n",
    "    # Fit the model\n",
    "    mod.fit(X_train, y_train_flip)\n",
    "\n",
    "    # Measure the impact on the summary stats\n",
    "    reported_acc_train = np.mean(mod.predict(X_train) == y_train_flip)\n",
    "    actual_acc_train = np.mean(mod.predict(X_train) == y_train)\n",
    "    reported_acc_test = np.mean(mod.predict(X_test) == y_test_flip)\n",
    "    actual_acc_test = np.mean(mod.predict(X_test) == y_test)\n",
    "    return {\n",
    "        \"reported_acc_train\": reported_acc_train,\n",
    "        \"actual_acc_train\": actual_acc_train,\n",
    "        \"reported_acc_test\": reported_acc_test,\n",
    "        \"actual_acc_test\": actual_acc_test\n",
    "    }\n",
    "\n",
    "settings = grid(p_train=np.linspace(0, 0.9, 20), p_test=np.linspace(0, 0.3, 5))"
   ]
  },
  {
   "cell_type": "code",
   "execution_count": 23,
   "metadata": {},
   "outputs": [
    {
     "data": {
      "text/html": [
       "<pre style=\"white-space:pre;overflow-x:auto;line-height:normal;font-family:Menlo,'DejaVu Sans Mono',consolas,'Courier New',monospace\"><span style=\"color: #800000\">Runner....</span> <span style=\"color: #729c1f\">━━━━━━━━━━━━━━━━━━━━━━━━━━━━━━━━━━━━━━━━</span> <span style=\"color: #800080\">100%</span> <span style=\"color: #008080\">0:00:00</span>\n",
       "</pre>\n"
      ],
      "text/plain": [
       "<rich.jupyter.JupyterRenderable at 0x7f4df412ce90>"
      ]
     },
     "metadata": {},
     "output_type": "display_data"
    }
   ],
   "source": [
    "from memo import Runner\n",
    "\n",
    "runner = Runner(backend=\"threading\", n_jobs=8)\n",
    "runner.run(benchmark, settings)"
   ]
  },
  {
   "cell_type": "code",
   "execution_count": 24,
   "metadata": {},
   "outputs": [],
   "source": [
    "pltr = pd.DataFrame(data)"
   ]
  },
  {
   "cell_type": "code",
   "execution_count": 31,
   "metadata": {},
   "outputs": [
    {
     "data": {
      "text/html": [
       "\n",
       "<div id=\"altair-viz-6dcc10d94921457fa20c141a101d371a\"></div>\n",
       "<script type=\"text/javascript\">\n",
       "  (function(spec, embedOpt){\n",
       "    let outputDiv = document.currentScript.previousElementSibling;\n",
       "    if (outputDiv.id !== \"altair-viz-6dcc10d94921457fa20c141a101d371a\") {\n",
       "      outputDiv = document.getElementById(\"altair-viz-6dcc10d94921457fa20c141a101d371a\");\n",
       "    }\n",
       "    const paths = {\n",
       "      \"vega\": \"https://cdn.jsdelivr.net/npm//vega@5?noext\",\n",
       "      \"vega-lib\": \"https://cdn.jsdelivr.net/npm//vega-lib?noext\",\n",
       "      \"vega-lite\": \"https://cdn.jsdelivr.net/npm//vega-lite@4.8.1?noext\",\n",
       "      \"vega-embed\": \"https://cdn.jsdelivr.net/npm//vega-embed@6?noext\",\n",
       "    };\n",
       "\n",
       "    function loadScript(lib) {\n",
       "      return new Promise(function(resolve, reject) {\n",
       "        var s = document.createElement('script');\n",
       "        s.src = paths[lib];\n",
       "        s.async = true;\n",
       "        s.onload = () => resolve(paths[lib]);\n",
       "        s.onerror = () => reject(`Error loading script: ${paths[lib]}`);\n",
       "        document.getElementsByTagName(\"head\")[0].appendChild(s);\n",
       "      });\n",
       "    }\n",
       "\n",
       "    function showError(err) {\n",
       "      outputDiv.innerHTML = `<div class=\"error\" style=\"color:red;\">${err}</div>`;\n",
       "      throw err;\n",
       "    }\n",
       "\n",
       "    function displayChart(vegaEmbed) {\n",
       "      vegaEmbed(outputDiv, spec, embedOpt)\n",
       "        .catch(err => showError(`Javascript Error: ${err.message}<br>This usually means there's a typo in your chart specification. See the javascript console for the full traceback.`));\n",
       "    }\n",
       "\n",
       "    if(typeof define === \"function\" && define.amd) {\n",
       "      requirejs.config({paths});\n",
       "      require([\"vega-embed\"], displayChart, err => showError(`Error loading script: ${err.message}`));\n",
       "    } else if (typeof vegaEmbed === \"function\") {\n",
       "      displayChart(vegaEmbed);\n",
       "    } else {\n",
       "      loadScript(\"vega\")\n",
       "        .then(() => loadScript(\"vega-lite\"))\n",
       "        .then(() => loadScript(\"vega-embed\"))\n",
       "        .catch(showError)\n",
       "        .then(() => displayChart(vegaEmbed));\n",
       "    }\n",
       "  })({\"config\": {\"view\": {\"continuousWidth\": 400, \"continuousHeight\": 300}}, \"hconcat\": [{\"mark\": \"line\", \"encoding\": {\"color\": {\"type\": \"quantitative\", \"field\": \"p_test\"}, \"x\": {\"type\": \"quantitative\", \"field\": \"p_train\"}, \"y\": {\"type\": \"quantitative\", \"field\": \"reported_acc_test\"}}, \"height\": 250, \"selection\": {\"selector014\": {\"type\": \"interval\", \"bind\": \"scales\", \"encodings\": [\"x\", \"y\"]}}, \"title\": \"reported accuracy\", \"width\": 300}, {\"mark\": \"line\", \"encoding\": {\"color\": {\"type\": \"quantitative\", \"field\": \"p_test\"}, \"x\": {\"type\": \"quantitative\", \"field\": \"p_train\"}, \"y\": {\"type\": \"quantitative\", \"field\": \"actual_acc_test\"}}, \"height\": 250, \"selection\": {\"selector015\": {\"type\": \"interval\", \"bind\": \"scales\", \"encodings\": [\"x\", \"y\"]}}, \"title\": \"actual accuracy\", \"width\": 300}], \"data\": {\"name\": \"data-ae874ff1b8c3970337eccfa41ab8ef65\"}, \"$schema\": \"https://vega.github.io/schema/vega-lite/v4.8.1.json\", \"datasets\": {\"data-ae874ff1b8c3970337eccfa41ab8ef65\": [{\"p_train\": 0.14210526315789473, \"p_test\": 0.0, \"reported_acc_train\": 0.8329113924050633, \"actual_acc_train\": 0.93957805907173, \"reported_acc_test\": 0.8704641350210971, \"actual_acc_test\": 0.8704641350210971}, {\"p_train\": 0.4263157894736842, \"p_test\": 0.075, \"reported_acc_train\": 0.6270042194092827, \"actual_acc_train\": 0.8632067510548523, \"reported_acc_test\": 0.7567088607594936, \"actual_acc_test\": 0.820084388185654}, {\"p_train\": 0.8052631578947369, \"p_test\": 0.075, \"reported_acc_train\": 0.5006751054852321, \"actual_acc_train\": 0.5138396624472574, \"reported_acc_test\": 0.5043037974683544, \"actual_acc_test\": 0.5433755274261604}, {\"p_train\": 0.4736842105263158, \"p_test\": 0.15, \"reported_acc_train\": 0.5958649789029535, \"actual_acc_train\": 0.839240506329114, \"reported_acc_test\": 0.6845569620253165, \"actual_acc_test\": 0.8050632911392405}, {\"p_train\": 0.7578947368421053, \"p_test\": 0.22499999999999998, \"reported_acc_train\": 0.4978902953586498, \"actual_acc_train\": 0.5977215189873418, \"reported_acc_test\": 0.4962025316455696, \"actual_acc_test\": 0.6267510548523206}, {\"p_train\": 0.7578947368421053, \"p_test\": 0.15, \"reported_acc_train\": 0.48928270042194094, \"actual_acc_train\": 0.6040506329113924, \"reported_acc_test\": 0.5259915611814346, \"actual_acc_test\": 0.6171308016877637}, {\"p_train\": 0.6157894736842106, \"p_test\": 0.0, \"reported_acc_train\": 0.5230379746835443, \"actual_acc_train\": 0.750042194092827, \"reported_acc_test\": 0.7491139240506329, \"actual_acc_test\": 0.7491139240506329}, {\"p_train\": 0.2368421052631579, \"p_test\": 0.3, \"reported_acc_train\": 0.7628691983122363, \"actual_acc_train\": 0.920168776371308, \"reported_acc_test\": 0.6027004219409283, \"actual_acc_test\": 0.8573839662447258}, {\"p_train\": 0.04736842105263158, \"p_test\": 0.22499999999999998, \"reported_acc_train\": 0.9220253164556962, \"actual_acc_train\": 0.9583966244725738, \"reported_acc_test\": 0.689873417721519, \"actual_acc_test\": 0.8847257383966245}, {\"p_train\": 0.8052631578947369, \"p_test\": 0.3, \"reported_acc_train\": 0.4981434599156118, \"actual_acc_train\": 0.5167088607594936, \"reported_acc_test\": 0.3818565400843882, \"actual_acc_test\": 0.5478481012658228}, {\"p_train\": 0.5210526315789474, \"p_test\": 0.075, \"reported_acc_train\": 0.5680168776371308, \"actual_acc_train\": 0.8117299578059072, \"reported_acc_test\": 0.7338396624472574, \"actual_acc_test\": 0.7908860759493671}, {\"p_train\": 0.7105263157894737, \"p_test\": 0.075, \"reported_acc_train\": 0.4925738396624473, \"actual_acc_train\": 0.6737552742616034, \"reported_acc_test\": 0.6324894514767933, \"actual_acc_test\": 0.6822784810126582}, {\"p_train\": 0.28421052631578947, \"p_test\": 0.3, \"reported_acc_train\": 0.7233755274261603, \"actual_acc_train\": 0.9069198312236287, \"reported_acc_test\": 0.5969620253164557, \"actual_acc_test\": 0.8465822784810126}, {\"p_train\": 0.4736842105263158, \"p_test\": 0.0, \"reported_acc_train\": 0.5909704641350211, \"actual_acc_train\": 0.83957805907173, \"reported_acc_test\": 0.8041350210970464, \"actual_acc_test\": 0.8041350210970464}, {\"p_train\": 0.5684210526315789, \"p_test\": 0.3, \"reported_acc_train\": 0.5449789029535865, \"actual_acc_train\": 0.7943459915611815, \"reported_acc_test\": 0.5374683544303798, \"actual_acc_test\": 0.7713080168776372}, {\"p_train\": 0.7105263157894737, \"p_test\": 0.3, \"reported_acc_train\": 0.4923206751054852, \"actual_acc_train\": 0.6631223628691983, \"reported_acc_test\": 0.46987341772151897, \"actual_acc_test\": 0.669873417721519}, {\"p_train\": 0.8526315789473684, \"p_test\": 0.22499999999999998, \"reported_acc_train\": 0.5167088607594936, \"actual_acc_train\": 0.4032911392405063, \"reported_acc_test\": 0.34548523206751053, \"actual_acc_test\": 0.44143459915611816}, {\"p_train\": 0.37894736842105264, \"p_test\": 0.22499999999999998, \"reported_acc_train\": 0.6527426160337553, \"actual_acc_train\": 0.8783122362869198, \"reported_acc_test\": 0.6474261603375527, \"actual_acc_test\": 0.8373839662447258}, {\"p_train\": 0.0, \"p_test\": 0.15, \"reported_acc_train\": 0.9636286919831224, \"actual_acc_train\": 0.9636286919831224, \"reported_acc_test\": 0.7619409282700422, \"actual_acc_test\": 0.8895358649789029}, {\"p_train\": 0.6157894736842106, \"p_test\": 0.3, \"reported_acc_train\": 0.5190717299578059, \"actual_acc_train\": 0.7522362869198312, \"reported_acc_test\": 0.5232067510548524, \"actual_acc_test\": 0.7447257383966245}, {\"p_train\": 0.8052631578947369, \"p_test\": 0.15, \"reported_acc_train\": 0.49654008438818564, \"actual_acc_train\": 0.5270886075949367, \"reported_acc_test\": 0.46810126582278483, \"actual_acc_test\": 0.5467510548523207}, {\"p_train\": 0.5210526315789474, \"p_test\": 0.22499999999999998, \"reported_acc_train\": 0.5656540084388185, \"actual_acc_train\": 0.8113924050632911, \"reported_acc_test\": 0.6071729957805907, \"actual_acc_test\": 0.7867510548523207}, {\"p_train\": 0.09473684210526316, \"p_test\": 0.22499999999999998, \"reported_acc_train\": 0.8834599156118144, \"actual_acc_train\": 0.949282700421941, \"reported_acc_test\": 0.6805907172995781, \"actual_acc_test\": 0.88}, {\"p_train\": 0.37894736842105264, \"p_test\": 0.075, \"reported_acc_train\": 0.6545991561181435, \"actual_acc_train\": 0.8781434599156118, \"reported_acc_test\": 0.7692827004219409, \"actual_acc_test\": 0.830042194092827}, {\"p_train\": 0.37894736842105264, \"p_test\": 0.3, \"reported_acc_train\": 0.6556118143459916, \"actual_acc_train\": 0.8804219409282701, \"reported_acc_test\": 0.590295358649789, \"actual_acc_test\": 0.8343459915611814}, {\"p_train\": 0.4736842105263158, \"p_test\": 0.22499999999999998, \"reported_acc_train\": 0.5868354430379746, \"actual_acc_train\": 0.8321518987341772, \"reported_acc_test\": 0.6218565400843882, \"actual_acc_test\": 0.8007594936708861}, {\"p_train\": 0.5210526315789474, \"p_test\": 0.0, \"reported_acc_train\": 0.5602531645569621, \"actual_acc_train\": 0.8151054852320675, \"reported_acc_test\": 0.7921518987341772, \"actual_acc_test\": 0.7921518987341772}, {\"p_train\": 0.6157894736842106, \"p_test\": 0.15, \"reported_acc_train\": 0.5290295358649789, \"actual_acc_train\": 0.7492827004219409, \"reported_acc_test\": 0.6354430379746835, \"actual_acc_test\": 0.7466666666666667}, {\"p_train\": 0.8526315789473684, \"p_test\": 0.075, \"reported_acc_train\": 0.5125738396624473, \"actual_acc_train\": 0.41215189873417724, \"reported_acc_test\": 0.40472573839662446, \"actual_acc_test\": 0.4348523206751055}, {\"p_train\": 0.3315789473684211, \"p_test\": 0.15, \"reported_acc_train\": 0.6885232067510548, \"actual_acc_train\": 0.8966244725738397, \"reported_acc_test\": 0.7150210970464135, \"actual_acc_test\": 0.8412658227848101}, {\"p_train\": 0.0, \"p_test\": 0.22499999999999998, \"reported_acc_train\": 0.9636286919831224, \"actual_acc_train\": 0.9636286919831224, \"reported_acc_test\": 0.6869198312236287, \"actual_acc_test\": 0.8895358649789029}, {\"p_train\": 0.5684210526315789, \"p_test\": 0.15, \"reported_acc_train\": 0.5439662447257384, \"actual_acc_train\": 0.7855696202531646, \"reported_acc_test\": 0.6614345991561181, \"actual_acc_test\": 0.7759493670886076}, {\"p_train\": 0.18947368421052632, \"p_test\": 0.075, \"reported_acc_train\": 0.8051476793248945, \"actual_acc_train\": 0.930970464135021, \"reported_acc_test\": 0.8020253164556962, \"actual_acc_test\": 0.8672573839662447}, {\"p_train\": 0.6631578947368422, \"p_test\": 0.3, \"reported_acc_train\": 0.5024472573839662, \"actual_acc_train\": 0.709789029535865, \"reported_acc_test\": 0.4971308016877637, \"actual_acc_test\": 0.7113924050632912}, {\"p_train\": 0.6631578947368422, \"p_test\": 0.0, \"reported_acc_train\": 0.5020253164556963, \"actual_acc_train\": 0.7071729957805907, \"reported_acc_test\": 0.7059915611814346, \"actual_acc_test\": 0.7059915611814346}, {\"p_train\": 0.6631578947368422, \"p_test\": 0.15, \"reported_acc_train\": 0.49957805907173, \"actual_acc_train\": 0.7234599156118143, \"reported_acc_test\": 0.6087763713080169, \"actual_acc_test\": 0.7179746835443038}, {\"p_train\": 0.8526315789473684, \"p_test\": 0.0, \"reported_acc_train\": 0.5119831223628692, \"actual_acc_train\": 0.40540084388185654, \"reported_acc_test\": 0.43333333333333335, \"actual_acc_test\": 0.43333333333333335}, {\"p_train\": 0.4736842105263158, \"p_test\": 0.3, \"reported_acc_train\": 0.5916455696202532, \"actual_acc_train\": 0.840168776371308, \"reported_acc_test\": 0.5652320675105486, \"actual_acc_test\": 0.8059915611814346}, {\"p_train\": 0.8526315789473684, \"p_test\": 0.15, \"reported_acc_train\": 0.519746835443038, \"actual_acc_train\": 0.39932489451476794, \"reported_acc_test\": 0.37443037974683546, \"actual_acc_test\": 0.43873417721518987}, {\"p_train\": 0.28421052631578947, \"p_test\": 0.22499999999999998, \"reported_acc_train\": 0.7239662447257385, \"actual_acc_train\": 0.9027848101265823, \"reported_acc_test\": 0.6615189873417722, \"actual_acc_test\": 0.850886075949367}, {\"p_train\": 0.9, \"p_test\": 0.0, \"reported_acc_train\": 0.5421940928270043, \"actual_acc_train\": 0.2790717299578059, \"reported_acc_test\": 0.30573839662447255, \"actual_acc_test\": 0.30573839662447255}, {\"p_train\": 0.2368421052631579, \"p_test\": 0.22499999999999998, \"reported_acc_train\": 0.7619409282700422, \"actual_acc_train\": 0.919831223628692, \"reported_acc_test\": 0.6634599156118144, \"actual_acc_test\": 0.8567088607594937}, {\"p_train\": 0.9, \"p_test\": 0.075, \"reported_acc_train\": 0.540084388185654, \"actual_acc_train\": 0.2561181434599156, \"reported_acc_test\": 0.26177215189873415, \"actual_acc_test\": 0.2831223628691983}, {\"p_train\": 0.37894736842105264, \"p_test\": 0.15, \"reported_acc_train\": 0.6561181434599156, \"actual_acc_train\": 0.8772995780590718, \"reported_acc_test\": 0.6989873417721519, \"actual_acc_test\": 0.829620253164557}, {\"p_train\": 0.2368421052631579, \"p_test\": 0.0, \"reported_acc_train\": 0.7570464135021097, \"actual_acc_train\": 0.9219409282700421, \"reported_acc_test\": 0.8544303797468354, \"actual_acc_test\": 0.8544303797468354}, {\"p_train\": 0.0, \"p_test\": 0.075, \"reported_acc_train\": 0.9636286919831224, \"actual_acc_train\": 0.9636286919831224, \"reported_acc_test\": 0.8262447257383966, \"actual_acc_test\": 0.8895358649789029}, {\"p_train\": 0.4736842105263158, \"p_test\": 0.075, \"reported_acc_train\": 0.5881856540084388, \"actual_acc_train\": 0.8378902953586498, \"reported_acc_test\": 0.7416877637130802, \"actual_acc_test\": 0.8032911392405063}, {\"p_train\": 0.7105263157894737, \"p_test\": 0.0, \"reported_acc_train\": 0.49350210970464137, \"actual_acc_train\": 0.6579746835443038, \"reported_acc_test\": 0.6746835443037975, \"actual_acc_test\": 0.6746835443037975}, {\"p_train\": 0.28421052631578947, \"p_test\": 0.0, \"reported_acc_train\": 0.7233755274261603, \"actual_acc_train\": 0.910717299578059, \"reported_acc_test\": 0.8511392405063292, \"actual_acc_test\": 0.8511392405063292}, {\"p_train\": 0.18947368421052632, \"p_test\": 0.22499999999999998, \"reported_acc_train\": 0.7992405063291139, \"actual_acc_train\": 0.9288607594936709, \"reported_acc_test\": 0.670464135021097, \"actual_acc_test\": 0.8640506329113924}, {\"p_train\": 0.04736842105263158, \"p_test\": 0.0, \"reported_acc_train\": 0.9210126582278481, \"actual_acc_train\": 0.9566244725738396, \"reported_acc_test\": 0.8828691983122363, \"actual_acc_test\": 0.8828691983122363}, {\"p_train\": 0.9, \"p_test\": 0.15, \"reported_acc_train\": 0.5320675105485232, \"actual_acc_train\": 0.2668354430379747, \"reported_acc_test\": 0.2470886075949367, \"actual_acc_test\": 0.2889451476793249}, {\"p_train\": 0.0, \"p_test\": 0.0, \"reported_acc_train\": 0.9636286919831224, \"actual_acc_train\": 0.9636286919831224, \"reported_acc_test\": 0.8895358649789029, \"actual_acc_test\": 0.8895358649789029}, {\"p_train\": 0.28421052631578947, \"p_test\": 0.075, \"reported_acc_train\": 0.7229535864978903, \"actual_acc_train\": 0.9089451476793249, \"reported_acc_test\": 0.7874261603375527, \"actual_acc_test\": 0.8516455696202532}, {\"p_train\": 0.3315789473684211, \"p_test\": 0.075, \"reported_acc_train\": 0.6874261603375528, \"actual_acc_train\": 0.8981434599156118, \"reported_acc_test\": 0.7791561181434599, \"actual_acc_test\": 0.8410970464135021}, {\"p_train\": 0.9, \"p_test\": 0.22499999999999998, \"reported_acc_train\": 0.540168776371308, \"actual_acc_train\": 0.26945147679324893, \"reported_acc_test\": 0.23071729957805906, \"actual_acc_test\": 0.29122362869198315}, {\"p_train\": 0.7105263157894737, \"p_test\": 0.15, \"reported_acc_train\": 0.4977215189873418, \"actual_acc_train\": 0.6675949367088607, \"reported_acc_test\": 0.5722362869198312, \"actual_acc_test\": 0.670717299578059}, {\"p_train\": 0.18947368421052632, \"p_test\": 0.0, \"reported_acc_train\": 0.8048101265822785, \"actual_acc_train\": 0.9321518987341773, \"reported_acc_test\": 0.869451476793249, \"actual_acc_test\": 0.869451476793249}, {\"p_train\": 0.4263157894736842, \"p_test\": 0.0, \"reported_acc_train\": 0.6268354430379747, \"actual_acc_train\": 0.8721518987341772, \"reported_acc_test\": 0.8249789029535864, \"actual_acc_test\": 0.8249789029535864}, {\"p_train\": 0.4263157894736842, \"p_test\": 0.3, \"reported_acc_train\": 0.6260759493670887, \"actual_acc_train\": 0.8569620253164557, \"reported_acc_test\": 0.5740928270042194, \"actual_acc_test\": 0.8180590717299578}, {\"p_train\": 0.8526315789473684, \"p_test\": 0.3, \"reported_acc_train\": 0.5139240506329114, \"actual_acc_train\": 0.410042194092827, \"reported_acc_test\": 0.3132489451476793, \"actual_acc_test\": 0.4410126582278481}, {\"p_train\": 0.2368421052631579, \"p_test\": 0.075, \"reported_acc_train\": 0.7673417721518987, \"actual_acc_train\": 0.9187341772151899, \"reported_acc_test\": 0.7972151898734178, \"actual_acc_test\": 0.8593248945147679}, {\"p_train\": 0.7105263157894737, \"p_test\": 0.22499999999999998, \"reported_acc_train\": 0.4936708860759494, \"actual_acc_train\": 0.6725738396624472, \"reported_acc_test\": 0.530464135021097, \"actual_acc_test\": 0.679662447257384}, {\"p_train\": 0.3315789473684211, \"p_test\": 0.22499999999999998, \"reported_acc_train\": 0.6915611814345991, \"actual_acc_train\": 0.8914767932489451, \"reported_acc_test\": 0.6562869198312237, \"actual_acc_test\": 0.8418565400843881}, {\"p_train\": 0.37894736842105264, \"p_test\": 0.0, \"reported_acc_train\": 0.6534177215189874, \"actual_acc_train\": 0.8778902953586498, \"reported_acc_test\": 0.8318987341772152, \"actual_acc_test\": 0.8318987341772152}, {\"p_train\": 0.14210526315789473, \"p_test\": 0.15, \"reported_acc_train\": 0.840084388185654, \"actual_acc_train\": 0.939915611814346, \"reported_acc_test\": 0.7434599156118143, \"actual_acc_test\": 0.8717299578059071}, {\"p_train\": 0.6631578947368422, \"p_test\": 0.22499999999999998, \"reported_acc_train\": 0.5060759493670887, \"actual_acc_train\": 0.7120675105485232, \"reported_acc_test\": 0.5627004219409283, \"actual_acc_test\": 0.7226160337552743}, {\"p_train\": 0.18947368421052632, \"p_test\": 0.15, \"reported_acc_train\": 0.7989873417721519, \"actual_acc_train\": 0.9324050632911393, \"reported_acc_test\": 0.7372151898734177, \"actual_acc_test\": 0.870801687763713}, {\"p_train\": 0.6631578947368422, \"p_test\": 0.075, \"reported_acc_train\": 0.5023628691983122, \"actual_acc_train\": 0.7172151898734177, \"reported_acc_test\": 0.6610970464135021, \"actual_acc_test\": 0.7182278481012658}, {\"p_train\": 0.14210526315789473, \"p_test\": 0.22499999999999998, \"reported_acc_train\": 0.84042194092827, \"actual_acc_train\": 0.9414345991561182, \"reported_acc_test\": 0.6830379746835443, \"actual_acc_test\": 0.8741772151898735}, {\"p_train\": 0.3315789473684211, \"p_test\": 0.3, \"reported_acc_train\": 0.6794092827004219, \"actual_acc_train\": 0.8924894514767933, \"reported_acc_test\": 0.5856540084388185, \"actual_acc_test\": 0.8440506329113924}, {\"p_train\": 0.8052631578947369, \"p_test\": 0.0, \"reported_acc_train\": 0.4959493670886076, \"actual_acc_train\": 0.5124894514767933, \"reported_acc_test\": 0.5419409282700421, \"actual_acc_test\": 0.5419409282700421}, {\"p_train\": 0.14210526315789473, \"p_test\": 0.3, \"reported_acc_train\": 0.8365400843881856, \"actual_acc_train\": 0.9402531645569621, \"reported_acc_test\": 0.6166244725738397, \"actual_acc_test\": 0.8731645569620253}, {\"p_train\": 0.04736842105263158, \"p_test\": 0.075, \"reported_acc_train\": 0.9226160337552742, \"actual_acc_train\": 0.9567088607594937, \"reported_acc_test\": 0.8190717299578059, \"actual_acc_test\": 0.8837130801687764}, {\"p_train\": 0.5684210526315789, \"p_test\": 0.0, \"reported_acc_train\": 0.5421097046413502, \"actual_acc_train\": 0.7828691983122363, \"reported_acc_test\": 0.7675949367088608, \"actual_acc_test\": 0.7675949367088608}, {\"p_train\": 0.04736842105263158, \"p_test\": 0.3, \"reported_acc_train\": 0.920675105485232, \"actual_acc_train\": 0.9564556962025317, \"reported_acc_test\": 0.6191561181434599, \"actual_acc_test\": 0.8856540084388186}, {\"p_train\": 0.4263157894736842, \"p_test\": 0.15, \"reported_acc_train\": 0.6212658227848101, \"actual_acc_train\": 0.8615189873417721, \"reported_acc_test\": 0.7008438818565401, \"actual_acc_test\": 0.8205063291139241}, {\"p_train\": 0.09473684210526316, \"p_test\": 0.3, \"reported_acc_train\": 0.879746835443038, \"actual_acc_train\": 0.949957805907173, \"reported_acc_test\": 0.610379746835443, \"actual_acc_test\": 0.88}, {\"p_train\": 0.28421052631578947, \"p_test\": 0.15, \"reported_acc_train\": 0.7266666666666667, \"actual_acc_train\": 0.9088607594936708, \"reported_acc_test\": 0.7271729957805907, \"actual_acc_test\": 0.8524050632911392}, {\"p_train\": 0.7578947368421053, \"p_test\": 0.0, \"reported_acc_train\": 0.48995780590717297, \"actual_acc_train\": 0.5971308016877637, \"reported_acc_test\": 0.620168776371308, \"actual_acc_test\": 0.620168776371308}, {\"p_train\": 0.7578947368421053, \"p_test\": 0.3, \"reported_acc_train\": 0.5013502109704642, \"actual_acc_train\": 0.5967088607594937, \"reported_acc_test\": 0.44573839662447257, \"actual_acc_test\": 0.6163713080168777}, {\"p_train\": 0.5684210526315789, \"p_test\": 0.22499999999999998, \"reported_acc_train\": 0.5340928270042195, \"actual_acc_train\": 0.7886075949367088, \"reported_acc_test\": 0.6042194092827005, \"actual_acc_test\": 0.7724894514767933}, {\"p_train\": 0.0, \"p_test\": 0.3, \"reported_acc_train\": 0.9636286919831224, \"actual_acc_train\": 0.9636286919831224, \"reported_acc_test\": 0.6221097046413502, \"actual_acc_test\": 0.8895358649789029}, {\"p_train\": 0.09473684210526316, \"p_test\": 0.0, \"reported_acc_train\": 0.8814345991561181, \"actual_acc_train\": 0.9513924050632911, \"reported_acc_test\": 0.8804219409282701, \"actual_acc_test\": 0.8804219409282701}, {\"p_train\": 0.8052631578947369, \"p_test\": 0.22499999999999998, \"reported_acc_train\": 0.4967932489451477, \"actual_acc_train\": 0.5222784810126583, \"reported_acc_test\": 0.4343459915611814, \"actual_acc_test\": 0.5563713080168776}, {\"p_train\": 0.09473684210526316, \"p_test\": 0.15, \"reported_acc_train\": 0.8789873417721519, \"actual_acc_train\": 0.9491139240506329, \"reported_acc_test\": 0.7443881856540084, \"actual_acc_test\": 0.8779746835443037}, {\"p_train\": 0.7578947368421053, \"p_test\": 0.075, \"reported_acc_train\": 0.49426160337552744, \"actual_acc_train\": 0.6072573839662447, \"reported_acc_test\": 0.5839662447257384, \"actual_acc_test\": 0.6281012658227848}, {\"p_train\": 0.04736842105263158, \"p_test\": 0.15, \"reported_acc_train\": 0.92042194092827, \"actual_acc_train\": 0.9573839662447258, \"reported_acc_test\": 0.750042194092827, \"actual_acc_test\": 0.8817721518987341}, {\"p_train\": 0.2368421052631579, \"p_test\": 0.15, \"reported_acc_train\": 0.7654852320675105, \"actual_acc_train\": 0.9253164556962026, \"reported_acc_test\": 0.7272573839662447, \"actual_acc_test\": 0.8593248945147679}, {\"p_train\": 0.5210526315789474, \"p_test\": 0.3, \"reported_acc_train\": 0.5572151898734177, \"actual_acc_train\": 0.8118143459915612, \"reported_acc_test\": 0.5576371308016878, \"actual_acc_test\": 0.7920675105485232}, {\"p_train\": 0.4263157894736842, \"p_test\": 0.22499999999999998, \"reported_acc_train\": 0.6219409282700422, \"actual_acc_train\": 0.8586497890295358, \"reported_acc_test\": 0.6375527426160338, \"actual_acc_test\": 0.8210126582278481}, {\"p_train\": 0.6157894736842106, \"p_test\": 0.075, \"reported_acc_train\": 0.5176371308016877, \"actual_acc_train\": 0.7579746835443038, \"reported_acc_test\": 0.6924050632911393, \"actual_acc_test\": 0.7468354430379747}, {\"p_train\": 0.09473684210526316, \"p_test\": 0.075, \"reported_acc_train\": 0.879662447257384, \"actual_acc_train\": 0.9478481012658228, \"reported_acc_test\": 0.810632911392405, \"actual_acc_test\": 0.8756118143459916}, {\"p_train\": 0.18947368421052632, \"p_test\": 0.3, \"reported_acc_train\": 0.800168776371308, \"actual_acc_train\": 0.929957805907173, \"reported_acc_test\": 0.6113080168776371, \"actual_acc_test\": 0.8661603375527426}, {\"p_train\": 0.3315789473684211, \"p_test\": 0.0, \"reported_acc_train\": 0.6886075949367089, \"actual_acc_train\": 0.8892827004219409, \"reported_acc_test\": 0.840337552742616, \"actual_acc_test\": 0.840337552742616}, {\"p_train\": 0.14210526315789473, \"p_test\": 0.075, \"reported_acc_train\": 0.840675105485232, \"actual_acc_train\": 0.9409282700421941, \"reported_acc_test\": 0.8052320675105485, \"actual_acc_test\": 0.870801687763713}, {\"p_train\": 0.9, \"p_test\": 0.3, \"reported_acc_train\": 0.5447257383966245, \"actual_acc_train\": 0.2481856540084388, \"reported_acc_test\": 0.19232067510548523, \"actual_acc_test\": 0.26919831223628693}, {\"p_train\": 0.5210526315789474, \"p_test\": 0.15, \"reported_acc_train\": 0.5654008438818565, \"actual_acc_train\": 0.8118143459915612, \"reported_acc_test\": 0.6669198312236287, \"actual_acc_test\": 0.7864135021097046}, {\"p_train\": 0.5684210526315789, \"p_test\": 0.075, \"reported_acc_train\": 0.5361181434599156, \"actual_acc_train\": 0.7837130801687764, \"reported_acc_test\": 0.7150210970464135, \"actual_acc_test\": 0.7740928270042194}, {\"p_train\": 0.6157894736842106, \"p_test\": 0.22499999999999998, \"reported_acc_train\": 0.5216877637130801, \"actual_acc_train\": 0.7559493670886076, \"reported_acc_test\": 0.579240506329114, \"actual_acc_test\": 0.7470042194092827}]}}, {\"mode\": \"vega-lite\"});\n",
       "</script>"
      ],
      "text/plain": [
       "alt.HConcatChart(...)"
      ]
     },
     "execution_count": 31,
     "metadata": {},
     "output_type": "execute_result"
    }
   ],
   "source": [
    "import altair as alt\n",
    "\n",
    "p1 = (alt.Chart(pltr)\n",
    "  .mark_line()\n",
    "  .encode(x='p_train', y='reported_acc_test', color=alt.Color('p_test'))\n",
    "  .properties(width=300, height=250, title=\"reported accuracy\")\n",
    "  .interactive())\n",
    "\n",
    "p2 = (alt.Chart(pltr)\n",
    "  .mark_line()\n",
    "  .encode(x='p_train', y='actual_acc_test', color=alt.Color('p_test'))\n",
    "  .properties(width=300, height=250, title=\"actual accuracy\")\n",
    "  .interactive())\n",
    "\n",
    "p1 | p2"
   ]
  },
  {
   "cell_type": "markdown",
   "metadata": {},
   "source": [
    "We can add a lot of noise without seeing it affect the actual test set prediction. The downside however is that this is not what we might measure, we measure the **reported** accuracy.\n",
    "\n",
    "## Use-Case in Real Life\n",
    "\n",
    "In reality we likely won't worry about 40% label errors, but a 1% label errors in the test set can still be horrible when we're doing hyperparameter tuning. So let's see if we can find the wrongly labelled datapoints if we compare the model output with the dataset."
   ]
  },
  {
   "cell_type": "code",
   "execution_count": 6,
   "metadata": {},
   "outputs": [
    {
     "data": {
      "text/html": [
       "<table border=\"1\" class=\"dataframe\">\n",
       "  <thead>\n",
       "    <tr style=\"text-align: right;\">\n",
       "      <th></th>\n",
       "      <th>text</th>\n",
       "      <th>label</th>\n",
       "      <th>flip_label</th>\n",
       "      <th>pred</th>\n",
       "      <th>score</th>\n",
       "    </tr>\n",
       "  </thead>\n",
       "  <tbody>\n",
       "    <tr>\n",
       "      <th>17548</th>\n",
       "      <td>what do i need to do in order to redeem my credit card points</td>\n",
       "      <td>redeem_rewards</td>\n",
       "      <td>are_you_a_bot</td>\n",
       "      <td>redeem_rewards</td>\n",
       "      <td>0.817966</td>\n",
       "    </tr>\n",
       "    <tr>\n",
       "      <th>10867</th>\n",
       "      <td>please let my bank know that i will be in uruguay from january to august</td>\n",
       "      <td>travel_notification</td>\n",
       "      <td>what_are_your_hobbies</td>\n",
       "      <td>travel_notification</td>\n",
       "      <td>0.833862</td>\n",
       "    </tr>\n",
       "    <tr>\n",
       "      <th>5860</th>\n",
       "      <td>how long will it take for me to get a new credit card to replace the one that was stolen</td>\n",
       "      <td>replacement_card_duration</td>\n",
       "      <td>oos</td>\n",
       "      <td>replacement_card_duration</td>\n",
       "      <td>0.834496</td>\n",
       "    </tr>\n",
       "    <tr>\n",
       "      <th>10821</th>\n",
       "      <td>please let my bank know that i will be in rome from february 1 to march 1</td>\n",
       "      <td>travel_notification</td>\n",
       "      <td>recipe</td>\n",
       "      <td>travel_notification</td>\n",
       "      <td>0.838342</td>\n",
       "    </tr>\n",
       "    <tr>\n",
       "      <th>14055</th>\n",
       "      <td>how do i change my pin number for my account, please</td>\n",
       "      <td>pin_change</td>\n",
       "      <td>sync_device</td>\n",
       "      <td>pin_change</td>\n",
       "      <td>0.859253</td>\n",
       "    </tr>\n",
       "  </tbody>\n",
       "</table>"
      ],
      "text/plain": [
       "<IPython.core.display.HTML object>"
      ]
     },
     "execution_count": 6,
     "metadata": {},
     "output_type": "execute_result"
    }
   ],
   "source": [
    "from IPython.core.display import HTML\n",
    "\n",
    "setting = \"train\"\n",
    "\n",
    "if setting == \"train\":\n",
    "    dataf = pd.DataFrame({\"text\": X_train, \"label\": y_train, \"flip_label\": y_train_flip})\n",
    "if setting == \"test\":\n",
    "    dataf = pd.DataFrame({\"text\": X_test, \"label\": y_test, \"flip_label\": y_test_flip})\n",
    "\n",
    "score_tbl = (dataf\n",
    " .assign(pred=lambda d: mod.predict(d['text']))\n",
    " .assign(score=lambda d: np.max(mod.predict_proba(d['text']), axis=1))\n",
    " .sort_values(\"score\"))\n",
    "\n",
    "HTML(score_tbl.loc[lambda d: d['flip_label'] != d['pred']].tail(5).to_html())"
   ]
  },
  {
   "cell_type": "code",
   "execution_count": 60,
   "metadata": {},
   "outputs": [],
   "source": [
    "from memo import memlist \n",
    "from sklearn.metrics import precision_score, recall_score \n",
    "\n",
    "data = []\n",
    "\n",
    "@memlist(data=data)\n",
    "def calc_curves(threshold=0.1):\n",
    "    \"\"\"Calculate the precision/recall curves.\"\"\"\n",
    "    pred_tbl = (score_tbl\n",
    "         .assign(detection=lambda d: d['flip_label'] != d['pred'])\n",
    "         .assign(detection=lambda d: d['detection'] & (d['score'] > threshold))\n",
    "         .assign(truth=lambda d: d['flip_label'] != d['label']))\n",
    "    return {\n",
    "        'precision': precision_score(pred_tbl['truth'], pred_tbl['detection']),\n",
    "        'recall': recall_score(pred_tbl['truth'], pred_tbl['detection']),\n",
    "        'n': pred_tbl['detection'].sum()\n",
    "    }\n",
    "\n",
    "\n",
    "for t in np.linspace(0.05, 0.85, 50):\n",
    "    calc_curves(threshold=t)\n",
    "    \n",
    "pltr = pd.DataFrame(data).loc[lambda d: d['n'] > 0]"
   ]
  },
  {
   "cell_type": "code",
   "execution_count": 61,
   "metadata": {
    "jupyter": {
     "source_hidden": true
    }
   },
   "outputs": [
    {
     "data": {
      "image/png": "[encoded data removed]",
      "text/plain": [
       "<Figure size 864x216 with 2 Axes>"
      ]
     },
     "metadata": {
      "needs_background": "light"
     },
     "output_type": "display_data"
    }
   ],
   "source": [
    "import matplotlib.pylab as plt\n",
    "\n",
    "pltr = pd.DataFrame(data)\n",
    "\n",
    "plt.figure(figsize=(12, 3))\n",
    "plt.subplot(121)\n",
    "plt.plot(pltr['threshold'], pltr['precision'], label=\"precision\")\n",
    "plt.plot(pltr['threshold'], pltr['recall'], label=\"recall\")\n",
    "plt.title(f\"precision vs recall\");\n",
    "plt.legend()\n",
    "plt.subplot(122)\n",
    "plt.plot(pltr['threshold'], pltr['n'], label=\"precision\")\n",
    "plt.title(f\"there are {(score_tbl['flip_label'] != score_tbl['label']).sum()} bad labels\");"
   ]
  },
  {
   "cell_type": "code",
   "execution_count": 33,
   "metadata": {
    "jupyter": {
     "source_hidden": true
    }
   },
   "outputs": [
    {
     "data": {
      "image/png": "[encoded data removed]",
      "text/plain": [
       "<Figure size 864x216 with 2 Axes>"
      ]
     },
     "metadata": {
      "needs_background": "light"
     },
     "output_type": "display_data"
    }
   ],
   "source": [
    "import matplotlib.pylab as plt\n",
    "\n",
    "pltr = pd.DataFrame(data)\n",
    "\n",
    "plt.figure(figsize=(12, 3))\n",
    "plt.subplot(121)\n",
    "plt.plot(pltr['threshold'], pltr['precision'], label=\"precision\")\n",
    "plt.plot(pltr['threshold'], pltr['recall'], label=\"recall\")\n",
    "plt.title(f\"precision vs recall\");\n",
    "plt.legend()\n",
    "plt.subplot(122)\n",
    "plt.plot(pltr['threshold'], pltr['n'], label=\"precision\")\n",
    "plt.title(f\"there are {(score_tbl['flip_label'] != score_tbl['label']).sum()} bad labels\");"
   ]
  }
 ],
 "metadata": {
  "kernelspec": {
   "display_name": "Python 3",
   "language": "python",
   "name": "python3"
  },
  "language_info": {
   "codemirror_mode": {
    "name": "ipython",
    "version": 3
   },
   "file_extension": ".py",
   "mimetype": "text/x-python",
   "name": "python",
   "nbconvert_exporter": "python",
   "pygments_lexer": "ipython3",
   "version": "3.7.9"
  }
 },
 "nbformat": 4,
 "nbformat_minor": 4
}
